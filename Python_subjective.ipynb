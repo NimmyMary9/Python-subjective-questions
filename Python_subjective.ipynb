{
 "cells": [
  {
   "cell_type": "markdown",
   "metadata": {},
   "source": [
    "## Remaining sums: 15, 16, 41, 42, 43, 44, 45, 46,  63, 76, 77, 89, 100, 121"
   ]
  },
  {
   "cell_type": "markdown",
   "metadata": {
    "colab_type": "text",
    "id": "3x3P6VNk6A46"
   },
   "source": [
    "###### Q1. Write a Python program to get the string from the given string where all the occurrence of its first char has been changed to $ except first char itself?\n",
    "\n",
    "Sample String: 'prospect'\n",
    "\n",
    "Expected Result : 'pros$ect'"
   ]
  },
  {
   "cell_type": "code",
   "execution_count": null,
   "metadata": {
    "colab": {},
    "colab_type": "code",
    "id": "BB1Pl0Wv6A4-"
   },
   "outputs": [],
   "source": [
    "import re\n",
    "input_string = input(\"Enter the string to be manipulated: \")"
   ]
  },
  {
   "cell_type": "code",
   "execution_count": null,
   "metadata": {
    "colab": {},
    "colab_type": "code",
    "id": "El7u5ued6A5F"
   },
   "outputs": [],
   "source": [
    "### Function does nothing, just for reference\n",
    "#def find_first(string, first_letter):\n",
    "#    return [i for i,letter in enumerate(input_string) if first_letter==letter]\n",
    "\n",
    "#letter_index = find_first(input_string, input_string[0])[1:]\n",
    "#letter_index"
   ]
  },
  {
   "cell_type": "code",
   "execution_count": null,
   "metadata": {
    "colab": {},
    "colab_type": "code",
    "id": "kY81h31-6A5L"
   },
   "outputs": [],
   "source": [
    "def replace(string):\n",
    "    return string[0]+string[1:].replace(string[0],'$')"
   ]
  },
  {
   "cell_type": "code",
   "execution_count": null,
   "metadata": {
    "colab": {},
    "colab_type": "code",
    "id": "dJfle1zK6A5Q"
   },
   "outputs": [],
   "source": [
    "replace(input_string)"
   ]
  },
  {
   "cell_type": "markdown",
   "metadata": {
    "colab_type": "text",
    "id": "aYtzv-Sn6A5V"
   },
   "source": [
    "###### Q2. Write a Python program to get the single string from the two given strings, and separated by the space and swap the first two  characters of each string?\n",
    "\n",
    "Sample String : 'abc', 'xyz'.\n",
    "\n",
    "Expected Result: 'xyc abz'"
   ]
  },
  {
   "cell_type": "code",
   "execution_count": null,
   "metadata": {
    "colab": {},
    "colab_type": "code",
    "id": "W1I8stLp6A5X"
   },
   "outputs": [],
   "source": [
    "input2= input(\"Enter any two words: \")\n",
    "input2"
   ]
  },
  {
   "cell_type": "code",
   "execution_count": null,
   "metadata": {
    "colab": {},
    "colab_type": "code",
    "id": "wkg2k0Li6A5d"
   },
   "outputs": [],
   "source": [
    "string1,string2=input2.split(' ')\n",
    "print(string1)\n",
    "print(string2)"
   ]
  },
  {
   "cell_type": "code",
   "execution_count": null,
   "metadata": {
    "colab": {},
    "colab_type": "code",
    "id": "Y9GQ4vHs6A5h"
   },
   "outputs": [],
   "source": [
    "new_string1=string2[:2]+string1[2:]\n",
    "new_string2=string1[:2]+string2[2:]\n",
    "print(new_string1,new_string2)"
   ]
  },
  {
   "cell_type": "markdown",
   "metadata": {
    "colab_type": "text",
    "id": "h-q-qy0l6A5m"
   },
   "source": [
    "##### Q3. Write the Python program to add 'ing' at the end of the given string (length of the string should be at least 3). If given string already ends with 'ing,' then add 'ly' instead. If string length of the given string is less than 3, leave it unchanged?\n",
    "\n",
    "Sample string: ' abc '\n",
    "\n",
    "Expected result: ' abcing '\n",
    "\n",
    "Sample string: ' string '\n",
    "\n",
    "Expected result: ' stringly '"
   ]
  },
  {
   "cell_type": "code",
   "execution_count": null,
   "metadata": {
    "colab": {},
    "colab_type": "code",
    "id": "mQk4kf1Y6A5o"
   },
   "outputs": [],
   "source": [
    "input3 = input(\"Enter a string: \")\n",
    "input3"
   ]
  },
  {
   "cell_type": "code",
   "execution_count": null,
   "metadata": {
    "colab": {},
    "colab_type": "code",
    "id": "3Ivk_nyS6A5s"
   },
   "outputs": [],
   "source": [
    "input3[-3:]"
   ]
  },
  {
   "cell_type": "code",
   "execution_count": null,
   "metadata": {
    "colab": {},
    "colab_type": "code",
    "id": "btjwMO_N6A5z"
   },
   "outputs": [],
   "source": [
    "if len(input3)< 3:\n",
    "    print(input3)\n",
    "else:\n",
    "    if input3[-3:]=='ing':\n",
    "        print(input3+'ly')\n",
    "    else:\n",
    "        print(input3+'ing')"
   ]
  },
  {
   "cell_type": "markdown",
   "metadata": {
    "colab_type": "text",
    "id": "H3uPn5nA6A54"
   },
   "source": [
    "######  4. Write the Python program to find the first appearance of the substring 'not' and 'poor' from the given string, if 'not' follows the 'poor', replace the whole 'not'...' poor' substring with 'good'.Return the resulting string.\n",
    "\n",
    "Sample string: 'The lyrics are not that poor!'\n",
    "\n",
    "'The lyrics are poor!'\n",
    "\n",
    "Expected Result: 'The lyrics are good!'\n",
    "\n",
    "'The lyrics are poor!'"
   ]
  },
  {
   "cell_type": "code",
   "execution_count": null,
   "metadata": {
    "colab": {},
    "colab_type": "code",
    "id": "VLQ01Nkm6A56"
   },
   "outputs": [],
   "source": [
    "input4 = input(\"Enter a sentence: \")\n",
    "input4"
   ]
  },
  {
   "cell_type": "code",
   "execution_count": null,
   "metadata": {
    "colab": {},
    "colab_type": "code",
    "id": "eXnalGtM6A5-"
   },
   "outputs": [],
   "source": [
    "if \"not\" in input4:\n",
    "    if \"poor\" in input4:\n",
    "        out = input4.split(\" \")\n",
    "        out.remove(\"not\")\n",
    "        out[out.index(\"poor\")] = \"good\"\n",
    "        print(*out)\n",
    "    else:\n",
    "        print(input4)\n",
    "else:\n",
    "    print(input4)"
   ]
  },
  {
   "cell_type": "markdown",
   "metadata": {
    "colab_type": "text",
    "id": "ny37tGn46A6C"
   },
   "source": [
    "###### 5. Write the Python program to remove the characters which have odd index values of a given string."
   ]
  },
  {
   "cell_type": "code",
   "execution_count": null,
   "metadata": {
    "colab": {},
    "colab_type": "code",
    "id": "7S_7eQXc6A6D"
   },
   "outputs": [],
   "source": [
    "input5 = input(\"Enter input string: \")\n",
    "input5"
   ]
  },
  {
   "cell_type": "code",
   "execution_count": null,
   "metadata": {
    "colab": {},
    "colab_type": "code",
    "id": "C6GR0yWZ6A6I"
   },
   "outputs": [],
   "source": [
    "out5=[]\n",
    "for index,elem in enumerate(input5):\n",
    "    if index%2==0:\n",
    "        out5.append(elem)\n",
    "out=\"\".join(out5)\n",
    "out"
   ]
  },
  {
   "cell_type": "markdown",
   "metadata": {
    "colab_type": "text",
    "id": "dT7N8rR26A6N"
   },
   "source": [
    "###### 6. Write the Python function to get a string made of 4 copies of the last two characters of the specified string (length must be at least 2).\n",
    "\n",
    "Sample function and result :\n",
    "\n",
    "insert-end ('Python') -> abababab\n",
    "\n",
    "insert-end('Exercises') -> jkjkjkjk"
   ]
  },
  {
   "cell_type": "code",
   "execution_count": null,
   "metadata": {
    "colab": {},
    "colab_type": "code",
    "id": "waQCOeZo6A6P"
   },
   "outputs": [],
   "source": [
    "def insert_end(char):\n",
    "    return char[-2:]*4"
   ]
  },
  {
   "cell_type": "code",
   "execution_count": null,
   "metadata": {
    "colab": {},
    "colab_type": "code",
    "id": "AFJOKhHB6A6T"
   },
   "outputs": [],
   "source": [
    "insert_end('Python')"
   ]
  },
  {
   "cell_type": "markdown",
   "metadata": {
    "colab_type": "text",
    "id": "yBnwH31S6A6Y"
   },
   "source": [
    "###### 7. Write the python function to get a string made of its first three characters of a specified string. If the length of the string is less than 3 then return the original string.\n",
    "\n",
    "Sample function and result :\n",
    "\n",
    "first-three('ipy') -> ipy\n",
    "\n",
    "first-three('python') -> pyt"
   ]
  },
  {
   "cell_type": "code",
   "execution_count": null,
   "metadata": {
    "colab": {},
    "colab_type": "code",
    "id": "8ovfeD7C6A6a"
   },
   "outputs": [],
   "source": [
    "def first_three(char):\n",
    "    if len(char) < 3:\n",
    "        return char\n",
    "    else:\n",
    "        return char[:3]"
   ]
  },
  {
   "cell_type": "code",
   "execution_count": null,
   "metadata": {
    "colab": {},
    "colab_type": "code",
    "id": "D2-kM0Na6A6f"
   },
   "outputs": [],
   "source": [
    "first_three('Python')"
   ]
  },
  {
   "cell_type": "code",
   "execution_count": null,
   "metadata": {
    "colab": {},
    "colab_type": "code",
    "id": "GaEgka0W6A6m"
   },
   "outputs": [],
   "source": [
    "first_three('sy')"
   ]
  },
  {
   "cell_type": "markdown",
   "metadata": {
    "colab_type": "text",
    "id": "QEz4rBPK6A6u"
   },
   "source": [
    "###### 8. Write the python program to print the following floating numbers up to 2 decimal places?"
   ]
  },
  {
   "cell_type": "code",
   "execution_count": null,
   "metadata": {
    "colab": {},
    "colab_type": "code",
    "id": "7g5h9PAv6A6x"
   },
   "outputs": [],
   "source": [
    "def decimal_place(float_num):\n",
    "    try:\n",
    "        return round(float_num,2)\n",
    "    except:\n",
    "        print(\"Not a number. Try again\")"
   ]
  },
  {
   "cell_type": "code",
   "execution_count": null,
   "metadata": {
    "colab": {},
    "colab_type": "code",
    "id": "ZF_L_64C6A61"
   },
   "outputs": [],
   "source": [
    "decimal_place(8.12837466)"
   ]
  },
  {
   "cell_type": "markdown",
   "metadata": {
    "colab_type": "text",
    "id": "RC8oIz-T6A66"
   },
   "source": [
    "###### 9. Write the Python program to format a number with a percentage?\n"
   ]
  },
  {
   "cell_type": "code",
   "execution_count": null,
   "metadata": {
    "colab": {},
    "colab_type": "code",
    "id": "iozDUsev6A67"
   },
   "outputs": [],
   "source": [
    "### If the input number is given in fraction form.\n",
    "def percent(num):\n",
    "    return \"The percentage is \" + \"{0:.2%}\".format(num)"
   ]
  },
  {
   "cell_type": "code",
   "execution_count": null,
   "metadata": {
    "colab": {},
    "colab_type": "code",
    "id": "Cz7u3bpW6A6_"
   },
   "outputs": [],
   "source": [
    "percent(1/3)"
   ]
  },
  {
   "cell_type": "code",
   "execution_count": null,
   "metadata": {
    "colab": {},
    "colab_type": "code",
    "id": "IJYI12Ab6A7F"
   },
   "outputs": [],
   "source": [
    "### If the number is simply a number and we need to append \"%\" sign, then below is the code.\n",
    "def percent2(num):\n",
    "    if type(num)=='int' or type(num)=='float':\n",
    "            num_per=str(num)+ '%'\n",
    "            return \"The percentage is \" + num_per\n",
    "    else:\n",
    "        print(\"Invalid number. Please try again\")"
   ]
  },
  {
   "cell_type": "code",
   "execution_count": null,
   "metadata": {
    "colab": {},
    "colab_type": "code",
    "id": "NI5r1dA96A7K"
   },
   "outputs": [],
   "source": [
    "type(25.08)"
   ]
  },
  {
   "cell_type": "code",
   "execution_count": null,
   "metadata": {
    "colab": {},
    "colab_type": "code",
    "id": "S5ydGTPZ6A7Q"
   },
   "outputs": [],
   "source": [
    "percent2('freak')"
   ]
  },
  {
   "cell_type": "markdown",
   "metadata": {
    "colab_type": "text",
    "id": "Dj2YieqM6A7T"
   },
   "source": [
    "###### 10. Write the Python program to count occurrences of a substring in a String?"
   ]
  },
  {
   "cell_type": "code",
   "execution_count": null,
   "metadata": {
    "colab": {},
    "colab_type": "code",
    "id": "7EwSR9c46A7U"
   },
   "outputs": [],
   "source": [
    "input10 = input(\"Enter the string: \")\n",
    "input10"
   ]
  },
  {
   "cell_type": "code",
   "execution_count": null,
   "metadata": {
    "colab": {},
    "colab_type": "code",
    "id": "X6hpJgVk6A7a"
   },
   "outputs": [],
   "source": [
    "input10.count('ab')"
   ]
  },
  {
   "cell_type": "markdown",
   "metadata": {
    "colab_type": "text",
    "id": "SSjWhqAq6A7d"
   },
   "source": [
    "###### 11.  Write the Python program to count repeated characters in a string.\n",
    "\n",
    "Sample string: ' thequickbrownjumpsoverthelazydog '\n",
    "\n",
    "Expected output:\n",
    "\n",
    "o 3\n",
    "\n",
    "e 3\n",
    "\n",
    "u 2\n",
    "\n",
    "h 2\n",
    "\n",
    "r 2\n",
    "\n",
    "t 2"
   ]
  },
  {
   "cell_type": "code",
   "execution_count": null,
   "metadata": {
    "colab": {},
    "colab_type": "code",
    "id": "bhh1tI1u6A7e"
   },
   "outputs": [],
   "source": [
    "input11 = input(\"Enter a string: \")\n",
    "input11"
   ]
  },
  {
   "cell_type": "code",
   "execution_count": null,
   "metadata": {
    "colab": {},
    "colab_type": "code",
    "id": "2I1HAk-76A7j"
   },
   "outputs": [],
   "source": [
    "### Ignore the block\n",
    "dict_check = {0:1, 1:7, 2:3, 3:2}\n",
    "print(dict_check)\n",
    "dict_check = {k:v for k,v in sorted(dict_check.items(), key=lambda x:x[1])}\n",
    "dict_check"
   ]
  },
  {
   "cell_type": "code",
   "execution_count": null,
   "metadata": {
    "colab": {},
    "colab_type": "code",
    "id": "ZPPIOibG6A7o"
   },
   "outputs": [],
   "source": [
    "#Actual code\n",
    "def count_char(string):\n",
    "    count_dict = {}\n",
    "    for i in input11:\n",
    "        if input11.count(i)>1:\n",
    "            count_dict[i]=input11.count(i)\n",
    "    count_dict = {k:v for k,v in sorted(count_dict.items(), key=lambda x:x[1], reverse=True)}\n",
    "    for k,v in count_dict.items():\n",
    "        print(k,\" \", v)        "
   ]
  },
  {
   "cell_type": "code",
   "execution_count": null,
   "metadata": {
    "colab": {},
    "colab_type": "code",
    "id": "P3r5uEB36A7s"
   },
   "outputs": [],
   "source": [
    "count_char(input11)"
   ]
  },
  {
   "cell_type": "markdown",
   "metadata": {
    "colab_type": "text",
    "id": "XxDeSBPE6A7v"
   },
   "source": [
    "###### 12. Write the Python program to print the square and cube symbol in the area of a rectangle and volume of a cylinder?\n",
    "\n",
    "Sample outputThe area of the rectangle is 1256.66cm2\n",
    "\n",
    "The volume of the cylinder is 1254.725cm"
   ]
  },
  {
   "cell_type": "code",
   "execution_count": null,
   "metadata": {
    "colab": {},
    "colab_type": "code",
    "id": "5ndeiEj06A7w"
   },
   "outputs": [],
   "source": [
    "#### 2*π*r**2 + 2*π*r*h\n",
    "#### pi*r**2*h"
   ]
  },
  {
   "cell_type": "code",
   "execution_count": null,
   "metadata": {
    "colab": {},
    "colab_type": "code",
    "id": "Oewbs44F6A7z"
   },
   "outputs": [],
   "source": [
    "import math\n",
    "def square_cube(radius, height):\n",
    "    area= 2*math.pi*(radius**2) + 2*math.pi*radius*height\n",
    "    volume = math.pi*(radius**2)*height\n",
    "    decimals = 2\n",
    "    print ('The area of cylinder is {0:.{1}f}cm\\u00b2'.format(area,decimals))\n",
    "    print ('The volume of cylinder is {0:.{1}f}cm\\u00b3'.format(volume,decimals))"
   ]
  },
  {
   "cell_type": "code",
   "execution_count": null,
   "metadata": {
    "colab": {},
    "colab_type": "code",
    "id": "kEIy4Mdt6A74"
   },
   "outputs": [],
   "source": [
    "square_cube(3,4)"
   ]
  },
  {
   "cell_type": "markdown",
   "metadata": {
    "colab_type": "text",
    "id": "Qwt9VPC36A78"
   },
   "source": [
    "###### Q13. Write the Python program to check if a string contains all letters of the alphabet?"
   ]
  },
  {
   "cell_type": "code",
   "execution_count": null,
   "metadata": {
    "colab": {},
    "colab_type": "code",
    "id": "a72v0NsQ6A7_",
    "outputId": "a35780d4-85e3-45b4-93ad-ac59abc836c1"
   },
   "outputs": [],
   "source": [
    "a=ord('A')  #Returns unicode for one character string.\n",
    "print(a)\n",
    "alph=[chr(i) for i in range(a,a+26)]\n",
    "print(alph)"
   ]
  },
  {
   "cell_type": "code",
   "execution_count": null,
   "metadata": {
    "colab": {},
    "colab_type": "code",
    "id": "Hr0jMrXt6A8E"
   },
   "outputs": [],
   "source": [
    "### A trial program\n",
    "def alpha_check(string):\n",
    "    a_low = ord('a')\n",
    "    alpha_lower = [chr(i) for i in range(a_low,a_low+26)]\n",
    "    flag = 0\n",
    "    for i in alpha_lower:\n",
    "        if i not in string.lower():\n",
    "            print (\"All alphabets not present in the string\")\n",
    "            break\n",
    "        else:\n",
    "            flag+=1\n",
    "            continue\n",
    "    if flag == 26:\n",
    "        return (\"All alphabets are present\")"
   ]
  },
  {
   "cell_type": "code",
   "execution_count": null,
   "metadata": {
    "colab": {},
    "colab_type": "code",
    "id": "xAMSnFPe6A8H"
   },
   "outputs": [],
   "source": [
    "alpha_check('qaswzxedc')"
   ]
  },
  {
   "cell_type": "markdown",
   "metadata": {
    "colab_type": "text",
    "id": "MbFzWAT36A8J"
   },
   "source": [
    "###### 14. Write the Python program to find the second most repeated word in a given string?\n"
   ]
  },
  {
   "cell_type": "code",
   "execution_count": null,
   "metadata": {
    "colab": {},
    "colab_type": "code",
    "id": "-FJ-PZkN6A8K"
   },
   "outputs": [],
   "source": [
    "input14  = input('Enter a string: ')"
   ]
  },
  {
   "cell_type": "code",
   "execution_count": null,
   "metadata": {
    "colab": {},
    "colab_type": "code",
    "id": "w91ZIKkL6A8O"
   },
   "outputs": [],
   "source": [
    "count_dict = {}\n",
    "for i in input14:\n",
    "    count_dict[i]=input14.count(i)\n",
    "count_list = sorted(count_dict.items(), key=lambda x:x[1], reverse=True)\n",
    "print(count_list)\n",
    "count_list[1]"
   ]
  },
  {
   "cell_type": "markdown",
   "metadata": {
    "colab_type": "text",
    "id": "EBYOnt5Y6A8S"
   },
   "source": [
    "Question for Sudhanshu sir: how to create a program to print all the letters in a given string which is repeating second most frequently\n",
    "For eg: abbcccddddeeeeffffff\n",
    "Here both d and e letters are second most repeated word. Anyway to print all?"
   ]
  },
  {
   "cell_type": "markdown",
   "metadata": {
    "colab_type": "text",
    "id": "vCg9CzIC6A8U"
   },
   "source": [
    "\n",
    "###### 15. Write the Python program to find the minimum window in the given string, which will contains all the characters of another given strings?\n",
    "\n",
    "Example 1\n",
    "\n",
    "Input : string1 = \" PRWSOERIUSFK \"\n",
    "\n",
    "string2 = \" OSU \"\n",
    "\n",
    "Output: Minimum window is \"OERIUS\"\n"
   ]
  },
  {
   "cell_type": "code",
   "execution_count": null,
   "metadata": {
    "colab": {},
    "colab_type": "code",
    "id": "Fw7VObiA6A8d"
   },
   "outputs": [],
   "source": [
    "import re"
   ]
  },
  {
   "cell_type": "code",
   "execution_count": null,
   "metadata": {
    "colab": {},
    "colab_type": "code",
    "id": "nIqqpd546A8o",
    "outputId": "cd3e2d06-08fe-4b14-a792-a7de54c7d1f5"
   },
   "outputs": [],
   "source": [
    "ord('A')"
   ]
  },
  {
   "cell_type": "code",
   "execution_count": null,
   "metadata": {},
   "outputs": [],
   "source": [
    "string = input(\"Enter string:\" )\n",
    "pat = input(\"Enter pat: \")"
   ]
  },
  {
   "cell_type": "code",
   "execution_count": null,
   "metadata": {
    "colab": {},
    "colab_type": "code",
    "id": "4FwPb7xx6A8u",
    "outputId": "273a2e44-8c55-4754-952b-231749286bd5"
   },
   "outputs": [],
   "source": [
    "no_of_chars = 256\n",
    "  \n",
    "# Function to find smallest window  \n",
    "# containing all characters of 'pat'  \n",
    "len1 = len(string)  \n",
    "len2 = len(pat)  \n",
    "  \n",
    "    # check if string's length is less than pattern's  \n",
    "    # length. If yes then no such window can exist  \n",
    "if len1 < len2:  \n",
    "    print(\"No such window exists\")  \n",
    "    print (\"\")\n",
    "\n",
    "hash_pat = [0] * no_of_chars \n",
    "hash_str = [0] * no_of_chars  \n",
    "  \n",
    "# store occurrence ofs characters of pattern  \n",
    "for i in range(0, len2):  \n",
    "    hash_pat[ord(pat[i])] += 1\n",
    "    \n",
    "start, start_index, min_len = 0, -1, float('inf')  \n",
    "  \n",
    "# start traversing the string  \n",
    "count = 0 # count of characters  \n",
    "for j in range(0, len1):  \n",
    "    # count occurrence of characters of string  \n",
    "    hash_str[ord(string[j])] += 1\n",
    "     # If string's char matches with  pattern's char then increment count  \n",
    "    if (hash_pat[ord(string[j])] != 0 and hash_str[ord(string[j])] <= hash_pat[ord(string[j])]):  \n",
    "        count += 1\n",
    "  \n",
    "        # if all the characters are matched  \n",
    "    if count == len2:\n",
    "         # Try to minimize the window i.e., check if  \n",
    "            # any character is occurring more no. of times  \n",
    "            # than its occurrence in pattern, if yes  \n",
    "            # then remove it from starting and also remove  \n",
    "            # the useless characters.  \n",
    "        while (hash_str[ord(string[start])] > hash_pat[ord(string[start])] or hash_pat[ord(string[start])] == 0):  \n",
    "            if (hash_str[ord(string[start])] >  hash_pat[ord(string[start])]):  \n",
    "                hash_str[ord(string[start])] -= 1\n",
    "                start += 1\n",
    "            len_window = j - start + 1\n",
    "        if min_len > len_window:  \n",
    "            min_len = len_window  \n",
    "            start_index = start  \n",
    "  \n",
    "    # If no window found  \n",
    "if start_index == -1: \n",
    "    print(\"No such window exists\")  \n",
    "    print (\"\")  \n",
    "      \n",
    "    # Return substring starting from  \n",
    "    # start_index and length min_len  \n",
    "print (string[start_index : start_index + min_len])\n"
   ]
  },
  {
   "cell_type": "code",
   "execution_count": null,
   "metadata": {},
   "outputs": [],
   "source": [
    "missing = 3\n",
    "print (not missing)\n",
    "result_char={'O': 1, 'S': 1, 'U': 1}\n",
    "print(result_char['O'])"
   ]
  },
  {
   "cell_type": "code",
   "execution_count": null,
   "metadata": {},
   "outputs": [],
   "source": [
    "!pip install pixiedust"
   ]
  },
  {
   "cell_type": "code",
   "execution_count": null,
   "metadata": {},
   "outputs": [],
   "source": [
    "import pixiedust"
   ]
  },
  {
   "cell_type": "code",
   "execution_count": null,
   "metadata": {
    "pixiedust": {
     "displayParams": {}
    }
   },
   "outputs": [],
   "source": [
    "### Solution from answers provided\n",
    "import collections \n",
    "def min_window(str1, str2): \n",
    "    result_char, missing_char = collections.Counter(str2), len(str2)\n",
    "    print(result_char)\n",
    "    print(missing_char)\n",
    "    i = p = q = 0 \n",
    "    for j, c in enumerate(str1, 1): \n",
    "        missing_char -= result_char[c] > 0 # condition to carry out subtraction only when subtraction value is greater than 0\n",
    "        # to cover all characters in 2nd char\n",
    "        result_char[c] -= 1 \n",
    "        print(missing_char, result_char)\n",
    "        if not missing_char:\n",
    "            #print(i,p,q,j)\n",
    "            while i < q and result_char[str1[i]] < 0: \n",
    "                result_char[str1[i]] -= 1 \n",
    "                i += 1 \n",
    "            if not q or j - i <= q - p: \n",
    "                p, q = i, j \n",
    "    return str1[p:q]\n",
    "\n",
    "print(min_window('PRWSOERIUSFK', 'OSU'))"
   ]
  },
  {
   "cell_type": "code",
   "execution_count": null,
   "metadata": {},
   "outputs": [],
   "source": [
    "str1 = 'PRWSOERIUSFK'\n",
    "list(enumerate(str1, 1))"
   ]
  },
  {
   "cell_type": "code",
   "execution_count": null,
   "metadata": {},
   "outputs": [],
   "source": [
    "min_window('PRWSOERIUSFK', 'OSU')"
   ]
  },
  {
   "cell_type": "code",
   "execution_count": null,
   "metadata": {
    "colab": {},
    "colab_type": "code",
    "id": "OLagCuoZ6A8z"
   },
   "outputs": [],
   "source": [
    "pat='OSU'\n",
    "string = 'PRWSOERIUSFK'"
   ]
  },
  {
   "cell_type": "markdown",
   "metadata": {
    "colab_type": "text",
    "id": "9SioMthl6A84"
   },
   "source": [
    "###### Q16. Write the Python program to find smallest window that contains all characters of the given string?"
   ]
  },
  {
   "cell_type": "code",
   "execution_count": 27,
   "metadata": {},
   "outputs": [
    {
     "name": "stdout",
     "output_type": "stream",
     "text": [
      "defaultdict(<function <lambda> at 0x0000027D09A95B70>, {})\n"
     ]
    }
   ],
   "source": [
    "curr_count = defaultdict(lambda: 0)\n",
    "print(curr_count)"
   ]
  },
  {
   "cell_type": "code",
   "execution_count": 41,
   "metadata": {
    "colab": {},
    "colab_type": "code",
    "id": "Y22Nqa2N6A86"
   },
   "outputs": [],
   "source": [
    "### solution from subjective answers\n",
    "\n",
    "from collections import defaultdict\n",
    "def find_sub_string(str): \n",
    "    str_len = len(str)\n",
    "    print(str_len)\n",
    "    # Count all distinct characters. \n",
    "    dist_count_char = len(set([x for x in str]))\n",
    "    ctr, start_pos, start_pos_index, min_len = 0, 0, -1, 9999999999 \n",
    "    curr_count = defaultdict(lambda: 0) ### This will create an empty dictionary\n",
    "    \n",
    "    for i in range(str_len):\n",
    "        # print(\"i\", i)\n",
    "        curr_count[str[i]] += 1 ## For each character in a string, this will count the occurence of character in the string\n",
    "        if curr_count[str[i]] == 1: \n",
    "            ctr += 1\n",
    "        #print(\"ctr\", ctr) ## ctr will be equal to the length of distinct characters in a string at the loop's end\n",
    "        if ctr == dist_count_char: # This step will be executed at the loop's end only\n",
    "            while curr_count[str[start_pos]] > 1: ### For characters that are repeating more than once in a string\n",
    "                if curr_count[str[start_pos]] > 1: \n",
    "                    curr_count[str[start_pos]] -= 1 ### decreasing the counter for the character in 0th position in first run \n",
    "                    #if count for 0th position is greater than 1\n",
    "                start_pos += 1 #increasing the position\n",
    "                #print(\"start_pos\", start_pos)\n",
    "                len_window = i - start_pos + 1 \n",
    "                #print(\"len_window\",len_window)\n",
    "                if min_len > len_window: ## For first occurence min_len will always be greater [9999999999] than len_window \n",
    "                    min_len = len_window \n",
    "                    start_pos_index = start_pos ## This is for considering the 1st character that repeats only once in the - \n",
    "                    # - string as the strings before the start_pos_index was repeating and come up later during iteration.\n",
    "    \n",
    "    return str[start_pos_index: start_pos_index + min_len]"
   ]
  },
  {
   "cell_type": "code",
   "execution_count": 42,
   "metadata": {
    "colab": {},
    "colab_type": "code",
    "id": "ii-U3jMF6A89"
   },
   "outputs": [
    {
     "name": "stdout",
     "output_type": "stream",
     "text": [
      "Original Strings:\n",
      " asdaewsqgtwwsa\n",
      "\n",
      "Smallest window that contains all characters of the said string:\n",
      "14\n",
      "daewsqgt\n"
     ]
    }
   ],
   "source": [
    "str1 = \"asdaewsqgtwwsa\" \n",
    "print(\"Original Strings:\\n\",str1)\n",
    "print(\"\\nSmallest window that contains all characters of the said string:\") \n",
    "print(find_sub_string(str1))"
   ]
  },
  {
   "cell_type": "markdown",
   "metadata": {
    "colab_type": "text",
    "id": "XO3tmLbN6A9C"
   },
   "source": [
    "###### Q17. Write the Python program to count number of substrings from a given string of lowercase alphabets with exactly k distinct (given) characters?\n",
    "\n",
    "Input a string (lowercase alphabets): wolf\n",
    "\n",
    "Input k: 4\n",
    "\n",
    "Number of substrings with exactly 4 distinct characters: 1"
   ]
  },
  {
   "cell_type": "code",
   "execution_count": null,
   "metadata": {
    "colab": {},
    "colab_type": "code",
    "id": "UVftj-Mq6A9D",
    "outputId": "fc41440f-c35f-484e-b72c-e39639e91177"
   },
   "outputs": [],
   "source": [
    "string17 = input(\"Enter a string: \")"
   ]
  },
  {
   "cell_type": "code",
   "execution_count": null,
   "metadata": {
    "colab": {},
    "colab_type": "code",
    "id": "TtchLB-36A9G",
    "outputId": "4ffc3ae6-edcd-4cef-a12f-755323839370"
   },
   "outputs": [],
   "source": [
    "k = int(input(\"Enter number of unique elements: \"))"
   ]
  },
  {
   "cell_type": "code",
   "execution_count": null,
   "metadata": {
    "colab": {},
    "colab_type": "code",
    "id": "DKColARm6A9I",
    "outputId": "4285aa5c-e8e2-48d0-bd99-1a86de14fc61"
   },
   "outputs": [],
   "source": [
    "set_string17= {i for i in string17}\n",
    "list_string17=list(set_string17)\n",
    "list_string17"
   ]
  },
  {
   "cell_type": "code",
   "execution_count": null,
   "metadata": {
    "colab": {},
    "colab_type": "code",
    "id": "wmUufRRS6A9N",
    "outputId": "baa1dd88-3911-419c-fe9f-90643a23d0bd"
   },
   "outputs": [],
   "source": [
    "from itertools import combinations,permutations\n",
    "final_list = list(combinations(list_string17, k))\n",
    "final_permutation = list(permutations(list_string17,k))\n",
    "print(final_list)\n",
    "print(len(final_permutation))\n",
    "print(\"Number of substrings with exactly \" + str(k) + \" distinct characters: \" + str(len(final_list)))"
   ]
  },
  {
   "cell_type": "markdown",
   "metadata": {
    "colab_type": "text",
    "id": "3Nkxp9-V6A9Q"
   },
   "source": [
    "###### Q18. Write the Python program to count number of non-empty substrings of the given string?\n",
    "\n",
    "Input a string: w3resource\n",
    "\n",
    "Number of substrings:\n",
    "\n",
    "55"
   ]
  },
  {
   "cell_type": "code",
   "execution_count": null,
   "metadata": {
    "colab": {},
    "colab_type": "code",
    "id": "ZbTLW1TB6A9R",
    "outputId": "cfd9ef25-6716-476a-b805-3f44d2c59aa3"
   },
   "outputs": [],
   "source": [
    "string18 = input(\"Enter a string: \")"
   ]
  },
  {
   "cell_type": "code",
   "execution_count": null,
   "metadata": {
    "colab": {},
    "colab_type": "code",
    "id": "ZJ1oXYvS6A9V"
   },
   "outputs": [],
   "source": [
    "out18=[string18[x:y] for x, y in combinations(range(len(string18) + 1), r = 2)]"
   ]
  },
  {
   "cell_type": "code",
   "execution_count": null,
   "metadata": {
    "colab": {},
    "colab_type": "code",
    "id": "dE0osrOt6A9Y",
    "outputId": "53c084a4-7a14-4e69-9b7f-58fcd01a3abe"
   },
   "outputs": [],
   "source": [
    "len(set(out18))"
   ]
  },
  {
   "cell_type": "code",
   "execution_count": null,
   "metadata": {
    "colab": {},
    "colab_type": "code",
    "id": "KaD5kk3q6A9b",
    "outputId": "efbdd983-af16-48e0-9dce-6bdf1ca35a9d"
   },
   "outputs": [],
   "source": [
    "print(list(combinations(range(len(string18) + 1), r = 2)))"
   ]
  },
  {
   "cell_type": "markdown",
   "metadata": {
    "colab_type": "text",
    "id": "wKYQF3_u6A9i"
   },
   "source": [
    "###### Q19. Write the Python program to count number of substrings with same first and last characters of the given string?\n",
    "\n",
    "Input a string: abcd\n",
    "\n",
    "4\n"
   ]
  },
  {
   "cell_type": "code",
   "execution_count": null,
   "metadata": {
    "colab": {},
    "colab_type": "code",
    "id": "iLl7Zht86A9i",
    "outputId": "4d60e358-4a13-43af-cea8-0ecab428a8f5"
   },
   "outputs": [],
   "source": [
    "string19 = input(\"Enter the string: \")"
   ]
  },
  {
   "cell_type": "code",
   "execution_count": null,
   "metadata": {
    "colab": {},
    "colab_type": "code",
    "id": "fnnDt4Y-6A9l",
    "outputId": "3b196642-4b38-4961-f55e-d83ef191f85c"
   },
   "outputs": [],
   "source": [
    "string19_1 = [i for i in string19]\n",
    "string19_1"
   ]
  },
  {
   "cell_type": "code",
   "execution_count": null,
   "metadata": {
    "colab": {},
    "colab_type": "code",
    "id": "uQ0Y1Y1X6A9o",
    "outputId": "ea2d6978-ccbe-4222-bda1-b37624aa216e"
   },
   "outputs": [],
   "source": [
    "print(list(combinations(string19_1,3)))"
   ]
  },
  {
   "cell_type": "code",
   "execution_count": null,
   "metadata": {
    "colab": {},
    "colab_type": "code",
    "id": "ygvYo70K6A9r"
   },
   "outputs": [],
   "source": [
    "list_string19 = []\n",
    "for i in range(2, len(string19_1)+1):\n",
    "    [list_string19.append(i) for i in list(combinations(string19_1,i))]\n",
    "    "
   ]
  },
  {
   "cell_type": "code",
   "execution_count": null,
   "metadata": {
    "colab": {},
    "colab_type": "code",
    "id": "qR9_abMJ6A9t",
    "outputId": "dda7946d-a9d7-4429-f59f-613976a7eedb"
   },
   "outputs": [],
   "source": [
    "print(list_string19)"
   ]
  },
  {
   "cell_type": "code",
   "execution_count": null,
   "metadata": {
    "colab": {},
    "colab_type": "code",
    "id": "r7HMNV6K6A9z",
    "outputId": "d27000cc-baf2-4c38-e292-667edae9fe34"
   },
   "outputs": [],
   "source": [
    "#### Logic check\n",
    "if (string19[0] in list_string19[2], string19[-1] in list_string19[2]):\n",
    "    print(\"YEs\")\n",
    "else:\n",
    "    print (\"No\")"
   ]
  },
  {
   "cell_type": "code",
   "execution_count": null,
   "metadata": {
    "colab": {},
    "colab_type": "code",
    "id": "awhIAWrq6A92",
    "outputId": "9778d02b-6c03-4dba-e337-dda177f09e96"
   },
   "outputs": [],
   "source": [
    "if string19_1[0] in list_string19[2] and string19_1[-1] in list_string19[2]:\n",
    "         print(\"YEs\")\n",
    "else:\n",
    "    print (\"No\")"
   ]
  },
  {
   "cell_type": "code",
   "execution_count": null,
   "metadata": {
    "colab": {},
    "colab_type": "code",
    "id": "irjzcH0c6A98",
    "outputId": "275cc6d7-0a20-4880-b32b-3500d65cb338"
   },
   "outputs": [],
   "source": [
    "counter_first_last = 0\n",
    "for i in range(len(list_string19)):\n",
    "    if string19_1[0] in list_string19[i] and string19_1[-1] in list_string19[i]:\n",
    "        counter_first_last+=1\n",
    "    else:\n",
    "        continue\n",
    "counter_first_last"
   ]
  },
  {
   "cell_type": "markdown",
   "metadata": {
    "colab_type": "text",
    "id": "qk4qcOiW6A9-"
   },
   "source": [
    "##### Q20. Write the Python program to count the number of strings where the string length is 2 or more, and first and last character are same from a given list of strings."
   ]
  },
  {
   "cell_type": "markdown",
   "metadata": {
    "colab_type": "text",
    "id": "Al7XqYPZ6A9_"
   },
   "source": [
    "Sample List : ['abc', 'xyz', 'wxw', '1331']\n",
    "\n",
    "Expected Result: 2"
   ]
  },
  {
   "cell_type": "code",
   "execution_count": null,
   "metadata": {
    "colab": {},
    "colab_type": "code",
    "id": "KFOfsrT_6A-A",
    "outputId": "8df2be92-908f-442b-cfbd-1e3e43a59f93"
   },
   "outputs": [],
   "source": [
    "string20 = input(\"Enter the list of strings: \")\n",
    "string20"
   ]
  },
  {
   "cell_type": "code",
   "execution_count": null,
   "metadata": {
    "colab": {},
    "colab_type": "code",
    "id": "_aMIljky6A-E",
    "outputId": "4974c240-65b8-416c-c1a0-809a411106ab"
   },
   "outputs": [],
   "source": [
    "list_20 = string20.split(\",\")\n",
    "list_20"
   ]
  },
  {
   "cell_type": "code",
   "execution_count": null,
   "metadata": {
    "colab": {},
    "colab_type": "code",
    "id": "sCl7rhzz6A-K",
    "outputId": "3a5bbf27-4676-49e7-d8e8-c097b8d48ecc"
   },
   "outputs": [],
   "source": [
    "# one way\n",
    "count=0\n",
    "for i in list_20:\n",
    "    if i[0]==i[-1]:\n",
    "        count=count+1\n",
    "count"
   ]
  },
  {
   "cell_type": "code",
   "execution_count": null,
   "metadata": {
    "colab": {},
    "colab_type": "code",
    "id": "37LPGA7_6A-T",
    "outputId": "f771ffb0-e505-4f58-f9f7-1f39f663274e"
   },
   "outputs": [],
   "source": [
    "# second way\n",
    "mod_list20=[i for i in list_20 if i[0]==i[-1]]\n",
    "len(mod_list20)"
   ]
  },
  {
   "cell_type": "markdown",
   "metadata": {
    "colab_type": "text",
    "id": "diShn1tz6A-Y"
   },
   "source": [
    "###### Q21. Write the Python program to get a list, sorted in increasing order by the last element in each tuple from the given list of non-empty tuples?\n",
    "\n",
    "Sample List - [ (2, 5), (1, 2), (4, 4), (2, 3), (2, 1) ]\n",
    "\n",
    "Expected Result - [ (2, 1), (1, 2), (2, 3), (4, 4), (2, 5) ]"
   ]
  },
  {
   "cell_type": "code",
   "execution_count": null,
   "metadata": {
    "colab": {},
    "colab_type": "code",
    "id": "NhvYE5oB6A-a",
    "outputId": "deecc7cb-5792-4e5d-bdb7-67c6aa3b002b"
   },
   "outputs": [],
   "source": [
    "string21=input(\"Enter the list of tuples: \")\n",
    "string21"
   ]
  },
  {
   "cell_type": "code",
   "execution_count": null,
   "metadata": {
    "colab": {},
    "colab_type": "code",
    "id": "egjA6EHc6A-g",
    "outputId": "0a1ab130-41b6-4259-d2c8-0193ea576160"
   },
   "outputs": [],
   "source": [
    "string21.split(\"),(\")[1].replace(\")\",\"\").replace(\"(\",\"\")"
   ]
  },
  {
   "cell_type": "code",
   "execution_count": null,
   "metadata": {
    "colab": {},
    "colab_type": "code",
    "id": "kynZv8m36A-m",
    "outputId": "eebac7e6-bb3d-49a9-eac8-20a9b4447138"
   },
   "outputs": [],
   "source": [
    "list_tuples = []\n",
    "for i in string21.split(\"),(\"): ##### this will give you output: ['(2,5', '1,2', '4,4','2,3','2,1)']\n",
    "    i = i.replace(\")\",\"\").replace(\"(\",\"\") ### replace (2,5 to 2,5; 1,2 to 1,2; 4,4 to 4,4; 2,1) to 2,1 and reassign to i for\n",
    "    # each iteration\n",
    "    list_tuples.append(tuple(i.split(\",\")))\n",
    "list_tuples"
   ]
  },
  {
   "cell_type": "code",
   "execution_count": null,
   "metadata": {
    "colab": {},
    "colab_type": "code",
    "id": "9cSaWj-q6A-q",
    "outputId": "5d01a9c5-d3e3-46d2-ae08-fa094dad4a2b"
   },
   "outputs": [],
   "source": [
    "sorted(list_tuples, key=lambda x: x[1])"
   ]
  },
  {
   "cell_type": "markdown",
   "metadata": {
    "colab_type": "text",
    "id": "Hegh7ZhB6A-u"
   },
   "source": [
    "###### Q22. Write the Python program to remove duplicates from a list?"
   ]
  },
  {
   "cell_type": "code",
   "execution_count": null,
   "metadata": {
    "colab": {},
    "colab_type": "code",
    "id": "CIpAV1Qx6A-v"
   },
   "outputs": [],
   "source": [
    "def no_dup(inlist):\n",
    "    return list(set(inlist))"
   ]
  },
  {
   "cell_type": "code",
   "execution_count": null,
   "metadata": {
    "colab": {},
    "colab_type": "code",
    "id": "2AZ6mE5T6A-z",
    "outputId": "bf853452-4d35-486a-d461-d2e48d54132a"
   },
   "outputs": [],
   "source": [
    "no_dup([1,2,3,4,2,3,3,1,2,5])"
   ]
  },
  {
   "cell_type": "markdown",
   "metadata": {
    "colab_type": "text",
    "id": "JHlSbRfz6A-1"
   },
   "source": [
    "###### Q23. Write the Python program to find the list of words that are longer than n from a given list of words?"
   ]
  },
  {
   "cell_type": "code",
   "execution_count": null,
   "metadata": {
    "colab": {},
    "colab_type": "code",
    "id": "zCMX7X3A6A-1",
    "outputId": "60ea057e-58e6-4b68-8fe8-1de24104ee0d"
   },
   "outputs": [],
   "source": [
    "string23 = input(\"Enter list of strings: \")"
   ]
  },
  {
   "cell_type": "code",
   "execution_count": null,
   "metadata": {
    "colab": {},
    "colab_type": "code",
    "id": "NWNbxVdI6A-9",
    "outputId": "f2f68807-ebb0-4642-9fd1-503718fc7b55"
   },
   "outputs": [],
   "source": [
    "list23=[i.strip() for i in string23.split(\",\")]\n",
    "list23"
   ]
  },
  {
   "cell_type": "code",
   "execution_count": null,
   "metadata": {
    "colab": {},
    "colab_type": "code",
    "id": "pKQRYLmG6A_K",
    "outputId": "346da796-6ba9-437b-bae1-f535539aa6ee"
   },
   "outputs": [],
   "source": [
    "k = int(input(\"Enter the length limit: \"))"
   ]
  },
  {
   "cell_type": "code",
   "execution_count": null,
   "metadata": {
    "colab": {},
    "colab_type": "code",
    "id": "QFdNwTns6A_R",
    "outputId": "17dcc0f5-97e0-4899-c11c-ca9d2c743a95"
   },
   "outputs": [],
   "source": [
    "list(filter(lambda x: len(x) > 3, list23))"
   ]
  },
  {
   "cell_type": "markdown",
   "metadata": {
    "colab_type": "text",
    "id": "JsPRsBS16A_b"
   },
   "source": [
    "###### Q24. Write the Python program to print a specified list after removing the 0th, 4th, and 5th elements?\n",
    "\n",
    "Sample List - ['Red', 'Green', 'White', 'Black', 'Pink', 'Yellow']\n",
    "\n",
    "Expected Output - ['Green', 'White', 'Black']"
   ]
  },
  {
   "cell_type": "code",
   "execution_count": null,
   "metadata": {
    "colab": {},
    "colab_type": "code",
    "id": "VGxRJjpx6A_d",
    "outputId": "e39be8ce-d4ae-44b5-b047-c8728430d185"
   },
   "outputs": [],
   "source": [
    "string24 = input(\"Enter enter list of strings: \")"
   ]
  },
  {
   "cell_type": "code",
   "execution_count": null,
   "metadata": {
    "colab": {},
    "colab_type": "code",
    "id": "yTzfj5TU6A_i"
   },
   "outputs": [],
   "source": [
    "list24 = string24.split(\",\")"
   ]
  },
  {
   "cell_type": "code",
   "execution_count": null,
   "metadata": {
    "colab": {},
    "colab_type": "code",
    "id": "OYtbkZL26A_k",
    "outputId": "cd3e1215-9a8c-43a2-c13f-b43d1820db64"
   },
   "outputs": [],
   "source": [
    "for k in range(len(list24),-1,-1):\n",
    "    if k in (0,4,5):\n",
    "        list24.pop(k)\n",
    "    \n",
    "list24"
   ]
  },
  {
   "cell_type": "markdown",
   "metadata": {
    "colab_type": "text",
    "id": "oqYqNqgW6A_m"
   },
   "source": [
    "##### Q25. Write the Python program to generate all permutations of a list in Python?"
   ]
  },
  {
   "cell_type": "code",
   "execution_count": null,
   "metadata": {
    "colab": {},
    "colab_type": "code",
    "id": "XOrrI8JP6A_n",
    "outputId": "f26f9326-be7a-4f90-ead6-bda7703ecf72"
   },
   "outputs": [],
   "source": [
    "string25 = input(\"Enter the list of strings: \")\n",
    "string25"
   ]
  },
  {
   "cell_type": "code",
   "execution_count": null,
   "metadata": {
    "colab": {},
    "colab_type": "code",
    "id": "PsrkTZfm6A_q",
    "outputId": "af8c8340-5b7f-4498-dfaa-75b2716d305e"
   },
   "outputs": [],
   "source": [
    "list25=string25.split(\",\")\n",
    "list25"
   ]
  },
  {
   "cell_type": "code",
   "execution_count": null,
   "metadata": {
    "colab": {},
    "colab_type": "code",
    "id": "vpryhRk-6A_t"
   },
   "outputs": [],
   "source": [
    "def permutation(inlist):\n",
    "    if len(inlist)<=1:\n",
    "        yield inlist\n",
    "    else:\n",
    "        for (index, elem) in enumerate(inlist):\n",
    "            print(\"This is \",index, \"iteration\")\n",
    "            other_elem=inlist[:index]+inlist[index+1:] ### for first element other_elem is 2,3\n",
    "            print(\"other_elem: \" , other_elem)\n",
    "            for j in permutation(other_elem): # for first iteration, 2,3 will go through permutation function again.\n",
    "                print(\"elem: \", [elem], \"j: \", j)\n",
    "                yield [elem]+j"
   ]
  },
  {
   "cell_type": "code",
   "execution_count": null,
   "metadata": {
    "colab": {},
    "colab_type": "code",
    "id": "6IEuLLfy6A_2",
    "outputId": "4e3346a0-3b59-4581-ccc8-7c12ff9bc001"
   },
   "outputs": [],
   "source": [
    "print(list(permutation(list25)))"
   ]
  },
  {
   "cell_type": "markdown",
   "metadata": {
    "colab_type": "text",
    "id": "bs6o2H7I6A_5"
   },
   "source": [
    "###### Q26. Write the Python program to convert a pair of values into a sorted unique array?\n",
    "\n",
    "Original List- [ (1, 2), (3, 4), (1, 2), (5, 6), (7, 8), (1, 2), (3, 4), (3, 4), (7, 8), (9, 10) ]\n",
    "\n",
    "Sorted Unique Data- [ 1, 2, 3, 4, 5, 6, 7, 8, 9, 10 ]"
   ]
  },
  {
   "cell_type": "code",
   "execution_count": null,
   "metadata": {
    "colab": {},
    "colab_type": "code",
    "id": "tyJ5gvTX6A_6"
   },
   "outputs": [],
   "source": [
    "list26= [(1,2),(3,4),(1,2),(5,6),(7,8),(1,2),(3,4),(3,4),(7,8),(9,10)]"
   ]
  },
  {
   "cell_type": "code",
   "execution_count": null,
   "metadata": {
    "colab": {},
    "colab_type": "code",
    "id": "-2DaJ2LR6A_9"
   },
   "outputs": [],
   "source": [
    "extended_list=[list26[i][j] for i in range(len(list26)) for j in range(len(list26[i]))]"
   ]
  },
  {
   "cell_type": "code",
   "execution_count": null,
   "metadata": {
    "colab": {},
    "colab_type": "code",
    "id": "wLy3mNNk6A__",
    "outputId": "f0792325-9571-4ad6-fec7-6735fc0626b0"
   },
   "outputs": [],
   "source": [
    "list(set(extended_list))"
   ]
  },
  {
   "cell_type": "markdown",
   "metadata": {
    "colab_type": "text",
    "id": "VzOf6Id-6BAB"
   },
   "source": [
    "###### Q27. Write the Python class to convert an integer to a roman numeral?"
   ]
  },
  {
   "cell_type": "code",
   "execution_count": null,
   "metadata": {
    "colab": {},
    "colab_type": "code",
    "id": "1j-ao88A6BAB"
   },
   "outputs": [],
   "source": [
    "class num_2_roman:\n",
    "    def __init__(self,number):\n",
    "        self.number = number\n",
    "    def num_roman(self):\n",
    "        num = [1000, 900, 500, 400, 100, 90, 50, 40, 10, 9, 5, 4, 1]\n",
    "        roman = [\"M\", \"CM\", \"D\", \"CD\",\"C\", \"XC\", \"L\", \"XL\", \"X\", \"IX\", \"V\", \"IV\", \"I\"]\n",
    "        to_roman=\"\"\n",
    "        i=0\n",
    "        while self.number > 0:\n",
    "            for _ in range(self.number//num[i]):\n",
    "                to_roman+=roman[i]\n",
    "                self.number-=num[i]\n",
    "            i+=1\n",
    "        return to_roman"
   ]
  },
  {
   "cell_type": "code",
   "execution_count": null,
   "metadata": {
    "colab": {},
    "colab_type": "code",
    "id": "_h2pDDhN6BAD",
    "outputId": "01025e3e-d1db-4b47-ea39-6ff30395dd55"
   },
   "outputs": [],
   "source": [
    "execute=num_2_roman(300)\n",
    "execute.num_roman()"
   ]
  },
  {
   "cell_type": "code",
   "execution_count": null,
   "metadata": {
    "colab": {},
    "colab_type": "code",
    "id": "fLK9Yz8s6BAF"
   },
   "outputs": [],
   "source": [
    "def break_down(num):\n",
    "    factor=10\n",
    "    remain=[]\n",
    "    while num>0:\n",
    "        for i in range(len(str(num))):\n",
    "            remain.append((num%10)*(factor**i))\n",
    "            num=num//10\n",
    "    remain.reverse()       \n",
    "    return remain"
   ]
  },
  {
   "cell_type": "code",
   "execution_count": null,
   "metadata": {
    "colab": {},
    "colab_type": "code",
    "id": "wWFSH0jL6BAH",
    "outputId": "9c026996-3c15-452a-ab57-17d794782acc"
   },
   "outputs": [],
   "source": [
    "break_down(321)"
   ]
  },
  {
   "cell_type": "markdown",
   "metadata": {
    "colab_type": "text",
    "id": "29sXSY796BAJ"
   },
   "source": [
    "###### Q28 Write the Python class to convert a Roman numeral to an integer?"
   ]
  },
  {
   "cell_type": "code",
   "execution_count": null,
   "metadata": {
    "colab": {},
    "colab_type": "code",
    "id": "yRHOdCw26BAN"
   },
   "outputs": [],
   "source": [
    "#### Checking part of code\n",
    "check=[\"M\", \"CM\", \"D\", \"CD\",\"C\", \"XC\", \"L\", \"XL\", \"X\", \"IX\", \"V\", \"IV\", \"I\"]\n",
    "num = [1000, 900, 500, 400, 100, 90, 50, 40, 10, 9, 5, 4, 1]\n",
    "num[check.index(\"M\")]"
   ]
  },
  {
   "cell_type": "code",
   "execution_count": null,
   "metadata": {
    "colab": {},
    "colab_type": "code",
    "id": "xkwJMpZg6BAJ"
   },
   "outputs": [],
   "source": [
    "class roman_to_num:\n",
    "    def __init__(self, roman_num):\n",
    "        self.roman_num=roman_num\n",
    "    def convert(self):\n",
    "        num = [1000, 900, 500, 400, 100, 90, 50, 40, 10, 9, 5, 4, 1]\n",
    "        roman = [\"M\", \"CM\", \"D\", \"CD\",\"C\", \"XC\", \"L\", \"XL\", \"X\", \"IX\", \"V\", \"IV\", \"I\"]\n",
    "        number=0\n",
    "        for i in self.roman_num:\n",
    "            if i in roman:\n",
    "                number= number + num[roman.index(i)]\n",
    "        return number"
   ]
  },
  {
   "cell_type": "code",
   "execution_count": null,
   "metadata": {
    "colab": {},
    "colab_type": "code",
    "id": "U3jNafb_6BAM"
   },
   "outputs": [],
   "source": [
    "roman_call=roman_to_num('CCCCL')\n",
    "roman_call.convert()"
   ]
  },
  {
   "cell_type": "markdown",
   "metadata": {
    "colab_type": "text",
    "id": "AgFj_qX66BAP"
   },
   "source": [
    "###### Q29. Write the Python class to find the validity of the string of the parentheses, '(', ')', '{', '}', '[' and '] and the brackets must be closed in the correct order, example - \"()\" and \"()[]{}\" are valid but \"[)\", \"({[)]\" and \"{{{\" are invalid."
   ]
  },
  {
   "cell_type": "code",
   "execution_count": null,
   "metadata": {
    "colab": {},
    "colab_type": "code",
    "id": "pje0Q-pE6BAP",
    "outputId": "31f5a029-d8d4-401b-d2c8-c9493fc66658"
   },
   "outputs": [],
   "source": [
    "string29 = input(\"Enter the input string: \")"
   ]
  },
  {
   "cell_type": "code",
   "execution_count": null,
   "metadata": {
    "colab": {},
    "colab_type": "code",
    "id": "bEZTt4nd6BAT",
    "outputId": "a8b6cea8-88e0-4079-8e3e-95c557b9067a"
   },
   "outputs": [],
   "source": [
    "count_round = 0\n",
    "count_curly=0\n",
    "count_square = 0\n",
    "close_round = 0\n",
    "close_curly=0\n",
    "close_square = 0\n",
    "for i in string29:\n",
    "    if i == \"(\":\n",
    "        count_round+=1\n",
    "    elif i == \"{\":\n",
    "        count_curly+=1\n",
    "    elif i == \"[\":\n",
    "        count_square+=1\n",
    "    elif i == \")\":\n",
    "        close_round+=1\n",
    "    elif i == \"}\":\n",
    "        close_curly+=1\n",
    "    elif i == \"]\":\n",
    "        close_square+=1\n",
    "    else:\n",
    "        continue\n",
    "\n",
    "print(count_round, count_curly, count_square)\n",
    "print(close_round, close_curly, close_square)\n",
    "if (count_curly == close_curly and count_round==close_round and count_square==close_square):\n",
    "    print (\"Valid parentheses\")\n",
    "else:\n",
    "    print (\"Invalid parentheses\")"
   ]
  },
  {
   "cell_type": "code",
   "execution_count": null,
   "metadata": {
    "colab": {},
    "colab_type": "code",
    "id": "IHHDx13X6BAV"
   },
   "outputs": [],
   "source": [
    "#### Another method from net, which is not working for me:\n",
    "open_list = [\"(\", \"[\", \"{\"]\n",
    "close_list = [\")\",\"]\",\"}\"]\n",
    "def balanced_check(string):\n",
    "    open_stack=[]\n",
    "    for i in string:\n",
    "        if i in open_list:\n",
    "            open_stack.append(i)    \n",
    "        elif i in close_list:\n",
    "                pos=close_list.index(i)\n",
    "                if len(open_stack)> 0 and open_list[pos]== open_stack[len(open_stack)-1]:\n",
    "                    open_stack.pop()\n",
    "                else:\n",
    "                    print (\"Unbalanced\")\n",
    "                    break\n",
    "    while True:\n",
    "        if len(open_stack)==0:\n",
    "            print(\"Balanced\")\n",
    "            break\n",
    "        else:\n",
    "            print(\"Unbalanced\")\n",
    "            break"
   ]
  },
  {
   "cell_type": "code",
   "execution_count": null,
   "metadata": {
    "colab": {},
    "colab_type": "code",
    "id": "Fhi0IaKv6BAX"
   },
   "outputs": [],
   "source": [
    "balanced_check('(((()))')"
   ]
  },
  {
   "cell_type": "code",
   "execution_count": null,
   "metadata": {},
   "outputs": [],
   "source": [
    "#### Another solution from student:\n",
    "bracket_list={\"}\": \"{\", \")\":\"(\", \"]\": \"[\"}\n",
    "open_list=[]\n",
    "def balance_check(string):\n",
    "    for i in string:\n",
    "        if i in bracket_list:\n",
    "            if bracket_list[i]==open_list.pop():\n",
    "                continue\n",
    "            else:\n",
    "                print(\"Unbalanced\")\n",
    "                break\n",
    "        else:\n",
    "            open_list.append(i)\n",
    "    if len(open_list)== 0:\n",
    "        print(\"Balanced\")\n",
    "    else:\n",
    "        print(\"Unbalanced\")"
   ]
  },
  {
   "cell_type": "code",
   "execution_count": null,
   "metadata": {},
   "outputs": [],
   "source": [
    "balance_check(\"(([(])))[\")"
   ]
  },
  {
   "cell_type": "code",
   "execution_count": null,
   "metadata": {},
   "outputs": [],
   "source": [
    "bracket_list={\"}\": \"{\", \")\":\"(\", \"]\": \"[\"}\n",
    "open_list=[]\n",
    "def balance_check2(string):\n",
    "    for i in string:\n",
    "        if i in bracket_list:\n",
    "            top=open_list.pop() if open_list else '#'\n",
    "            if bracket_list[i]!=top:\n",
    "                return \"Unbalanced\"\n",
    "            \n",
    "        else:\n",
    "            open_list.append(i)\n",
    "    if len(open_list)== 0:\n",
    "        return \"Balanced\"\n",
    "    else:\n",
    "        return \"Unbalanced\""
   ]
  },
  {
   "cell_type": "code",
   "execution_count": null,
   "metadata": {},
   "outputs": [],
   "source": [
    "balance_check2(\"(([(])))[\")"
   ]
  },
  {
   "cell_type": "markdown",
   "metadata": {
    "colab_type": "text",
    "id": "Fn4cCYYL6BAb"
   },
   "source": [
    "###### Q30. Write the Python class to get all possible unique subsets from a set of distinct integers?"
   ]
  },
  {
   "cell_type": "code",
   "execution_count": null,
   "metadata": {
    "colab": {},
    "colab_type": "code",
    "id": "0Vl8UTsS6BAb",
    "outputId": "9d16e5bc-e828-486a-df41-2da8d31e2a7f"
   },
   "outputs": [],
   "source": [
    "input30 = input(\"Enter the list of intergers(comma-separated): \")"
   ]
  },
  {
   "cell_type": "code",
   "execution_count": null,
   "metadata": {
    "colab": {},
    "colab_type": "code",
    "id": "MRweIWru6BAd"
   },
   "outputs": [],
   "source": [
    "set30= {int(i) for i in input30.split(\",\")}"
   ]
  },
  {
   "cell_type": "code",
   "execution_count": null,
   "metadata": {
    "colab": {},
    "colab_type": "code",
    "id": "PRXT4INF6BAf"
   },
   "outputs": [],
   "source": [
    "list30=list(set30)"
   ]
  },
  {
   "cell_type": "code",
   "execution_count": null,
   "metadata": {
    "colab": {},
    "colab_type": "code",
    "id": "4JCSNoh66BAg"
   },
   "outputs": [],
   "source": [
    "from itertools import combinations"
   ]
  },
  {
   "cell_type": "code",
   "execution_count": null,
   "metadata": {
    "colab": {},
    "colab_type": "code",
    "id": "RYFlv05w6BAi",
    "outputId": "2cd1a1b5-5fd9-4514-d1c6-39383ea9a458"
   },
   "outputs": [],
   "source": [
    "#### Normal method\n",
    "out_list30 = []\n",
    "for r in range(len(list30)+1):\n",
    "    a= list(combinations(list30,r))\n",
    "    [out_list30.append(i) for i in [list(a[i]) for i in range(len(a))]]\n",
    "print(out_list30)"
   ]
  },
  {
   "cell_type": "code",
   "execution_count": null,
   "metadata": {
    "colab": {},
    "colab_type": "code",
    "id": "Rt60lyh76BAl"
   },
   "outputs": [],
   "source": [
    "### Writing a class:\n",
    "class Subset:\n",
    "    def __init__(self,inlist):\n",
    "        self.list = inlist\n",
    "    \n",
    "    def combinations(self):\n",
    "        out_list = []\n",
    "        for r in range(len(self.list)+1):\n",
    "            a= list(combinations(list30,r))\n",
    "            [out_list.append(i) for i in [list(a[i]) for i in range(len(a))]]\n",
    "        return out_list"
   ]
  },
  {
   "cell_type": "code",
   "execution_count": null,
   "metadata": {
    "colab": {},
    "colab_type": "code",
    "id": "0HTX3wjr6BAn"
   },
   "outputs": [],
   "source": [
    "subset_list = Subset(list30)"
   ]
  },
  {
   "cell_type": "code",
   "execution_count": null,
   "metadata": {
    "colab": {},
    "colab_type": "code",
    "id": "WNQAa8Wz6BAq",
    "outputId": "e312a009-b62c-4582-951f-e5fc0dbb6af5"
   },
   "outputs": [],
   "source": [
    "subset_list.combinations()"
   ]
  },
  {
   "cell_type": "markdown",
   "metadata": {
    "colab_type": "text",
    "id": "KytkYQCp6BAu"
   },
   "source": [
    "###### Q31. Write the Python class to find a pair of elements (indices of the two numbers) from a given array whose sum equals the specific target number?\n",
    "\n",
    "Input: numbers- [10,20,10,40,50,60,70], target=50\n",
    "    \n",
    "Output- 3, 4"
   ]
  },
  {
   "cell_type": "code",
   "execution_count": null,
   "metadata": {
    "colab": {},
    "colab_type": "code",
    "id": "JWldDMe_6BAv",
    "outputId": "de52268a-f1c7-4a9f-e889-b343033135cd"
   },
   "outputs": [],
   "source": [
    "string31 = input(\"Enter the list of numbers: \")"
   ]
  },
  {
   "cell_type": "code",
   "execution_count": null,
   "metadata": {
    "colab": {},
    "colab_type": "code",
    "id": "y8xdOY8S6BAx"
   },
   "outputs": [],
   "source": [
    "list31 = [int(i) for i in string31.split(\",\")]"
   ]
  },
  {
   "cell_type": "code",
   "execution_count": null,
   "metadata": {
    "colab": {},
    "colab_type": "code",
    "id": "6x9q66p_6BAy",
    "outputId": "1200d8a3-8fd3-4515-e611-4915962adbdc"
   },
   "outputs": [],
   "source": [
    "list31"
   ]
  },
  {
   "cell_type": "code",
   "execution_count": null,
   "metadata": {
    "colab": {},
    "colab_type": "code",
    "id": "nM4piAJd6BA0",
    "outputId": "f43ce52f-a6e4-4846-d368-edc1791de024"
   },
   "outputs": [],
   "source": [
    "target = int(input(\"Enter a target sum : \"))"
   ]
  },
  {
   "cell_type": "code",
   "execution_count": null,
   "metadata": {
    "colab": {},
    "colab_type": "code",
    "id": "cgdEQ9oI6BA1"
   },
   "outputs": [],
   "source": [
    "class Index_pair:\n",
    "    def __init__(self, inlist, target):\n",
    "        self.list = inlist\n",
    "        self.sum = target\n",
    "    def combinations_(self):\n",
    "        combo = {}\n",
    "        c_list = []\n",
    "        for idx_i, i in enumerate(self.list):\n",
    "            for idx_j, j in enumerate(self.list):\n",
    "                if (idx_i !=idx_j) and ((j,i) not in c_list):\n",
    "                    c_list.append((i,j))\n",
    "                    a= i+j\n",
    "                    combo[(idx_i, idx_j)] = a\n",
    "        for k,v in combo.items():\n",
    "            if v == self.sum:\n",
    "                print(k)"
   ]
  },
  {
   "cell_type": "code",
   "execution_count": null,
   "metadata": {
    "colab": {},
    "colab_type": "code",
    "id": "J6ytRzne6BA3",
    "outputId": "2775e3d0-5d71-41f8-991e-8114104a1bf2"
   },
   "outputs": [],
   "source": [
    "index = Index_pair(list31,target)\n",
    "index.combinations_()"
   ]
  },
  {
   "cell_type": "code",
   "execution_count": null,
   "metadata": {
    "colab": {},
    "colab_type": "code",
    "id": "ZSKy4IwZ6BA5",
    "outputId": "996e81d7-4a9a-4ead-c8f2-7f48f5d28f59"
   },
   "outputs": [],
   "source": [
    "print (list31, target)"
   ]
  },
  {
   "cell_type": "markdown",
   "metadata": {
    "colab_type": "text",
    "id": "DgQVMLPO6BA7"
   },
   "source": [
    "###### Q32. Write the Python class to find the three elements that sum to zero from the set of n real numbers?"
   ]
  },
  {
   "cell_type": "code",
   "execution_count": null,
   "metadata": {
    "colab": {},
    "colab_type": "code",
    "id": "lehXYwyc6BA7",
    "outputId": "dc730d74-9f7f-4562-bd57-62a5a7d784de"
   },
   "outputs": [],
   "source": [
    "string32 = input(\"Enter the list of numbers: \")\n",
    "string32"
   ]
  },
  {
   "cell_type": "code",
   "execution_count": null,
   "metadata": {
    "colab": {},
    "colab_type": "code",
    "id": "B_2drYWK6BA-",
    "outputId": "bd5dde83-5b5d-4954-cae0-3149a45f3ae9"
   },
   "outputs": [],
   "source": [
    "list32 = [int(i) for i in string32.split(\",\")]\n",
    "list32"
   ]
  },
  {
   "cell_type": "code",
   "execution_count": null,
   "metadata": {
    "colab": {},
    "colab_type": "code",
    "id": "rWgR9jUI6BBA"
   },
   "outputs": [],
   "source": [
    "class zero_sum:\n",
    "    def __init__(self,inlist):\n",
    "        self.list = inlist\n",
    "    def zero_sum_elem(self):\n",
    "        elem_list = []\n",
    "        combo_list = list(combinations(self.list, 3))\n",
    "        for i in combo_list:\n",
    "            if sum(i)==0:\n",
    "                elem_list.append(i)\n",
    "        return elem_list"
   ]
  },
  {
   "cell_type": "code",
   "execution_count": null,
   "metadata": {
    "colab": {},
    "colab_type": "code",
    "id": "u9p_yc1j6BBB",
    "outputId": "a1069630-f46e-4f61-89af-f3a69719eacc"
   },
   "outputs": [],
   "source": [
    "elem_list = zero_sum(list32)\n",
    "elem_list.zero_sum_elem()"
   ]
  },
  {
   "cell_type": "markdown",
   "metadata": {
    "colab_type": "text",
    "id": "pcQuS_vE6BBE"
   },
   "source": [
    "###### Q33. Write the Python class to implement pow(x, n)?"
   ]
  },
  {
   "cell_type": "code",
   "execution_count": null,
   "metadata": {
    "colab": {},
    "colab_type": "code",
    "id": "9O8vHLlF6BBE"
   },
   "outputs": [],
   "source": [
    "class Power:\n",
    "    def __init__(self,base,power):\n",
    "        self.base=base\n",
    "        self.power=power\n",
    "    def pow(self,base,power):\n",
    "        return self.base**self.power"
   ]
  },
  {
   "cell_type": "code",
   "execution_count": null,
   "metadata": {
    "colab": {},
    "colab_type": "code",
    "id": "bDgQf_0R6BBG",
    "outputId": "b49808c1-454e-4682-f13f-d1746a1f1b50"
   },
   "outputs": [],
   "source": [
    "string33 = input(\"Enter base and power(comma separated): \")\n",
    "string33"
   ]
  },
  {
   "cell_type": "code",
   "execution_count": null,
   "metadata": {
    "colab": {},
    "colab_type": "code",
    "id": "gH0ZizU_6BBI",
    "outputId": "8cbcae22-1e87-43fe-e164-f5970fd0a86d"
   },
   "outputs": [],
   "source": [
    "x,n = [int(i) for i in string33.split(\",\")]\n",
    "print(x,n)"
   ]
  },
  {
   "cell_type": "code",
   "execution_count": null,
   "metadata": {
    "colab": {},
    "colab_type": "code",
    "id": "rGyzfRFf6BBL",
    "outputId": "99ca83a1-4d56-417c-c403-e6fa4d083e6a"
   },
   "outputs": [],
   "source": [
    "power=Power(x,n)\n",
    "power.pow(x,n)"
   ]
  },
  {
   "cell_type": "markdown",
   "metadata": {
    "colab_type": "text",
    "id": "p9kujapG6BBN"
   },
   "source": [
    "###### Q34. Write the Python class which has two methods get_String and print_String. get_String accept the string from the user and print_String print the string in upper case."
   ]
  },
  {
   "cell_type": "code",
   "execution_count": null,
   "metadata": {
    "colab": {},
    "colab_type": "code",
    "id": "b8MnlDDI6BBN"
   },
   "outputs": [],
   "source": [
    "class String_method:\n",
    "    def __init__(self):\n",
    "        pass\n",
    "    def get_String(self):\n",
    "        self.str=input(\"Enter the input string \")\n",
    "    def print_String(self):\n",
    "        print (self.str.upper())"
   ]
  },
  {
   "cell_type": "code",
   "execution_count": null,
   "metadata": {
    "colab": {},
    "colab_type": "code",
    "id": "X2-MktUb6BBO"
   },
   "outputs": [],
   "source": [
    "string = String_method()"
   ]
  },
  {
   "cell_type": "code",
   "execution_count": null,
   "metadata": {
    "colab": {},
    "colab_type": "code",
    "id": "Lc8yK4xT6BBQ",
    "outputId": "2b976a7b-0181-4f77-a400-0af38d0d8038"
   },
   "outputs": [],
   "source": [
    "string.get_String()"
   ]
  },
  {
   "cell_type": "code",
   "execution_count": null,
   "metadata": {
    "colab": {},
    "colab_type": "code",
    "id": "kwy8GIne6BBR",
    "outputId": "e065f1cf-94fb-4592-cf50-0329f580cf62"
   },
   "outputs": [],
   "source": [
    "string.print_String()"
   ]
  },
  {
   "cell_type": "markdown",
   "metadata": {
    "colab_type": "text",
    "id": "pN-Axjl86BBT"
   },
   "source": [
    "##### Q35. Write the Python class named Rectangle constructed by a length and width and the method which will compute the area of the rectangle?"
   ]
  },
  {
   "cell_type": "code",
   "execution_count": null,
   "metadata": {
    "colab": {},
    "colab_type": "code",
    "id": "Ln_dJhZR6BBT"
   },
   "outputs": [],
   "source": [
    "class Rectangle:\n",
    "    def __init__(self,length,width):\n",
    "        self.len = length\n",
    "        self.wid = width\n",
    "    def Area(self):\n",
    "        return self.len*self.wid"
   ]
  },
  {
   "cell_type": "code",
   "execution_count": null,
   "metadata": {
    "colab": {},
    "colab_type": "code",
    "id": "mvFINuKG6BBV",
    "outputId": "439bbecd-9f00-4001-a119-8c9f84c09121"
   },
   "outputs": [],
   "source": [
    "rect=Rectangle(6,3)\n",
    "rect.Area()"
   ]
  },
  {
   "cell_type": "markdown",
   "metadata": {
    "colab_type": "text",
    "id": "Z7PBbjj76BBX"
   },
   "source": [
    "###### Q36. Write the Python class named Circle constructed by the radius and two methods which will compute the area and perimeter of the circle?"
   ]
  },
  {
   "cell_type": "code",
   "execution_count": null,
   "metadata": {
    "colab": {},
    "colab_type": "code",
    "id": "aSb8XkdV6BBY"
   },
   "outputs": [],
   "source": [
    "class Circle:\n",
    "    def __init__(self, radius):\n",
    "        self.r=radius\n",
    "    def area(self):\n",
    "        import math\n",
    "        return (math.pi)*(self.r**2)\n",
    "    def perimeter(self):\n",
    "        import math\n",
    "        return 2*math.pi*self.r\n",
    "        "
   ]
  },
  {
   "cell_type": "code",
   "execution_count": null,
   "metadata": {
    "colab": {},
    "colab_type": "code",
    "id": "Jal_ocLN6BBd",
    "outputId": "b736593b-3e6c-4b22-c0f2-e61495ed4a31"
   },
   "outputs": [],
   "source": [
    "circle=Circle(7)\n",
    "print(circle.area())\n",
    "print(circle.perimeter())"
   ]
  },
  {
   "cell_type": "markdown",
   "metadata": {
    "colab_type": "text",
    "id": "cuItHOD_6BBi"
   },
   "source": [
    "###### Q37. Write the Python program to get the class name of an instance in Python?"
   ]
  },
  {
   "cell_type": "code",
   "execution_count": null,
   "metadata": {
    "colab": {},
    "colab_type": "code",
    "id": "BqIsmGmb6BBi"
   },
   "outputs": [],
   "source": [
    "_,class_name=str(type(circle)).split(\".\")"
   ]
  },
  {
   "cell_type": "code",
   "execution_count": null,
   "metadata": {
    "colab": {},
    "colab_type": "code",
    "id": "UNzXRw1-6BBl"
   },
   "outputs": [],
   "source": [
    "class_name, _ = class_name.split(\"'>\")"
   ]
  },
  {
   "cell_type": "code",
   "execution_count": null,
   "metadata": {
    "colab": {},
    "colab_type": "code",
    "id": "-MLE1CAr6BBt",
    "outputId": "615fb807-85bb-46f9-e07a-43c027f119f6"
   },
   "outputs": [],
   "source": [
    "class_name"
   ]
  },
  {
   "cell_type": "code",
   "execution_count": null,
   "metadata": {
    "colab": {},
    "colab_type": "code",
    "id": "8Bihtom66BBz"
   },
   "outputs": [],
   "source": [
    "### writing the actual class program.\n",
    "def class_name(instance):\n",
    "    _,class_name=str(type(instance)).split(\".\")\n",
    "    class_name,_= class_name.split(\"'>\")\n",
    "    return class_name    "
   ]
  },
  {
   "cell_type": "code",
   "execution_count": null,
   "metadata": {
    "colab": {},
    "colab_type": "code",
    "id": "VIfS16IR6BB8",
    "outputId": "43fb9a3b-ea77-4b77-d9da-947f0def8848"
   },
   "outputs": [],
   "source": [
    "print(class_name(circle)) ### created from previous Q35 and Q36\n",
    "print(class_name(rect))"
   ]
  },
  {
   "cell_type": "markdown",
   "metadata": {
    "colab_type": "text",
    "id": "XaErvLHM6BCA"
   },
   "source": [
    "###### Q38. Write the Python program to count the number of students of individual class?"
   ]
  },
  {
   "cell_type": "markdown",
   "metadata": {
    "colab_type": "raw",
    "id": "z6-T9dmq6BCA"
   },
   "source": [
    "Sample dataclasses = (\n",
    "('V', 1),\n",
    "('VI', 1),\n",
    "('V', 2),\n",
    "('VI', 2),\n",
    "('VI', 3),\n",
    "('VII', 1),\n",
    ")\n",
    "Expected OutputCounter({'VI': 3, 'V': 2, 'VII': 1})"
   ]
  },
  {
   "cell_type": "code",
   "execution_count": null,
   "metadata": {
    "colab": {},
    "colab_type": "code",
    "id": "op5iLQxI6BCB",
    "outputId": "91139fe8-12f6-4a84-b1b1-c87cd8b7be79"
   },
   "outputs": [],
   "source": [
    "classes = (('V', 1), ('VI', 1), ('V', 2), ('VI', 2), ('VI', 3), ('VII', 1))\n",
    "classes"
   ]
  },
  {
   "cell_type": "code",
   "execution_count": null,
   "metadata": {
    "colab": {},
    "colab_type": "code",
    "id": "su7gKLka6BCH",
    "outputId": "34f57f6e-108a-45be-c358-97a184e52aec"
   },
   "outputs": [],
   "source": [
    "class_count = {}\n",
    "\n",
    "for i in range(len(classes)):\n",
    "    for j in range(len(classes[i])):\n",
    "        if j == 0:\n",
    "            if class_count.get(classes[i][j],0)==0:\n",
    "                class_count[classes[i][j]] = classes[i][1]\n",
    "            else:\n",
    "                class_count[classes[i][j]] = class_count[classes[i][j]] + classes[i][1]\n",
    "            \n",
    "        else:\n",
    "            continue\n",
    "class_count"
   ]
  },
  {
   "cell_type": "markdown",
   "metadata": {
    "colab_type": "text",
    "id": "ps461kTS6BCI"
   },
   "source": [
    "###### Q39. Write the Python program to create an instance of an OrderedDict using the given dictionary and sort dictionary during the creation and print members of the dictionary in reverse order?"
   ]
  },
  {
   "cell_type": "markdown",
   "metadata": {
    "colab_type": "raw",
    "id": "GvpVbBff6BCJ"
   },
   "source": [
    "Expected Output: Angola 244.\n",
    "Andorra 376.\n",
    "Algeria 213.\n",
    "Afghanistan 93.\n",
    "Albania 355.\n",
    "In reverse order Albania 355.\n",
    "Afghanistan 93.\n",
    "Algeria 213.\n",
    "Andorra 376.\n",
    "Angola 244."
   ]
  },
  {
   "cell_type": "code",
   "execution_count": null,
   "metadata": {
    "colab": {},
    "colab_type": "code",
    "id": "mVWc-Gh06BCK",
    "outputId": "11916a45-752c-488d-820e-69133ce176c8"
   },
   "outputs": [],
   "source": [
    "dict39 = {'Angola': 244, 'Andora': 376, 'Algeria': 213, 'Afghanistan':93, 'Albania': 355}\n",
    "dict39"
   ]
  },
  {
   "cell_type": "code",
   "execution_count": null,
   "metadata": {
    "colab": {},
    "colab_type": "code",
    "id": "3rYWmKML6BCU",
    "outputId": "c58199e4-7cf7-4b33-fc32-b4259c3d0e58"
   },
   "outputs": [],
   "source": [
    "### Creating a list of tuples from dict39's items\n",
    "reformed_list=list(dict39.items())[::-1]\n",
    "print(reformed_list)"
   ]
  },
  {
   "cell_type": "code",
   "execution_count": null,
   "metadata": {
    "colab": {},
    "colab_type": "code",
    "id": "Bk_UoRFO6BCW",
    "outputId": "11f6b4c7-e925-440c-99e7-010b8584c3c0"
   },
   "outputs": [],
   "source": [
    "{reformed_list[i][j]:reformed_list[i][j+1] for i in range(len(reformed_list)) for j in range(len(reformed_list)) if j==0}"
   ]
  },
  {
   "cell_type": "markdown",
   "metadata": {
    "colab_type": "text",
    "id": "F0XuRjVm6BCY"
   },
   "source": [
    "###### Q40. Write the Python program to compare two unordered lists (not sets)?\n",
    "\n",
    "Expected Output: False\n"
   ]
  },
  {
   "cell_type": "code",
   "execution_count": null,
   "metadata": {
    "colab": {},
    "colab_type": "code",
    "id": "273cGBoZ6BCZ"
   },
   "outputs": [],
   "source": [
    "a = [1,2,2,3,3,1]\n",
    "b = [3,1,1,2,2]\n",
    "c = ['cat', 'dog', 'dog', 'cow']\n",
    "d = ['cat', 'dog', 'dog', 'cow']"
   ]
  },
  {
   "cell_type": "code",
   "execution_count": null,
   "metadata": {
    "colab": {},
    "colab_type": "code",
    "id": "egyLEdK46BCf"
   },
   "outputs": [],
   "source": [
    "def compare_list(x,y):\n",
    "    if sorted(x)== sorted(y):\n",
    "        return True\n",
    "    else: \n",
    "        return False"
   ]
  },
  {
   "cell_type": "code",
   "execution_count": null,
   "metadata": {
    "colab": {},
    "colab_type": "code",
    "id": "8kDpfTFV6BCg",
    "outputId": "d2c705e8-e331-46dc-f0fa-08054130925a"
   },
   "outputs": [],
   "source": [
    "compare_list(a,b)"
   ]
  },
  {
   "cell_type": "code",
   "execution_count": null,
   "metadata": {
    "colab": {},
    "colab_type": "code",
    "id": "SlAwnyQN6BCi",
    "outputId": "680fa26b-692e-450e-ce67-b86c24891cce"
   },
   "outputs": [],
   "source": [
    "compare_list(c,d)"
   ]
  },
  {
   "cell_type": "markdown",
   "metadata": {
    "colab_type": "text",
    "id": "Unf_rTfT6BCj"
   },
   "source": [
    "###### Q41. Write the Python program to get an array buffer information? Expected OutputArray buffer start address in memory and number of elements.\n",
    "(25855056, 2)\n"
   ]
  },
  {
   "cell_type": "code",
   "execution_count": null,
   "metadata": {
    "colab": {},
    "colab_type": "code",
    "id": "LeAif2Bz6BCk"
   },
   "outputs": [],
   "source": [
    "#### have doubt in query"
   ]
  },
  {
   "cell_type": "markdown",
   "metadata": {
    "colab_type": "text",
    "id": "M-zAEcav6BCm"
   },
   "source": [
    "### Note: Questions 41 - 46 pending"
   ]
  },
  {
   "cell_type": "markdown",
   "metadata": {
    "colab_type": "text",
    "id": "EFz3LiPq6BCn"
   },
   "source": [
    "###### Q47. Write the Python program to calculate the harmonic sum of n-1.  Note: The harmonic sum is the sum of reciprocals of the positive Integers?"
   ]
  },
  {
   "cell_type": "code",
   "execution_count": null,
   "metadata": {
    "colab": {},
    "colab_type": "code",
    "id": "U0A58pAB6BCo",
    "outputId": "c5d8e2ca-197d-41c7-d149-fc38353cbfb9"
   },
   "outputs": [],
   "source": [
    "input47 = int(input(\"Enter the number: \"))"
   ]
  },
  {
   "cell_type": "code",
   "execution_count": null,
   "metadata": {
    "colab": {},
    "colab_type": "code",
    "id": "e_ZRb-a96BCr"
   },
   "outputs": [],
   "source": [
    "def harmonic_sum(n):\n",
    "    harmonic_sum = 0\n",
    "    for i in range(1,n):\n",
    "        print(i,(1/i))\n",
    "        harmonic_sum+=(1/i)\n",
    "    return harmonic_sum"
   ]
  },
  {
   "cell_type": "code",
   "execution_count": null,
   "metadata": {
    "colab": {},
    "colab_type": "code",
    "id": "G3gDCznQ6BCw",
    "outputId": "8390d26b-d175-4c65-c9ed-818ca61b5f7f"
   },
   "outputs": [],
   "source": [
    "harmonic_sum(input47)"
   ]
  },
  {
   "cell_type": "markdown",
   "metadata": {
    "colab_type": "text",
    "id": "y3EY45yD6BCx"
   },
   "source": [
    "###### Q48. Write the NumPy program to create a 2d array with 6 on the border and 0 inside?"
   ]
  },
  {
   "cell_type": "markdown",
   "metadata": {
    "colab_type": "raw",
    "id": "izTLP-Wc6BCy"
   },
   "source": [
    "Expected OutputOriginal array-\n",
    "[ [6 6 6 6 6]\n",
    " [6 6 6 6 6]\n",
    " [6 6 6 6 6]\n",
    "[6 6 6 6 6]\n",
    "[ 6 6 6 6] ]\n",
    "\n",
    "6 on the border and 0 inside in the array-\n",
    "[[ 6 6 6 6 6]\n",
    "[ 6 0 0 0 6]\n",
    "[ 6 0 0 0 6]\n",
    "[ 6 0 0 0 6]\n",
    "[ 6 6 6 6 6]]"
   ]
  },
  {
   "cell_type": "code",
   "execution_count": null,
   "metadata": {
    "colab": {},
    "colab_type": "code",
    "id": "csmRMsII6BCy",
    "outputId": "0edf12d3-7ad6-472b-991c-d31ecc94f5a5"
   },
   "outputs": [],
   "source": [
    "import numpy as np\n",
    "arr48 = np.full((5,5), 6)\n",
    "arr48"
   ]
  },
  {
   "cell_type": "code",
   "execution_count": null,
   "metadata": {
    "colab": {},
    "colab_type": "code",
    "id": "-yntqiyY6BCz",
    "outputId": "6041725e-fbde-478a-9b9b-a2d20889867a"
   },
   "outputs": [],
   "source": [
    "arr48.shape[0]"
   ]
  },
  {
   "cell_type": "code",
   "execution_count": null,
   "metadata": {
    "colab": {},
    "colab_type": "code",
    "id": "DuOPLs0S6BC1",
    "outputId": "1b155216-23fd-489f-ebcf-fdb1d83321b8"
   },
   "outputs": [],
   "source": [
    "##### Long way \n",
    "for i in range(arr48.shape[0]):\n",
    "    if (i == 0 or i == (arr48.shape[0]-1)):\n",
    "        continue\n",
    "    else:\n",
    "        print(i)\n",
    "        for j in range(arr48.shape[1]):\n",
    "            if (j == 0 or j == (arr48.shape[1]-1)):\n",
    "                continue  \n",
    "            else:\n",
    "                arr48[i][j] =0      "
   ]
  },
  {
   "cell_type": "code",
   "execution_count": null,
   "metadata": {
    "colab": {},
    "colab_type": "code",
    "id": "eULZgoEO6BC4",
    "outputId": "04c060e3-d654-46a3-e447-3d2eddf1efb4"
   },
   "outputs": [],
   "source": [
    "arr48"
   ]
  },
  {
   "cell_type": "code",
   "execution_count": null,
   "metadata": {
    "colab": {},
    "colab_type": "code",
    "id": "zc44m7PI6BC5",
    "outputId": "142b8cd3-88ac-4664-ad96-d2823457d079"
   },
   "outputs": [],
   "source": [
    "### Short way\n",
    "arr48 = np.full((5,5), 6)\n",
    "arr48"
   ]
  },
  {
   "cell_type": "code",
   "execution_count": null,
   "metadata": {
    "colab": {},
    "colab_type": "code",
    "id": "l-iyFGvp6BC7",
    "outputId": "d4791494-c10c-484a-9295-cb789f3eab9f"
   },
   "outputs": [],
   "source": [
    "arr48[1:-1,1:-1] = 0\n",
    "arr48"
   ]
  },
  {
   "cell_type": "markdown",
   "metadata": {
    "colab_type": "text",
    "id": "ppYn1hmc6BC9"
   },
   "source": [
    "###### Q49. Write the NumPy program to create a 8x8 matrix and fill it with the checkerboard pattern?\n"
   ]
  },
  {
   "cell_type": "code",
   "execution_count": null,
   "metadata": {
    "colab": {},
    "colab_type": "code",
    "id": "lBMr82aA6BC-"
   },
   "outputs": [],
   "source": [
    "def checkerboard(n,fill,replace):\n",
    "    import numpy as np\n",
    "    arr49 = np.full((n,n),fill)\n",
    "    arr49[::2,1::2] = replace\n",
    "    arr49[1::2,::2] = replace\n",
    "    return arr49"
   ]
  },
  {
   "cell_type": "code",
   "execution_count": null,
   "metadata": {
    "colab": {},
    "colab_type": "code",
    "id": "rN0AuWJM6BC_",
    "outputId": "23f86377-4955-4ed3-f6cb-ceee6c04a5e8"
   },
   "outputs": [],
   "source": [
    "checkerboard(8,3,9)"
   ]
  },
  {
   "cell_type": "markdown",
   "metadata": {
    "colab_type": "text",
    "id": "tGTrK3rX6BDA"
   },
   "source": [
    "##### Q50. Write the NumPy program to create an empty and a full array"
   ]
  },
  {
   "cell_type": "markdown",
   "metadata": {
    "colab_type": "raw",
    "id": "5CbaMUeT6BDA"
   },
   "source": [
    "Expected Output-\n",
    "[[4.45057637e-308 1.78021527e-306 8.45549797e-307 1.37962049e-306]\n",
    "[1.11260619e-306 1.78010255e-306 9.79054228e-307 4.45057637e-308]\n",
    "[8.45596650e-307 9.34602321e-307 4.94065646e-322 0.00000000e+000]]\n",
    "[[6 6 6]\n",
    "[6 6 6]\n",
    "[6 6 6]]"
   ]
  },
  {
   "cell_type": "code",
   "execution_count": null,
   "metadata": {
    "colab": {},
    "colab_type": "code",
    "id": "2-wXzsko6BDA",
    "outputId": "ea0da915-915d-48f1-e9f2-ca2d522097af"
   },
   "outputs": [],
   "source": [
    "empty = np.empty((3,3))\n",
    "empty"
   ]
  },
  {
   "cell_type": "code",
   "execution_count": null,
   "metadata": {
    "colab": {},
    "colab_type": "code",
    "id": "ce3U383N6BDC",
    "outputId": "0a04e4d2-e863-4d14-9f6e-a939ce17da78"
   },
   "outputs": [],
   "source": [
    "full = np.full((3,3),6)\n",
    "full"
   ]
  },
  {
   "cell_type": "code",
   "execution_count": null,
   "metadata": {
    "colab": {},
    "colab_type": "code",
    "id": "eumHQWaa6BDD"
   },
   "outputs": [],
   "source": [
    "#### Writing as a function\n",
    "def empty_full(n,fill_val):\n",
    "    empty=np.empty((n,n))\n",
    "    full=np.full((n,n),fill_val)\n",
    "    print(empty)\n",
    "    print(full)"
   ]
  },
  {
   "cell_type": "code",
   "execution_count": null,
   "metadata": {
    "colab": {},
    "colab_type": "code",
    "id": "T7hESXfn6BDE",
    "outputId": "c124b4d3-9568-452c-f9e2-6e51c4e92a63"
   },
   "outputs": [],
   "source": [
    "empty_full(3,6)"
   ]
  },
  {
   "cell_type": "markdown",
   "metadata": {
    "colab_type": "text",
    "id": "54KeIRvN6BDF"
   },
   "source": [
    "###### Q51. Write the NumPy program to convert the values of Centigrade degrees into the Fahrenheit degrees and the centigrade values are stored in the NumPy array."
   ]
  },
  {
   "cell_type": "markdown",
   "metadata": {
    "colab_type": "raw",
    "id": "US01z0Lu6BDG"
   },
   "source": [
    "Sample Array -[0, 12, 45.21 ,34, 99.91]\n",
    "Expected OutputValues in Fahrenheit degrees-\n",
    "[ 0. 12. 45.21 34. 99.91]\n",
    "Values in Centigrade degrees-\n",
    "[-17.77777778 -11.11111111 7.33888889 1.11111111 37.72777778]"
   ]
  },
  {
   "cell_type": "code",
   "execution_count": null,
   "metadata": {
    "colab": {},
    "colab_type": "code",
    "id": "m932UUhQ6BDH",
    "outputId": "391125b4-2cdd-4f45-84c6-ff49f690e9cf"
   },
   "outputs": [],
   "source": [
    "input51=input(\"Enter the values in Centigrade : \")\n",
    "input51"
   ]
  },
  {
   "cell_type": "code",
   "execution_count": null,
   "metadata": {
    "colab": {},
    "colab_type": "code",
    "id": "hNsTjq0S6BDK",
    "outputId": "cb918e56-cb04-4f3b-d88f-bcca3359130f"
   },
   "outputs": [],
   "source": [
    "list51=[float(i) for i in input51.split(\",\")]\n",
    "list51"
   ]
  },
  {
   "cell_type": "code",
   "execution_count": null,
   "metadata": {
    "colab": {},
    "colab_type": "code",
    "id": "3LfDI8_D6BDL"
   },
   "outputs": [],
   "source": [
    "def Centi_to_Fahren(intemp):\n",
    "    print (\"Temperatures in Fahrenheit:\" , np.array([1.8*i+32 for i in intemp]))\n",
    "    print (\"Temperatures in Celsius: \" , np.array(intemp))"
   ]
  },
  {
   "cell_type": "code",
   "execution_count": null,
   "metadata": {
    "colab": {},
    "colab_type": "code",
    "id": "G0l9J1056BDM",
    "outputId": "b5069b6f-d187-40b9-9f61-2743ac362f93"
   },
   "outputs": [],
   "source": [
    "Centi_to_Fahren(list51)"
   ]
  },
  {
   "cell_type": "markdown",
   "metadata": {
    "colab_type": "text",
    "id": "J43jGLPI6BDO"
   },
   "source": [
    "###### Q52. Write the NumPy program to find the real and imaginary parts of an array of complex numbers? "
   ]
  },
  {
   "cell_type": "markdown",
   "metadata": {
    "colab_type": "raw",
    "id": "Kc5XEMLw6BDO"
   },
   "source": [
    "Expected OutputOriginal array [ 1.00000000+0.j 0.70710678+0.70710678j]\n",
    "Real part of the array-\n",
    "[ 1. 0.70710678]\n",
    "Imaginary part of the array-\n",
    "[ 0. 0.70710678]"
   ]
  },
  {
   "cell_type": "code",
   "execution_count": null,
   "metadata": {
    "colab": {},
    "colab_type": "code",
    "id": "_aQSf0gg6BDP",
    "outputId": "22d4f144-4dda-416e-9bd3-48311d08226c"
   },
   "outputs": [],
   "source": [
    "arr52=np.array([ 1.+0.j, 0.70710678+0.70710678j])\n",
    "arr52 "
   ]
  },
  {
   "cell_type": "code",
   "execution_count": null,
   "metadata": {
    "colab": {},
    "colab_type": "code",
    "id": "iAedHA6X6BDS",
    "outputId": "f2111214-e260-4a90-ac68-aa61b9e34dd8"
   },
   "outputs": [],
   "source": [
    "split=[]\n",
    "for i in arr52:\n",
    "    real,imag=i.real,i.imag\n",
    "    split.append(real)\n",
    "    split.append(imag)\n",
    "print(split)\n",
    "arr_real=np.array(split[::2])\n",
    "arr_imag=np.array(split[1::2])\n",
    "print(arr_real)\n",
    "print(arr_imag)"
   ]
  },
  {
   "cell_type": "markdown",
   "metadata": {
    "colab_type": "text",
    "id": "316c0E8A6BDW"
   },
   "source": [
    "###### Q53. Write the NumPy program to test whether each element of a 1-D array is also present in the second array? "
   ]
  },
  {
   "cell_type": "markdown",
   "metadata": {
    "colab_type": "raw",
    "id": "D2gtAhSh6BDW"
   },
   "source": [
    "Expected OutputArray1: [ 0 10 20 40 60]\n",
    "Array2: [0, 40]\n",
    "Compare each element of array1 and array2\n",
    "[ True False False True False]"
   ]
  },
  {
   "cell_type": "code",
   "execution_count": null,
   "metadata": {
    "colab": {},
    "colab_type": "code",
    "id": "Keu5N1-x6BDW",
    "outputId": "a76e8136-1240-45cd-b774-da48df4bb5aa"
   },
   "outputs": [],
   "source": [
    "inlist53 = input(\"Enter the list of numbers for first array(comma-separated): \")"
   ]
  },
  {
   "cell_type": "code",
   "execution_count": null,
   "metadata": {
    "colab": {},
    "colab_type": "code",
    "id": "g_gXw7Jg6BDX",
    "outputId": "5508ce2a-b521-4e1a-b5c3-a23e07b19457"
   },
   "outputs": [],
   "source": [
    "arr53_1=np.array([int(i) for i in inlist53.split(\",\")])\n",
    "inlist53_1= input(\"Enter the list of numbers for second array(comma-separated): \")\n",
    "arr53_2 = np.array([int(i) for i in inlist53_1.split(\",\")])"
   ]
  },
  {
   "cell_type": "code",
   "execution_count": null,
   "metadata": {
    "colab": {},
    "colab_type": "code",
    "id": "85fbh2nW6BDY",
    "outputId": "055817f7-7497-4a4a-8f91-1ca605ecb385"
   },
   "outputs": [],
   "source": [
    "# arr53_1=np.array([0, 10, 20, 40, 60])\n",
    "# arr53_2=np.array([0,40])\n",
    "np.in1d(arr53_1,arr53_2)"
   ]
  },
  {
   "cell_type": "markdown",
   "metadata": {
    "colab_type": "text",
    "id": "BgcPzZwz6BDc"
   },
   "source": [
    "###### Q54. Write the NumPy program to find common values between two arrays?¶"
   ]
  },
  {
   "cell_type": "markdown",
   "metadata": {
    "colab_type": "raw",
    "id": "b7OWuMv96BDc"
   },
   "source": [
    "Expected OutputArray1: [ 0 10 20 40 60]\n",
    "Array2: [10, 30, 40]\n",
    "Common values between two arrays-\n",
    "[10 40]"
   ]
  },
  {
   "cell_type": "code",
   "execution_count": null,
   "metadata": {
    "colab": {},
    "colab_type": "code",
    "id": "mGh9_88-6BDc",
    "outputId": "55468906-a43d-4cb9-b1c9-a537bcfac29e"
   },
   "outputs": [],
   "source": [
    "inlist54_1 = input(\"Enter the list of numbers for first array(comma-separated): \")\n",
    "arr54_1=np.array([int(i) for i in inlist54_1.split(\",\")])\n",
    "inlist54_2= input(\"Enter the list of numbers for second array(comma-separated): \")\n",
    "arr54_2 = np.array([int(i) for i in inlist54_2.split(\",\")])"
   ]
  },
  {
   "cell_type": "code",
   "execution_count": null,
   "metadata": {
    "colab": {},
    "colab_type": "code",
    "id": "b-SDznfA6BDe",
    "outputId": "84ebe2dd-01b5-49ac-b0bf-f354ea647473"
   },
   "outputs": [],
   "source": [
    "arr54_1[np.in1d(arr54_1,arr54_2)]"
   ]
  },
  {
   "cell_type": "markdown",
   "metadata": {
    "colab_type": "text",
    "id": "ZidpVqxx6BDg"
   },
   "source": [
    "###### Q55. Write the NumPy program to get the unique elements of an array?"
   ]
  },
  {
   "cell_type": "markdown",
   "metadata": {
    "colab_type": "raw",
    "id": "33GBOKJ96BDh"
   },
   "source": [
    "Expected Output:\n",
    "Original array-\n",
    "[10 10 20 20 30 30]\n",
    "Unique elements of the above array-\n",
    "[10 20 30]\n",
    "\n",
    "Original array-\n",
    "[[1 1]\n",
    "[2 3]]\n",
    "Unique elements of the above array-\n",
    "[1 2 3]"
   ]
  },
  {
   "cell_type": "code",
   "execution_count": null,
   "metadata": {
    "colab": {},
    "colab_type": "code",
    "id": "vCdgpVE16BDh"
   },
   "outputs": [],
   "source": [
    "def unique_array(inlist):\n",
    "    arr = np.array(inlist)\n",
    "    arr = arr.flatten()\n",
    "    arr_set_list = list(set(arr))\n",
    "    return np.array(arr_set_list)"
   ]
  },
  {
   "cell_type": "code",
   "execution_count": null,
   "metadata": {
    "colab": {},
    "colab_type": "code",
    "id": "VJg9jsZZ6BDo",
    "outputId": "7ba61d23-8033-48ed-f406-6cd5cb797c68"
   },
   "outputs": [],
   "source": [
    "unique_array([1,2,3,3,5,6,5])"
   ]
  },
  {
   "cell_type": "markdown",
   "metadata": {
    "colab_type": "text",
    "id": "8C-Jd0hP6BDr"
   },
   "source": [
    "###### Q56. Write the NumPy program to find the set exclusive-or of two arrays."
   ]
  },
  {
   "cell_type": "markdown",
   "metadata": {
    "colab_type": "raw",
    "id": "b1qwGKB36BDr"
   },
   "source": [
    "Set exclusive-or will return the sorted, unique values that are in\n",
    "only one (not both) of the input arrays?\n",
    "Array1- [ 0 10 20 40 60 80]\n",
    "Array2- [10, 30, 40, 50, 70]\n",
    "Unique values that are in only one (not both) of the input arrays-\n",
    "[ 0 20 30 50 60 70 80]"
   ]
  },
  {
   "cell_type": "code",
   "execution_count": null,
   "metadata": {
    "colab": {},
    "colab_type": "code",
    "id": "KZc9_stB6BDs"
   },
   "outputs": [],
   "source": [
    "def xor_set(inlist1,inlist2):\n",
    "    arr56_1=np.array(inlist1)\n",
    "    arr56_2=np.array(inlist2)\n",
    "    in_arr1_only = np.setdiff1d(arr56_1,arr56_2)\n",
    "    in_arr2_only = np.setdiff1d(arr56_2,arr56_1)\n",
    "    return np.concatenate((in_arr1_only, in_arr2_only), axis = None)"
   ]
  },
  {
   "cell_type": "code",
   "execution_count": null,
   "metadata": {
    "colab": {},
    "colab_type": "code",
    "id": "-4c4nfMD6BDt",
    "outputId": "120052b6-84cf-42fe-f9a0-5bc2558a0064"
   },
   "outputs": [],
   "source": [
    "xor_set([0,10,20,40,60,80],[10,30,40,50,70])"
   ]
  },
  {
   "cell_type": "code",
   "execution_count": null,
   "metadata": {
    "colab": {},
    "colab_type": "code",
    "id": "vQfwjPcr6BDz"
   },
   "outputs": [],
   "source": [
    "#### Another simpler way:\n",
    "def xor_list(inlist1,inlist2):\n",
    "    arr56_1=np.array(inlist1)\n",
    "    arr56_2=np.array(inlist2)\n",
    "    return np.setxor1d(arr56_1,arr56_2)"
   ]
  },
  {
   "cell_type": "code",
   "execution_count": null,
   "metadata": {
    "colab": {},
    "colab_type": "code",
    "id": "DXRrZy_r6BD1",
    "outputId": "b7741ab8-d0b4-49db-cce7-6acff1ac3edd"
   },
   "outputs": [],
   "source": [
    "xor_list([0,10,20,40,60,80],[10,30,40,50,70])"
   ]
  },
  {
   "cell_type": "markdown",
   "metadata": {
    "colab_type": "text",
    "id": "QL3dS0y66BD3"
   },
   "source": [
    "###### Q57. Write the NumPy program to test if all elements in an array evaluate to True ?\n",
    "\n",
    "Note: 0 evaluates to False in NumPy"
   ]
  },
  {
   "cell_type": "code",
   "execution_count": null,
   "metadata": {
    "colab": {},
    "colab_type": "code",
    "id": "MUuaRpLg6BD3",
    "outputId": "27e8bb48-024a-40fe-c356-65fca5968837"
   },
   "outputs": [],
   "source": [
    "np.all([1,0,4,5])"
   ]
  },
  {
   "cell_type": "code",
   "execution_count": null,
   "metadata": {
    "colab": {},
    "colab_type": "code",
    "id": "tVU0cTSi6BD4",
    "outputId": "3cf942c1-dd1c-4e2f-9d7c-ce295609101e"
   },
   "outputs": [],
   "source": [
    "np.all([5,6,7,-19])"
   ]
  },
  {
   "cell_type": "markdown",
   "metadata": {
    "colab_type": "text",
    "id": "a8IYwCaW6BD5"
   },
   "source": [
    "###### Q58 Write the NumPy program to test whether any array element along the given axis evaluates to True?\n",
    "\n",
    "Note: 0 evaluates to False in NumPy."
   ]
  },
  {
   "cell_type": "code",
   "execution_count": null,
   "metadata": {
    "colab": {},
    "colab_type": "code",
    "id": "qDJyd8zG6BD5",
    "outputId": "4fc4b5ab-0603-4ca3-ec60-04026a338fac"
   },
   "outputs": [],
   "source": [
    "np.any([1,2,0,0])"
   ]
  },
  {
   "cell_type": "code",
   "execution_count": null,
   "metadata": {
    "colab": {},
    "colab_type": "code",
    "id": "PWBr21D16BD6",
    "outputId": "fedf93bc-feca-4f92-b21f-07468fc73510"
   },
   "outputs": [],
   "source": [
    "np.any([0,0,0,0,0])"
   ]
  },
  {
   "cell_type": "markdown",
   "metadata": {
    "colab_type": "text",
    "id": "SLNS1D8g6BD7"
   },
   "source": [
    "###### Q59. Write the NumPy program to construct an array by repeating?"
   ]
  },
  {
   "cell_type": "markdown",
   "metadata": {
    "colab_type": "raw",
    "id": "KDrIOwep6BD7"
   },
   "source": [
    "Sample array- [1, 2, 3, 4]\n",
    "Expected Output\n",
    "Original array\n",
    "[1, 2, 3, 4]\n",
    "Repeating 2 times\n",
    "[1 2 3 4 1 2 3 4]\n",
    "Repeating 3 times\n",
    "[1 2 3 4 1 2 3 4 1 2 3 4]"
   ]
  },
  {
   "cell_type": "code",
   "execution_count": null,
   "metadata": {
    "colab": {},
    "colab_type": "code",
    "id": "HRfxgF6S6BD8",
    "outputId": "2c0c600e-d997-4eae-9ad6-ec00601360f3"
   },
   "outputs": [],
   "source": [
    "np.tile([1,2,3,4], reps=2)"
   ]
  },
  {
   "cell_type": "code",
   "execution_count": null,
   "metadata": {
    "colab": {},
    "colab_type": "code",
    "id": "B_yKky8l6BD9",
    "outputId": "5cbe1d8d-8751-4094-87ca-4c35f056b752"
   },
   "outputs": [],
   "source": [
    "# np.repeat([1,2,3,4], repeats=2)"
   ]
  },
  {
   "cell_type": "code",
   "execution_count": null,
   "metadata": {
    "colab": {},
    "colab_type": "code",
    "id": "v6SeMGNT6BD_",
    "outputId": "c479894b-1e6a-4f87-d0b3-3990f5b5a1b2"
   },
   "outputs": [],
   "source": [
    "np.tile([1,2,3,4], reps=3)"
   ]
  },
  {
   "cell_type": "markdown",
   "metadata": {
    "colab_type": "text",
    "id": "K1pa9jbV6BEA"
   },
   "source": [
    "###### Q60. Write the NumPy program to find the indices of the maximum and minimum values with the given axis of an array?"
   ]
  },
  {
   "cell_type": "markdown",
   "metadata": {
    "colab_type": "raw",
    "id": "If-8Z7FO6BEA"
   },
   "source": [
    "Original array- [1 2 3 4 5 6]\n",
    "Maximum Values- 5\n",
    "Minimum Values- 0"
   ]
  },
  {
   "cell_type": "code",
   "execution_count": null,
   "metadata": {
    "colab": {},
    "colab_type": "code",
    "id": "tX-wiWfw6BEB"
   },
   "outputs": [],
   "source": [
    "def min_max_index(inlist):\n",
    "    arr60=np.array(inlist)\n",
    "    print(\"The minimum value: \", np.argmin(arr60))\n",
    "    print(\"The minimum value: \", np.argmax(arr60))"
   ]
  },
  {
   "cell_type": "code",
   "execution_count": null,
   "metadata": {
    "colab": {},
    "colab_type": "code",
    "id": "ZP0a0BQl6BEB",
    "outputId": "f26e58fc-ddc9-4158-9045-4b18f6cdd843"
   },
   "outputs": [],
   "source": [
    "min_max_index([1,2,3,4,5,6])"
   ]
  },
  {
   "cell_type": "markdown",
   "metadata": {
    "colab_type": "text",
    "id": "Uk9fqBah6BEC"
   },
   "source": [
    "###### Q61. Write the NumPy program compare two arrays using numpy?"
   ]
  },
  {
   "cell_type": "markdown",
   "metadata": {
    "colab_type": "raw",
    "id": "cGdOt7Fh6BED"
   },
   "source": [
    "Array a- [1 2]\n",
    "Array b- [4 5]\n",
    "a > b\n",
    "[False False]\n",
    "a >= b\n",
    "[False False]\n",
    "a < b\n",
    "[ True True]\n",
    "a <= b\n",
    "[ True True]"
   ]
  },
  {
   "cell_type": "code",
   "execution_count": null,
   "metadata": {
    "colab": {},
    "colab_type": "code",
    "id": "Q6UjV3Ju6BED",
    "outputId": "8c148e45-363d-465e-df62-4e3fab8dc8ec"
   },
   "outputs": [],
   "source": [
    "arr61_1 = np.array([1,2])\n",
    "arr61_2 = np.array([4,5])\n",
    "arr61_1>=arr61_2"
   ]
  },
  {
   "cell_type": "code",
   "execution_count": null,
   "metadata": {
    "colab": {},
    "colab_type": "code",
    "id": "6L4SKqMx6BEE"
   },
   "outputs": [],
   "source": [
    "def array_compare(inlist1,inlist2):\n",
    "    a = np.array(inlist1)\n",
    "    b = np.array(inlist2)\n",
    "    print (\"a > b\")\n",
    "    print (np.greater(a,b))\n",
    "    print (\"a >= b\")\n",
    "    print (np.greater_equal(a,b))\n",
    "    print (\"a < b\")\n",
    "    print (np.less(a,b))\n",
    "    print (\"a <= b\")\n",
    "    print (np.less_equal(a,b))"
   ]
  },
  {
   "cell_type": "code",
   "execution_count": null,
   "metadata": {
    "colab": {},
    "colab_type": "code",
    "id": "5fcl6CMH6BEF",
    "outputId": "e677707a-5ed1-40f6-a57a-3e2da4d8ee3f"
   },
   "outputs": [],
   "source": [
    "array_compare(arr61_1,arr61_2)"
   ]
  },
  {
   "cell_type": "code",
   "execution_count": null,
   "metadata": {
    "colab": {},
    "colab_type": "code",
    "id": "6AMnDH-K6BEG",
    "outputId": "3b703e95-e814-409d-90e5-e8c99321e558"
   },
   "outputs": [],
   "source": [
    "array_compare([1,3,5],[1,4,5])"
   ]
  },
  {
   "cell_type": "markdown",
   "metadata": {
    "colab_type": "text",
    "id": "wF9BwWw-6BEH"
   },
   "source": [
    "###### Q62. Write the NumPy program to sort an along the first, last axis of an array?"
   ]
  },
  {
   "cell_type": "markdown",
   "metadata": {
    "colab_type": "raw",
    "id": "clbpD5-d6BEH"
   },
   "source": [
    "Sample array- [[2,5],[4,4]]\n",
    "Expected OutputOriginal array:\n",
    "[[4 6]\n",
    "[2 1]]\n",
    "Sort along the first axis:\n",
    "[[2 1]\n",
    "[4 6]]\n",
    "Sort along the last axis-\n",
    "[[1 2]\n",
    "[4 6]]"
   ]
  },
  {
   "cell_type": "code",
   "execution_count": null,
   "metadata": {
    "colab": {},
    "colab_type": "code",
    "id": "qL-kUgzc6BEH",
    "outputId": "b50a170f-b16b-4c9f-9aa5-b766f0d5d2da"
   },
   "outputs": [],
   "source": [
    "sorted_rows=np.sort([[4,6],[2,1]],axis=0)\n",
    "np.sort([[2,5],[4,4]],axis=0)"
   ]
  },
  {
   "cell_type": "code",
   "execution_count": null,
   "metadata": {
    "colab": {},
    "colab_type": "code",
    "id": "Iwoms7GC6BEJ",
    "outputId": "6734a7a4-2df8-40bb-84e0-62c37c70534b"
   },
   "outputs": [],
   "source": [
    "np.sort([[4,6],[2,1]],axis=0)"
   ]
  },
  {
   "cell_type": "code",
   "execution_count": null,
   "metadata": {
    "colab": {},
    "colab_type": "code",
    "id": "KH4b86O06BEK",
    "outputId": "0367d33c-d5f8-4e91-9e00-8124c6880e76"
   },
   "outputs": [],
   "source": [
    "np.sort(sorted_rows,axis=1)"
   ]
  },
  {
   "cell_type": "code",
   "execution_count": null,
   "metadata": {
    "colab": {},
    "colab_type": "code",
    "id": "51dXmgpV6BEN"
   },
   "outputs": [],
   "source": [
    "def sorting_row_column(inlist):\n",
    "    a=np.sort([[2,5],[4,4]],axis=0)\n",
    "    b=np.sort(a,axis=1)\n",
    "    return a"
   ]
  },
  {
   "cell_type": "code",
   "execution_count": null,
   "metadata": {
    "colab": {},
    "colab_type": "code",
    "id": "GclqCtA36BEO",
    "outputId": "393078a7-9d8b-45b5-c8da-4302e4d60700"
   },
   "outputs": [],
   "source": [
    "sorting_row_column([[2,5],[4,4]])"
   ]
  },
  {
   "cell_type": "markdown",
   "metadata": {
    "colab_type": "text",
    "id": "wD5n6oMB6BEQ"
   },
   "source": [
    "###### Q63. Write the NumPy program to sort pairs of first name and last name return their indices (first by last name, then by first name)."
   ]
  },
  {
   "cell_type": "markdown",
   "metadata": {
    "colab_type": "raw",
    "id": "OilmjAYV6BEQ"
   },
   "source": [
    "first_names - ( Betsey, Shelley, Lanell, Genesis, Margery )\n",
    "last_names - ( Battle, Brien, Plotner, Stahl, Woolum )\n",
    "Expected Output-\n",
    "[1 3 2 4 0]"
   ]
  },
  {
   "cell_type": "code",
   "execution_count": null,
   "metadata": {
    "colab": {},
    "colab_type": "code",
    "id": "VhtYYdsP6BER",
    "outputId": "c26eda70-ca47-4deb-a9d2-e5a03fb481ac"
   },
   "outputs": [],
   "source": [
    "first_names = (\"Betsey\", \"Shelley\", \"Lanell\", \"Genesis\", \"Margery\")\n",
    "last_names = (\"Battle\", \"Brien\", \"Plotner\", \"Stahl\", \"Woolum\")\n",
    "full_name=tuple(zip(first_names,last_names))\n",
    "full_name"
   ]
  },
  {
   "cell_type": "code",
   "execution_count": null,
   "metadata": {
    "colab": {},
    "colab_type": "code",
    "id": "0QGXZh1q6BEU",
    "outputId": "b0a48034-e1bc-431a-b74b-16861a5e4d28"
   },
   "outputs": [],
   "source": [
    "sorted(full_name)"
   ]
  },
  {
   "cell_type": "code",
   "execution_count": null,
   "metadata": {
    "colab": {},
    "colab_type": "code",
    "id": "N4zzqDGh6BEV",
    "outputId": "08435e92-afc9-4d65-9e3b-507dd80c0d5d"
   },
   "outputs": [],
   "source": [
    "np.lexsort((first_names,last_names))"
   ]
  },
  {
   "cell_type": "code",
   "execution_count": null,
   "metadata": {
    "colab": {},
    "colab_type": "code",
    "id": "aRJt3R0r6BEW",
    "outputId": "f9e8efd0-9e3f-4cf1-c949-e6d9d337885f"
   },
   "outputs": [],
   "source": [
    "print((first_names,last_names))"
   ]
  },
  {
   "cell_type": "markdown",
   "metadata": {
    "colab_type": "text",
    "id": "3ZT0ScWH6BEZ"
   },
   "source": [
    "###### Q64. Write the NumPy program to get the values and indices of the elements that are bigger than 10 in the given array?"
   ]
  },
  {
   "cell_type": "markdown",
   "metadata": {
    "colab_type": "raw",
    "id": "qMDrHz7M6BEZ"
   },
   "source": [
    "Original array-\n",
    "[[ 0 10 20]\n",
    "[20 30 40]]\n",
    "Values bigger than 10 = [20 20 30 40]\n",
    "Their indices are (array([0, 1, 1, 1]), array([2, 0, 1, 2]))"
   ]
  },
  {
   "cell_type": "code",
   "execution_count": null,
   "metadata": {
    "colab": {},
    "colab_type": "code",
    "id": "UW_6lM_G6BEZ",
    "outputId": "ddc33ed9-60bc-45a3-f5eb-0fc689ba114b"
   },
   "outputs": [],
   "source": [
    "arr64 = np.array([[0,10,20],[20,30,40]])\n",
    "arr64"
   ]
  },
  {
   "cell_type": "code",
   "execution_count": null,
   "metadata": {
    "colab": {},
    "colab_type": "code",
    "id": "yXYxc5Kh6BEa",
    "outputId": "cdb02a15-8b1c-4061-f5fd-7b4a9c829f2b"
   },
   "outputs": [],
   "source": [
    "np.where(arr64>10)"
   ]
  },
  {
   "cell_type": "markdown",
   "metadata": {
    "colab_type": "text",
    "id": "YMg20Vjt6BEb"
   },
   "source": [
    "###### Q65. Write the NumPy program to find the memory size of a NumPy array?"
   ]
  },
  {
   "cell_type": "code",
   "execution_count": null,
   "metadata": {
    "colab": {},
    "colab_type": "code",
    "id": "OdiwHnw86BEc"
   },
   "outputs": [],
   "source": [
    "p=np.ones((4,4))"
   ]
  },
  {
   "cell_type": "code",
   "execution_count": null,
   "metadata": {
    "colab": {},
    "colab_type": "code",
    "id": "wenJu9-h6BEc",
    "outputId": "3bec5b89-1d69-48a8-d4cf-72488505ef4a"
   },
   "outputs": [],
   "source": [
    "p.size"
   ]
  },
  {
   "cell_type": "code",
   "execution_count": null,
   "metadata": {
    "colab": {},
    "colab_type": "code",
    "id": "jDtl-Lwt6BEd",
    "outputId": "5f956974-bb6d-43b7-dc82-ddc894f88a44"
   },
   "outputs": [],
   "source": [
    "print(\"Memory size of a Numpy Array:\", p.itemsize*p.size)"
   ]
  },
  {
   "cell_type": "markdown",
   "metadata": {
    "colab_type": "text",
    "id": "eoQgL98A6BEe"
   },
   "source": [
    "###### Q66. Write the NumPy program to create an array of ones and an array of zeros?\n"
   ]
  },
  {
   "cell_type": "markdown",
   "metadata": {
    "colab_type": "raw",
    "id": "zBs3JSts6BEe"
   },
   "source": [
    "Expected Output\n",
    "Create an array of zeros\n",
    "Default type is float\n",
    "[[ 0. 0.]]\n",
    "Type changes to int\n",
    "[[0 0]]\n",
    "Create an array of ones\n",
    "Default type is float\n",
    "[[ 1. 1.]]\n",
    "Type changes to int\n",
    "[[1 1]]"
   ]
  },
  {
   "cell_type": "code",
   "execution_count": null,
   "metadata": {
    "colab": {},
    "colab_type": "code",
    "id": "TKhrFG7z6BEf",
    "outputId": "fd7c09d1-535a-4223-f1e9-f9488c48f365"
   },
   "outputs": [],
   "source": [
    "### Creating arrays of zeroes with type int\n",
    "np.zeros((2,2), dtype='int')"
   ]
  },
  {
   "cell_type": "code",
   "execution_count": null,
   "metadata": {
    "colab": {},
    "colab_type": "code",
    "id": "zqXh0sXy6BEf",
    "outputId": "a02f11da-c40a-4e0d-b6f3-78ba0b9c9d27"
   },
   "outputs": [],
   "source": [
    "### Creating arrays of ones with type int\n",
    "np.ones((2,2), dtype='int')"
   ]
  },
  {
   "cell_type": "markdown",
   "metadata": {
    "colab_type": "text",
    "id": "rRFbdlTE6BEh"
   },
   "source": [
    "###### Q67. Write the NumPy program to change the dimension of an array?"
   ]
  },
  {
   "cell_type": "markdown",
   "metadata": {
    "colab_type": "raw",
    "id": "-rvOqvEU6BEi"
   },
   "source": [
    "Expected Output\n",
    "6 rows and 0 columns\n",
    "(6,)\n",
    "(3, 3) -> 3 rows and 3 columns\n",
    "[[1 2 3]\n",
    "[4 5 6]\n",
    "[7 8 9]]\n",
    "Change array shape to (3, 3) -> 3 rows and 3 columns\n",
    "[[1 2 3]\n",
    "[4 5 6]\n",
    "[7 8 9]]"
   ]
  },
  {
   "cell_type": "code",
   "execution_count": null,
   "metadata": {
    "colab": {},
    "colab_type": "code",
    "id": "s6nm3NmS6BEi"
   },
   "outputs": [],
   "source": [
    "arr67 = np.random.randint(low=0, high=90, size=6)"
   ]
  },
  {
   "cell_type": "code",
   "execution_count": null,
   "metadata": {
    "colab": {},
    "colab_type": "code",
    "id": "yT0T40jW6BEj",
    "outputId": "751a1caa-ff65-4126-d29b-ecd250adfdb9"
   },
   "outputs": [],
   "source": [
    "arr67"
   ]
  },
  {
   "cell_type": "code",
   "execution_count": null,
   "metadata": {
    "colab": {},
    "colab_type": "code",
    "id": "mfDqB4Kn6BEk",
    "outputId": "5fc67661-80cb-4c96-a76c-36743a5bc9b6"
   },
   "outputs": [],
   "source": [
    "### Reshaping the array.\n",
    "arr67.resize((3,2))\n",
    "arr67"
   ]
  },
  {
   "cell_type": "markdown",
   "metadata": {
    "colab_type": "text",
    "id": "qSZaZPCq6BEn"
   },
   "source": [
    "###### Q68. Write the NumPy program to create a new shape to an array without changing its data ?"
   ]
  },
  {
   "cell_type": "markdown",
   "metadata": {
    "colab_type": "raw",
    "id": "yGiwN5266BEo"
   },
   "source": [
    "Reshape 3x2-\n",
    "[[1 2]\n",
    "[3 4]\n",
    "[5 6]]\n",
    "Reshape 2x3-\n",
    "[[1 2 3]\n",
    "[4 5 6]]"
   ]
  },
  {
   "cell_type": "code",
   "execution_count": null,
   "metadata": {
    "colab": {},
    "colab_type": "code",
    "id": "7e5kw6mN6BEo",
    "outputId": "c9b8ec61-ab28-42d4-ac84-eff7865c6afe"
   },
   "outputs": [],
   "source": [
    "arr68 = np.array([[1,2], [3,4],[5,6]])\n",
    "arr68_mod=arr68.reshape((2,3))\n",
    "print(arr68)\n",
    "print(arr68_mod)"
   ]
  },
  {
   "cell_type": "markdown",
   "metadata": {
    "colab_type": "text",
    "id": "_f-6HMU26BEp"
   },
   "source": [
    "###### Q69. Write the NumPy program to create a new array of 3*5, filled with 2?"
   ]
  },
  {
   "cell_type": "code",
   "execution_count": null,
   "metadata": {
    "colab": {},
    "colab_type": "code",
    "id": "oGoh8fDj6BEp",
    "outputId": "e7884642-5d80-4a35-eeb2-7bb766255e68"
   },
   "outputs": [],
   "source": [
    "np.full((3,5),2)"
   ]
  },
  {
   "cell_type": "markdown",
   "metadata": {
    "colab_type": "text",
    "id": "yToIl3ao6BEq"
   },
   "source": [
    "###### Q70. Write the NumPy program to create a 3-D array with ones on a diagonal and zeros elsewhere?"
   ]
  },
  {
   "cell_type": "markdown",
   "metadata": {
    "colab_type": "raw",
    "id": "pGcpX3486BEq"
   },
   "source": [
    "Expected Output-\n",
    "[[ 1. 0. 0.]\n",
    "[ 0. 1. 0.]\n",
    "[ 0. 0. 1.]]"
   ]
  },
  {
   "cell_type": "code",
   "execution_count": null,
   "metadata": {
    "colab": {},
    "colab_type": "code",
    "id": "eXq6RPkd6BEq",
    "outputId": "ba3c0ae7-bf02-4fda-a14d-7a83ebda79b8"
   },
   "outputs": [],
   "source": [
    "np.diag((1.,1.,1.))"
   ]
  },
  {
   "cell_type": "markdown",
   "metadata": {
    "colab_type": "text",
    "id": "dBOndnhQ6BEr"
   },
   "source": [
    "###### Q71. Write the NumPy program to split an array of 14 elements into the 3 arrays and each of which has 2, 4, and 8 elements in original order?"
   ]
  },
  {
   "cell_type": "code",
   "execution_count": null,
   "metadata": {
    "colab": {},
    "colab_type": "code",
    "id": "La0vwtWu6BEs",
    "outputId": "69f04670-7804-4299-ffde-03b987bc37b1"
   },
   "outputs": [],
   "source": [
    "arr71=np.arange(1,15)\n",
    "arr71"
   ]
  },
  {
   "cell_type": "code",
   "execution_count": null,
   "metadata": {
    "colab": {},
    "colab_type": "code",
    "id": "r_S-UXFx6BEt",
    "outputId": "6a8c9489-caea-4358-ac9b-e0ffbeed0bb2"
   },
   "outputs": [],
   "source": [
    "np.split(arr71, [2,6])"
   ]
  },
  {
   "cell_type": "markdown",
   "metadata": {
    "colab_type": "text",
    "id": "ssX4RDgJ6BEt"
   },
   "source": [
    "###### Q72. Write the NumPy program to split of an array of shape 4x4 it into two arrays along the second axis ?"
   ]
  },
  {
   "cell_type": "markdown",
   "metadata": {
    "colab_type": "raw",
    "id": "zq93QAHd6BEu"
   },
   "source": [
    "Sample array -\n",
    "[[ 0 1 2 3]\n",
    "[ 4 5 6 7]\n",
    "[ 8 9 10 11]\n",
    "[12 13 14 15]]\n",
    "Expected Output-\n",
    "[array([[ 0, 1],\n",
    "[ 4, 5],\n",
    "[ 8, 9],\n",
    "[12, 13]]), array([[ 2, 3],\n",
    "[ 6, 7],\n",
    "[10, 11],\n",
    "[14, 15]]), array([], shape=(4, 0), dtype=int64)]"
   ]
  },
  {
   "cell_type": "code",
   "execution_count": null,
   "metadata": {
    "colab": {},
    "colab_type": "code",
    "id": "EDfBjR926BEu",
    "outputId": "b20c5746-a017-4fa2-9810-1c195cb13fbb"
   },
   "outputs": [],
   "source": [
    "arr72= np.array([[ 0, 1, 2, 3], [ 4, 5, 6, 7], [ 8, 9, 10, 11], [12, 13, 14, 15]])\n",
    "arr72"
   ]
  },
  {
   "cell_type": "code",
   "execution_count": null,
   "metadata": {
    "colab": {},
    "colab_type": "code",
    "id": "h-SGImxc6BEv",
    "outputId": "941ec8fd-dc54-4a18-9979-6960b29ab7c2"
   },
   "outputs": [],
   "source": [
    "np.split(arr72, 2, axis=1)"
   ]
  },
  {
   "cell_type": "markdown",
   "metadata": {
    "colab_type": "text",
    "id": "UqDKQRbE6BEw"
   },
   "source": [
    "###### Q73. Write the NumPy program to create a 5x5 matrix with row values ranging from 0 to 4?"
   ]
  },
  {
   "cell_type": "markdown",
   "metadata": {
    "colab_type": "raw",
    "id": "WfD7O_OF6BEw"
   },
   "source": [
    "Original array-\n",
    "[[ 0. 0. 0. 0. 0.]\n",
    "[ 0. 0. 0. 0. 0.]\n",
    "[ 0. 0. 0. 0. 0.]\n",
    "[ 0. 0. 0. 0. 0.]\n",
    "[ 0. 0. 0. 0. 0.]]\n",
    "Row values ranging from 0 to 4.\n",
    "[[ 0. 1. 2. 3. 4.]\n",
    "[ 0. 1. 2. 3. 4.]\n",
    "[ 0. 1. 2. 3. 4.]\n",
    "[ 0. 1. 2. 3. 4.]\n",
    "[ 0. 1. 2. 3. 4.]]"
   ]
  },
  {
   "cell_type": "code",
   "execution_count": null,
   "metadata": {
    "colab": {},
    "colab_type": "code",
    "id": "JIVD1jsd6BEw"
   },
   "outputs": [],
   "source": [
    "arr73= np.zeros((5,5))"
   ]
  },
  {
   "cell_type": "code",
   "execution_count": null,
   "metadata": {
    "colab": {},
    "colab_type": "code",
    "id": "Tr0baMqU6BEy",
    "outputId": "694ef829-2063-4092-ddcb-d3d882a0dd3c"
   },
   "outputs": [],
   "source": [
    "arr73_pre=np.arange(0,5)\n",
    "arr73_pre"
   ]
  },
  {
   "cell_type": "code",
   "execution_count": null,
   "metadata": {
    "colab": {},
    "colab_type": "code",
    "id": "NYDajTFt6BEz",
    "outputId": "41bd5860-8d74-4fe5-9526-00a0a5abf1f1"
   },
   "outputs": [],
   "source": [
    "## one way\n",
    "np.vstack((arr73_pre,arr73_pre,arr73_pre,arr73_pre,arr73_pre))"
   ]
  },
  {
   "cell_type": "code",
   "execution_count": null,
   "metadata": {
    "colab": {},
    "colab_type": "code",
    "id": "gxgwPeVq6BE0",
    "outputId": "82d92818-1ee9-499e-9a5d-f756b37dec5c"
   },
   "outputs": [],
   "source": [
    "### second way\n",
    "np.arange(0,5)*np.ones((5,5))"
   ]
  },
  {
   "cell_type": "code",
   "execution_count": null,
   "metadata": {
    "colab": {},
    "colab_type": "code",
    "id": "0Prldml76BE1",
    "outputId": "6afe9eb4-f9c5-4230-c00c-ad28fdcffd07"
   },
   "outputs": [],
   "source": [
    "### third way\n",
    "np.arange(0,5) + np.zeros((5,5))"
   ]
  },
  {
   "cell_type": "markdown",
   "metadata": {
    "colab_type": "text",
    "id": "UepETXl86BE1"
   },
   "source": [
    "###### Q74. Write the NumPy program to create an array of zeros and three column types (integer, float, character)?"
   ]
  },
  {
   "cell_type": "markdown",
   "metadata": {
    "colab_type": "raw",
    "id": "jq-k9vB76BE2"
   },
   "source": [
    "Expected Output-\n",
    "[(1, 2., b'Albert Einstein') (2, 2., b'Edmond Halley')\n",
    "(3, 3., b'Gertrude B. Elion')]"
   ]
  },
  {
   "cell_type": "code",
   "execution_count": null,
   "metadata": {
    "colab": {},
    "colab_type": "code",
    "id": "7w8LI0ut6BE2"
   },
   "outputs": [],
   "source": [
    "a=np.zeros((3,), dtype=('i,f,50a'))"
   ]
  },
  {
   "cell_type": "code",
   "execution_count": null,
   "metadata": {
    "colab": {},
    "colab_type": "code",
    "id": "RnQ25Dy86BE3"
   },
   "outputs": [],
   "source": [
    "b=[(1,2.,\"Albert Einstein\"), (2,2.,\"Edmond Halley\"), (3,3.,\"Gertude B. Elion\")]\n",
    "a[:]=b"
   ]
  },
  {
   "cell_type": "code",
   "execution_count": null,
   "metadata": {
    "colab": {},
    "colab_type": "code",
    "id": "OWrPSEQ_6BE3",
    "outputId": "8b66c1cf-0b84-4133-9263-1410630a05ca"
   },
   "outputs": [],
   "source": [
    "a"
   ]
  },
  {
   "cell_type": "markdown",
   "metadata": {
    "colab_type": "text",
    "id": "5sAcCRMt6BE4"
   },
   "source": [
    "###### Q75. Write the NumPy program to remove the negative values in the numpy array with 0?"
   ]
  },
  {
   "cell_type": "markdown",
   "metadata": {
    "colab_type": "raw",
    "id": "yHuaV4_d6BE5"
   },
   "source": [
    "Expected Output\n",
    "Original array:\n",
    "[-1 -4 0 2 3 4 5 -6]\n",
    "Replace the negative values of the said array with 0-\n",
    "[0 0 0 2 3 4 5 0]"
   ]
  },
  {
   "cell_type": "code",
   "execution_count": null,
   "metadata": {
    "colab": {},
    "colab_type": "code",
    "id": "AnWH9wjE6BE5"
   },
   "outputs": [],
   "source": [
    "arr75=np.array([-1,-4,0,2,3,4,5,-6])"
   ]
  },
  {
   "cell_type": "code",
   "execution_count": null,
   "metadata": {
    "colab": {},
    "colab_type": "code",
    "id": "p788r0Ie6BE6"
   },
   "outputs": [],
   "source": [
    "arr75[arr75<0] =0"
   ]
  },
  {
   "cell_type": "code",
   "execution_count": null,
   "metadata": {
    "colab": {},
    "colab_type": "code",
    "id": "rWpYVylh6BE6",
    "outputId": "cd9179d0-a46e-48dc-88d6-c504e069d512"
   },
   "outputs": [],
   "source": [
    "arr75"
   ]
  },
  {
   "cell_type": "markdown",
   "metadata": {
    "colab_type": "text",
    "id": "p0w-w87u6BE7"
   },
   "source": [
    "###### Q76. Write the NumPy program to compute the histogram of a set of data?"
   ]
  },
  {
   "cell_type": "code",
   "execution_count": null,
   "metadata": {
    "colab": {},
    "colab_type": "code",
    "id": "V7jVMCso6BE7"
   },
   "outputs": [],
   "source": []
  },
  {
   "cell_type": "markdown",
   "metadata": {
    "colab_type": "text",
    "id": "6zTyaUgr6BE8"
   },
   "source": [
    "###### Q77. Write the NumPy program to compute the line graph of a set of data? S"
   ]
  },
  {
   "cell_type": "code",
   "execution_count": null,
   "metadata": {
    "colab": {},
    "colab_type": "code",
    "id": "Q4-TzjxJ6BE8"
   },
   "outputs": [],
   "source": []
  },
  {
   "cell_type": "markdown",
   "metadata": {
    "colab_type": "text",
    "id": "f7hh99GB6BE9"
   },
   "source": [
    "###### Q78. Write the NumPy program to extracts all the elements from second row from given (4x4) array?"
   ]
  },
  {
   "cell_type": "markdown",
   "metadata": {
    "colab_type": "raw",
    "id": "v5v_CCgX6BE9"
   },
   "source": [
    "Sample OutputOriginal array-\n",
    "[[ 0 1 2 3]\n",
    "[ 4 5 6 7]\n",
    "[ 8 9 10 11]\n",
    "[12 13 14 15]]\n",
    "Extracted data- Second row\n",
    "[4 5 6 7]"
   ]
  },
  {
   "cell_type": "code",
   "execution_count": null,
   "metadata": {
    "colab": {},
    "colab_type": "code",
    "id": "RZ1nQZP_6BE-"
   },
   "outputs": [],
   "source": [
    "arr78=np.arange(0,16)"
   ]
  },
  {
   "cell_type": "code",
   "execution_count": null,
   "metadata": {
    "colab": {},
    "colab_type": "code",
    "id": "jR67Hxcq6BE-"
   },
   "outputs": [],
   "source": [
    "arr78.resize(4,4)"
   ]
  },
  {
   "cell_type": "code",
   "execution_count": null,
   "metadata": {
    "colab": {},
    "colab_type": "code",
    "id": "ia7pfajc6BE_",
    "outputId": "326bfc90-12b3-436e-c163-a0560e3ba077"
   },
   "outputs": [],
   "source": [
    "arr78"
   ]
  },
  {
   "cell_type": "code",
   "execution_count": null,
   "metadata": {
    "colab": {},
    "colab_type": "code",
    "id": "zbN84FnA6BFD",
    "outputId": "88bd747c-6814-4692-f17c-e4a240cd6e0f"
   },
   "outputs": [],
   "source": [
    "### Extracting second row:\n",
    "print(arr78[1])"
   ]
  },
  {
   "cell_type": "markdown",
   "metadata": {
    "colab_type": "text",
    "id": "B3Jdl-Ze6BFH"
   },
   "source": [
    "###### Q79. Write the NumPy program to extract first element of the second row and fourth element of fourth row from a given (4x4) array? "
   ]
  },
  {
   "cell_type": "markdown",
   "metadata": {
    "colab_type": "raw",
    "id": "nmqxr7DM6BFI"
   },
   "source": [
    "Sample OutputOriginal array-\n",
    "[[ 0 1 2 3]\n",
    "[ 4 5 6 7]\n",
    "[ 8 9 10 11]\n",
    "[12 13 14 15]]\n",
    "Extracted data- First element of the second row and fourth element of fourth row\n",
    "[ 4 15]"
   ]
  },
  {
   "cell_type": "code",
   "execution_count": null,
   "metadata": {
    "colab": {},
    "colab_type": "code",
    "id": "hL_cvPSp6BFI"
   },
   "outputs": [],
   "source": [
    "arr79=arr78"
   ]
  },
  {
   "cell_type": "code",
   "execution_count": null,
   "metadata": {
    "colab": {},
    "colab_type": "code",
    "id": "-w5RLpgW6BFJ",
    "outputId": "a1aeba30-cbca-4604-a731-6a1d025409ea"
   },
   "outputs": [],
   "source": [
    "arr79"
   ]
  },
  {
   "cell_type": "code",
   "execution_count": null,
   "metadata": {
    "colab": {},
    "colab_type": "code",
    "id": "u_a5JUnK6BFK",
    "outputId": "db90e7d7-cebd-4a5e-8d39-58a6d4b35d8d"
   },
   "outputs": [],
   "source": [
    "arr79[[1,-1],[0,-1]] ### First [1,-1] is for 2nd and last row, second [0,-1] is for 1st element and last element"
   ]
  },
  {
   "cell_type": "markdown",
   "metadata": {
    "colab_type": "text",
    "id": "C0qXGDmB6BFL"
   },
   "source": [
    "###### Q80. Write the NumPy program to add two arrays A and B of sizes (3,3) and (,3)?"
   ]
  },
  {
   "cell_type": "markdown",
   "metadata": {
    "colab_type": "raw",
    "id": "z3_fYRre6BFL"
   },
   "source": [
    "Sample Output\n",
    "Original array\n",
    "Array-1\n",
    "[[1 1 1]\n",
    "[1 1 1]\n",
    "[1 1 1]]\n",
    "\n",
    "Array-2\n",
    "[0 1 2]\n",
    "A + B:\n",
    "\n",
    "[[1 2 3]\n",
    " [1 2 3]\n",
    "[1 2 3]]"
   ]
  },
  {
   "cell_type": "code",
   "execution_count": null,
   "metadata": {
    "colab": {},
    "colab_type": "code",
    "id": "CgONJUzQ6BFM",
    "outputId": "b2bc01ef-6396-49c4-bbb0-d917c03124b6"
   },
   "outputs": [],
   "source": [
    "arr80_1=np.full((3,3),1)\n",
    "print(arr80_1)\n",
    "arr80_2 = np.arange(0,3)\n",
    "print(arr80_2)"
   ]
  },
  {
   "cell_type": "code",
   "execution_count": null,
   "metadata": {
    "colab": {},
    "colab_type": "code",
    "id": "CEYZXEFY6BFN",
    "outputId": "6be9361c-351e-484b-d283-3008895595df"
   },
   "outputs": [],
   "source": [
    "arr80=arr80_1+arr80_2\n",
    "arr80"
   ]
  },
  {
   "cell_type": "markdown",
   "metadata": {
    "colab_type": "text",
    "id": "4Lk8yDOB6BFN"
   },
   "source": [
    "###### Q81. Write the NumPy program to copy data from a given array to another array?"
   ]
  },
  {
   "cell_type": "markdown",
   "metadata": {
    "colab_type": "raw",
    "id": "7cS6-2gk6BFO"
   },
   "source": [
    "Sample Output\n",
    "Original array-\n",
    "[24 27 30 29 18 14]\n",
    "Copy of the said array-\n",
    "[24 27 30 29 18 14]"
   ]
  },
  {
   "cell_type": "code",
   "execution_count": null,
   "metadata": {
    "colab": {},
    "colab_type": "code",
    "id": "UkYVvVfC6BFO",
    "outputId": "5a5872a5-abc6-4ee9-980b-f90e55972647"
   },
   "outputs": [],
   "source": [
    "arr81 = np.array([24, 27, 30, 29, 18, 14])\n",
    "arr81"
   ]
  },
  {
   "cell_type": "code",
   "execution_count": null,
   "metadata": {
    "colab": {},
    "colab_type": "code",
    "id": "ZEerl83u6BFR"
   },
   "outputs": [],
   "source": [
    "new_arr81=np.copy(arr81)"
   ]
  },
  {
   "cell_type": "code",
   "execution_count": null,
   "metadata": {
    "colab": {},
    "colab_type": "code",
    "id": "pidQumc06BFS",
    "outputId": "8aec0808-5f6f-4984-8cc3-455ded30e6a6"
   },
   "outputs": [],
   "source": [
    "new_arr81"
   ]
  },
  {
   "cell_type": "markdown",
   "metadata": {
    "colab_type": "text",
    "id": "NklVUI006BFU"
   },
   "source": [
    "###### Q82. Write the NumPy program to calculate the sum of all columns of the 2D numpy array?"
   ]
  },
  {
   "cell_type": "markdown",
   "metadata": {
    "colab_type": "raw",
    "id": "4mQyQGm56BFU"
   },
   "source": [
    "Sample Output\n",
    "Original array-\n",
    "[[ 0 1 2 3 4 5 6 7 8]\n",
    "[ 9 10 11 12 13 14 15 16 17]\n",
    "[18 19 20 21 22 23 24 25 26]\n",
    "[27 28 29 30 31 32 33 34 35]]\n",
    "Sum of all columns-\n",
    "[54 58 62 66 70 74 78 82 86]"
   ]
  },
  {
   "cell_type": "code",
   "execution_count": null,
   "metadata": {
    "colab": {},
    "colab_type": "code",
    "id": "DzHbpJz26BFV",
    "outputId": "734f3777-9c73-4ae7-92e8-c0e9c08a8f58"
   },
   "outputs": [],
   "source": [
    "arr82=np.arange(0,36)\n",
    "arr82.resize((4,9))\n",
    "arr82"
   ]
  },
  {
   "cell_type": "code",
   "execution_count": null,
   "metadata": {
    "colab": {},
    "colab_type": "code",
    "id": "MqbalFsr6BFW",
    "outputId": "1aa0804b-a78a-4c1f-a83e-64dd86bdcdf9"
   },
   "outputs": [],
   "source": [
    "np.sum(arr82, axis=0)"
   ]
  },
  {
   "cell_type": "markdown",
   "metadata": {
    "colab_type": "text",
    "id": "rDrhq9qO6BFX"
   },
   "source": [
    "###### Q83. Write the NumPy program to calculate averages without NaNs along the given array?"
   ]
  },
  {
   "cell_type": "markdown",
   "metadata": {
    "colab_type": "raw",
    "id": "61L_v2586BFY"
   },
   "source": [
    "Sample OutputOriginal array-\n",
    "[[10. 20. 30.]\n",
    "[40. 50. nan]\n",
    "[nan 6. nan]\n",
    "[nan nan nan]]\n",
    "Averages without NaNs along the said array-\n",
    "[20. 45. 6. nan]"
   ]
  },
  {
   "cell_type": "code",
   "execution_count": null,
   "metadata": {
    "colab": {},
    "colab_type": "code",
    "id": "JZKXjjNN6BFY",
    "outputId": "941712c8-7007-421b-9027-947bf1dab98d"
   },
   "outputs": [],
   "source": [
    "arr83=np.nan *np.empty((4,3))\n",
    "arr83"
   ]
  },
  {
   "cell_type": "code",
   "execution_count": null,
   "metadata": {
    "colab": {},
    "colab_type": "code",
    "id": "limKCgVT6BFZ",
    "outputId": "2733c684-f49e-4a29-e3dc-500b3fa9c898"
   },
   "outputs": [],
   "source": [
    "arr83[0] = [10.,20.,30.]\n",
    "arr83[1][:2] = [40.,50.]\n",
    "arr83[2][1]= 6.\n",
    "arr83"
   ]
  },
  {
   "cell_type": "code",
   "execution_count": null,
   "metadata": {
    "colab": {},
    "colab_type": "code",
    "id": "4EQR_3FO6BFa",
    "outputId": "5f891e6d-4aba-436f-8d03-b1d23ee7aa09"
   },
   "outputs": [],
   "source": [
    "np.nanmean(arr83,axis=1)"
   ]
  },
  {
   "cell_type": "markdown",
   "metadata": {
    "colab_type": "text",
    "id": "vb1XJ-wA6BFe"
   },
   "source": [
    "###### Q84. Create two arrays of six elements. Write the NumPy program to count the number of instances of a value occurring in one array on the condition of another array. - TO ASK"
   ]
  },
  {
   "cell_type": "markdown",
   "metadata": {
    "colab_type": "raw",
    "id": "lx8uDgNd6BFe"
   },
   "source": [
    "Sample Output\n",
    "Original arrays-\n",
    "[ 10 -10 10 -10 -10 10]\n",
    "[0.85 0.45 0.9 0.8 0.12 0.6 ]\n",
    "Number of instances of a value occurring in one array on the condition of another\n",
    "array: 3"
   ]
  },
  {
   "cell_type": "code",
   "execution_count": null,
   "metadata": {
    "colab": {},
    "colab_type": "code",
    "id": "ZYxtmNE96BFe"
   },
   "outputs": [],
   "source": [
    "a = np.array([ 10, -10, 10, -10, -10, 10])\n",
    "b = np.array([0.85, 0.45, 0.9, 0.8, 0.12, 0.6 ])"
   ]
  },
  {
   "cell_type": "code",
   "execution_count": null,
   "metadata": {
    "colab": {},
    "colab_type": "code",
    "id": "5GlN3kNl6BFf",
    "outputId": "807c41ad-92b8-491a-f741-68da3b88b83c"
   },
   "outputs": [],
   "source": [
    "np.sum((a==10) & (b >0.5))"
   ]
  },
  {
   "cell_type": "markdown",
   "metadata": {
    "colab_type": "text",
    "id": "t7Est_Mf6BFg"
   },
   "source": [
    "###### Q85. Write the NumPy program to convert a Python dictionary to a Numpy ndarray ?"
   ]
  },
  {
   "cell_type": "raw",
   "metadata": {
    "colab_type": "text",
    "id": "fy6mWgUM8xHm"
   },
   "source": [
    "Original dictionary-\n",
    "{'column0': {'a': 1, 'b': 0.0, 'c': 0.0, 'd': 2.0},\n",
    "'column1': {'a': 3.0, 'b': 1, 'c': 0.0, 'd': -1.0},\n",
    "'column2': {'a': 4, 'b': 1, 'c': 5.0, 'd': -1.0},\n",
    "'column3': {'a': 3.0, 'b': -1.0, 'c': -1.0, 'd': -1.0}}\n",
    "Type: <class 'dict'>\n",
    "ndarray-\n",
    "[[ 1. 0. 0. 2.]\n",
    "[ 3. 1. 0. -1.]\n",
    "[ 4. 1. 5. -1.]\n",
    "[ 3. -1. -1. -1.]]\n",
    "Type: <class 'numpy.ndarray'>"
   ]
  },
  {
   "cell_type": "code",
   "execution_count": null,
   "metadata": {
    "colab": {
     "base_uri": "https://localhost:8080/",
     "height": 85
    },
    "colab_type": "code",
    "id": "Wn-tsJCc6BFg",
    "outputId": "9c839121-a2d1-4cf3-8f8d-79fda90d1bf0"
   },
   "outputs": [],
   "source": [
    "dict86 = {'column0': {'a': 1, 'b': 0.0, 'c': 0.0, 'd': 2.0}, \n",
    "          'column1': {'a': 3.0, 'b': 1, 'c': 0.0, 'd': -1.0}, \n",
    "          'column2': {'a': 4, 'b': 1, 'c': 5.0, 'd': -1.0}, \n",
    "          'column3': {'a': 3.0, 'b': -1.0, 'c': -1.0, 'd': -1.0}\n",
    "          }\n",
    "dict86"
   ]
  },
  {
   "cell_type": "code",
   "execution_count": null,
   "metadata": {},
   "outputs": [],
   "source": [
    "pd.DataFrame(dict86)"
   ]
  },
  {
   "cell_type": "code",
   "execution_count": null,
   "metadata": {
    "colab": {},
    "colab_type": "code",
    "id": "m0yFQkkK6lV3"
   },
   "outputs": [],
   "source": [
    "import numpy as np"
   ]
  },
  {
   "cell_type": "code",
   "execution_count": null,
   "metadata": {
    "colab": {
     "base_uri": "https://localhost:8080/",
     "height": 34
    },
    "colab_type": "code",
    "id": "QHSGH_149PPQ",
    "outputId": "52a0d183-30e7-4cc6-f462-348f0a0e337c"
   },
   "outputs": [],
   "source": [
    "[ v[k1] for k,v in dict86.items() for k1, v1 in v.items()]"
   ]
  },
  {
   "cell_type": "code",
   "execution_count": null,
   "metadata": {
    "colab": {
     "base_uri": "https://localhost:8080/",
     "height": 85
    },
    "colab_type": "code",
    "id": "rd3O9Rih6BFi",
    "outputId": "6aec7946-df7a-4396-87a3-a74012427e74"
   },
   "outputs": [],
   "source": [
    "np.array([ [ v[k1] for k1,v1 in v.items()] for k,v in dict86.items()])"
   ]
  },
  {
   "cell_type": "markdown",
   "metadata": {
    "colab_type": "text",
    "id": "EQ-KRQcs_RVT"
   },
   "source": [
    "###### Q86. Write the Numpy program to find and store the non-zero unique rows in an array after comparing each row with other row in the given matrix?\n"
   ]
  },
  {
   "cell_type": "raw",
   "metadata": {
    "colab_type": "text",
    "id": "mLpcqTuz_t9m"
   },
   "source": [
    "Original array-\n",
    "[[ 1 1 0]\n",
    "[ 0 0 0]\n",
    "[ 0 2 3]\n",
    "[ 0 0 0]\n",
    "[ 0 -1 1]\n",
    "[ 0 0 0]]\n",
    "Non-zero unique rows-\n",
    "[[ 1 1 0]\n",
    "[ 0 2 3]\n",
    "[ 0 -1 1]]"
   ]
  },
  {
   "cell_type": "code",
   "execution_count": null,
   "metadata": {
    "colab": {
     "base_uri": "https://localhost:8080/",
     "height": 119
    },
    "colab_type": "code",
    "id": "m4BkIvgE6BFk",
    "outputId": "fd0cd34e-850b-4f78-fbdc-e11ec4369ebf"
   },
   "outputs": [],
   "source": [
    "arr86=np.array([[ 1, 1, 0], [ 0, 0, 0], [ 0, 2, 3], [ 0, 0, 0], [ 0, -1, 1], [ 0, 0, 0]])\n",
    "arr86"
   ]
  },
  {
   "cell_type": "code",
   "execution_count": null,
   "metadata": {
    "colab": {
     "base_uri": "https://localhost:8080/",
     "height": 34
    },
    "colab_type": "code",
    "id": "gtDwJXq3AWRh",
    "outputId": "806b9bb4-9ede-4670-d0c4-0807a063ef56"
   },
   "outputs": [],
   "source": [
    "arr86[0] == arr86[2]"
   ]
  },
  {
   "cell_type": "code",
   "execution_count": null,
   "metadata": {
    "colab": {
     "base_uri": "https://localhost:8080/",
     "height": 34
    },
    "colab_type": "code",
    "id": "x9h9XThGBTQX",
    "outputId": "856c5909-3ec9-4d95-b74b-fd8edacbe04c"
   },
   "outputs": [],
   "source": [
    "np.zeros(arr86.shape[1],dtype='int')"
   ]
  },
  {
   "cell_type": "code",
   "execution_count": null,
   "metadata": {
    "colab": {
     "base_uri": "https://localhost:8080/",
     "height": 51
    },
    "colab_type": "code",
    "id": "lmdRoCvqAz8D",
    "outputId": "206126e2-5cd8-45d5-8721-6ac81939bec1"
   },
   "outputs": [],
   "source": [
    "!np.all(arr86[1]==np.zeros(arr86.shape[1],dtype='int')) "
   ]
  },
  {
   "cell_type": "code",
   "execution_count": null,
   "metadata": {
    "colab": {
     "base_uri": "https://localhost:8080/",
     "height": 34
    },
    "colab_type": "code",
    "id": "zK6LXVzLDPkn",
    "outputId": "71a1c339-2daa-4f7a-826c-4d5f5ef0f38d"
   },
   "outputs": [],
   "source": [
    "arr86[1].any()"
   ]
  },
  {
   "cell_type": "code",
   "execution_count": null,
   "metadata": {
    "colab": {
     "base_uri": "https://localhost:8080/",
     "height": 68
    },
    "colab_type": "code",
    "id": "zNuEpKm2BOaO",
    "outputId": "4a429596-6567-484e-9356-d5cb91d5446b"
   },
   "outputs": [],
   "source": [
    "list_86 = []\n",
    "for i in range(arr86.shape[0]):\n",
    "    if list(arr86[i]) not in list_86:\n",
    "        if arr86[i].any(): \n",
    "        list_86.append(list(arr86[i]))\n",
    "np.array(list_86)"
   ]
  },
  {
   "cell_type": "markdown",
   "metadata": {
    "colab_type": "text",
    "id": "uflnjc-vG7k3"
   },
   "source": [
    "###### Q87. Write the NumPy program to multiply the matrix by another matrix of complex numbers and create a new matrix of complex numbers?\n"
   ]
  },
  {
   "cell_type": "raw",
   "metadata": {
    "colab_type": "text",
    "id": "gU9vFN1yHKwv"
   },
   "source": [
    "Sample outputFirst array-\n",
    "[ 1.+2.j 3.+4.j]\n",
    "Second array-\n",
    "[ 5.+6.j 7.+8.j]\n",
    "Product of above two arrays-\n",
    "(70-8j)"
   ]
  },
  {
   "cell_type": "code",
   "execution_count": null,
   "metadata": {
    "colab": {
     "base_uri": "https://localhost:8080/",
     "height": 51
    },
    "colab_type": "code",
    "id": "QIbBQlmXDFKu",
    "outputId": "00e3046e-91a4-4528-ae96-9ad86b0f43c5"
   },
   "outputs": [],
   "source": [
    "arr87_1=np.array([ 1.+2.j, 3.+4.j] )\n",
    "print(arr87_1)\n",
    "arr87_2=np.array([ 5.+6.j, 7.+8.j] )\n",
    "print(arr87_2)"
   ]
  },
  {
   "cell_type": "code",
   "execution_count": null,
   "metadata": {
    "colab": {
     "base_uri": "https://localhost:8080/",
     "height": 34
    },
    "colab_type": "code",
    "id": "tZ4BAKDWHksc",
    "outputId": "c41d0ff6-0ed7-45db-d22a-485be15ec7f5"
   },
   "outputs": [],
   "source": [
    "arr87_1.dot(arr87_2)"
   ]
  },
  {
   "cell_type": "code",
   "execution_count": null,
   "metadata": {
    "colab": {
     "base_uri": "https://localhost:8080/",
     "height": 34
    },
    "colab_type": "code",
    "id": "te1_2n6BHvEJ",
    "outputId": "221cfccb-aa8f-4b4f-8093-7b9db7bbca84"
   },
   "outputs": [],
   "source": [
    "np.vdot(arr87_1,arr87_2)"
   ]
  },
  {
   "cell_type": "markdown",
   "metadata": {
    "colab_type": "text",
    "id": "ldc2MRZ5KlcQ"
   },
   "source": [
    "###### Q88. Write a NumPy program to generate the matrix product of two Arrays?\n"
   ]
  },
  {
   "cell_type": "raw",
   "metadata": {
    "colab_type": "text",
    "id": "F1m7_2DKKr62"
   },
   "source": [
    "Sample OutputMatrices and vectors.\n",
    "x-\n",
    "[[1, 0], [1, 1]]\n",
    "y-\n",
    "[[3, 1], [2, 2]]\n",
    "Matrix product of above two arrays-\n",
    "[[3 1]\n",
    "[5 3]]"
   ]
  },
  {
   "cell_type": "code",
   "execution_count": null,
   "metadata": {
    "colab": {
     "base_uri": "https://localhost:8080/",
     "height": 85
    },
    "colab_type": "code",
    "id": "oRuUxVqoI7e-",
    "outputId": "72b0af13-c957-4046-dac4-62642f6467d7"
   },
   "outputs": [],
   "source": [
    "arr88_1=np.array([[1, 0], [1, 1]])\n",
    "print(arr88_1)\n",
    "arr88_2=np.array([[3, 1], [2, 2]])\n",
    "print(arr88_2)"
   ]
  },
  {
   "cell_type": "code",
   "execution_count": null,
   "metadata": {
    "colab": {
     "base_uri": "https://localhost:8080/",
     "height": 51
    },
    "colab_type": "code",
    "id": "NQMetuk3LAcG",
    "outputId": "cead2c51-7ef3-4754-ef01-25e9866e416b"
   },
   "outputs": [],
   "source": [
    "## One way\n",
    "np.dot(arr88_1,arr88_2)"
   ]
  },
  {
   "cell_type": "code",
   "execution_count": null,
   "metadata": {
    "colab": {
     "base_uri": "https://localhost:8080/",
     "height": 51
    },
    "colab_type": "code",
    "id": "xFgI-zf_LZvD",
    "outputId": "b51bd7c6-ca42-40a2-e31c-6f68055c9c9d"
   },
   "outputs": [],
   "source": [
    "## Another way\n",
    "np.matmul(arr88_1,arr88_2)"
   ]
  },
  {
   "cell_type": "markdown",
   "metadata": {
    "colab_type": "text",
    "id": "ABHb_-vsLoS0"
   },
   "source": [
    "###### Q89. Write the NumPy program to find roots of the following Polynomials?"
   ]
  },
  {
   "cell_type": "raw",
   "metadata": {
    "colab_type": "text",
    "id": "Ga0rA4GYLxK8"
   },
   "source": [
    "a) (x2 - 4x + 7)\n",
    "b) x4- 11x3 + 9x2 + 11x ? 10\n",
    "Sample outputRoots of the first polynomial-\n",
    "[ 1. 1.]\n",
    "Roots of the second polynomial-\n",
    "[ 11.04461946+0.j -0.87114210+0.j 0.91326132+0.4531004j\n",
    "0.91326132-0.4531004j ]"
   ]
  },
  {
   "cell_type": "code",
   "execution_count": null,
   "metadata": {
    "colab": {},
    "colab_type": "code",
    "id": "CvX1aLthLeka"
   },
   "outputs": [],
   "source": []
  },
  {
   "cell_type": "markdown",
   "metadata": {
    "colab_type": "text",
    "id": "c0gxwCq4MIHA"
   },
   "source": [
    "###### Q90. Write the NumPy program to calculate inverse of sine, cosine, and inverse tangent for all elements in a given array?"
   ]
  },
  {
   "cell_type": "raw",
   "metadata": {
    "colab_type": "text",
    "id": "FulRTXJwMRWf"
   },
   "source": [
    "Sample output\n",
    "Inverse sine- [-1.57079633 0. 1.57079633]\n",
    "Inverse cosine- [3.14159265 1.57079633 0. ]\n",
    "Inverse tangent- [-0.78539816 0. 0.78539816]"
   ]
  },
  {
   "cell_type": "code",
   "execution_count": null,
   "metadata": {
    "colab": {},
    "colab_type": "code",
    "id": "QAiOES3AMQJc"
   },
   "outputs": [],
   "source": [
    "arr90=np.array([1,0, 0.5])"
   ]
  },
  {
   "cell_type": "code",
   "execution_count": null,
   "metadata": {
    "colab": {
     "base_uri": "https://localhost:8080/",
     "height": 68
    },
    "colab_type": "code",
    "id": "5Evo-ZfqMjDm",
    "outputId": "580f6023-3d36-4dbe-fd95-3b806a3e321d"
   },
   "outputs": [],
   "source": [
    "print(\"Inverse sine is: \", np.arcsin(arr90))\n",
    "print(\"Inverse cosine is: \", np.arccos(arr90))\n",
    "print(\"Inverse sine is: \", np.arctan(arr90))"
   ]
  },
  {
   "cell_type": "markdown",
   "metadata": {
    "colab_type": "text",
    "id": "tJ8KBUXCNpfn"
   },
   "source": [
    "###### Q91. Write the NumPy program to calculate the difference between in neighbouring elements, element-wise of a given array?"
   ]
  },
  {
   "cell_type": "raw",
   "metadata": {
    "colab_type": "text",
    "id": "Nc4brHvTNuv7"
   },
   "source": [
    "Sample outputOriginal array-\n",
    "[1 3 5 7 0]\n",
    "Difference between neighbouring elements, element-wise of the said array-\n",
    "[ 2 2 2 -7]"
   ]
  },
  {
   "cell_type": "code",
   "execution_count": null,
   "metadata": {
    "colab": {
     "base_uri": "https://localhost:8080/",
     "height": 34
    },
    "colab_type": "code",
    "id": "Zzhxqs7wNVDu",
    "outputId": "6ac5c55e-05cd-4cf3-d013-c0d15119ce88"
   },
   "outputs": [],
   "source": [
    "arr91=np.array([1, 3, 5, 7, 0] )\n",
    "arr91"
   ]
  },
  {
   "cell_type": "code",
   "execution_count": null,
   "metadata": {
    "colab": {
     "base_uri": "https://localhost:8080/",
     "height": 34
    },
    "colab_type": "code",
    "id": "bK-QAWwPN-Z7",
    "outputId": "a60130a6-bf38-4057-9ce5-44c329c61ca5"
   },
   "outputs": [],
   "source": [
    "np.diff(arr91)"
   ]
  },
  {
   "cell_type": "markdown",
   "metadata": {
    "colab_type": "text",
    "id": "cKUBl5xPORAL"
   },
   "source": [
    "###### Q92. Write the Python program to find the maximum and the minimum value of a given flattened array?\n"
   ]
  },
  {
   "cell_type": "code",
   "execution_count": null,
   "metadata": {
    "colab": {},
    "colab_type": "code",
    "id": "Oz8Ljb0iONyW"
   },
   "outputs": [],
   "source": [
    "#### Expected OutputOriginal flattened array-\n",
    "#### [[0 1]\n",
    "#### [2 3]]\n",
    "#### Maximum value of the above flattened array3\n",
    "#### Minimum value of the above flattened array0"
   ]
  },
  {
   "cell_type": "code",
   "execution_count": null,
   "metadata": {
    "colab": {
     "base_uri": "https://localhost:8080/",
     "height": 51
    },
    "colab_type": "code",
    "id": "jPVTQ3kNOGpt",
    "outputId": "b5b772a4-fb7d-47f3-8313-d378345fa0c1"
   },
   "outputs": [],
   "source": [
    "arr92= np.array([[0, 1], [2, 3]])\n",
    "arr92"
   ]
  },
  {
   "cell_type": "code",
   "execution_count": null,
   "metadata": {
    "colab": {},
    "colab_type": "code",
    "id": "QEZ7lkQgOvfX"
   },
   "outputs": [],
   "source": [
    "mod_arr92=arr92.flatten()"
   ]
  },
  {
   "cell_type": "code",
   "execution_count": null,
   "metadata": {
    "colab": {
     "base_uri": "https://localhost:8080/",
     "height": 51
    },
    "colab_type": "code",
    "id": "_hbtZ7N0O3Cn",
    "outputId": "1c62e1fe-3ae1-4ca4-abe2-7061c2be1612"
   },
   "outputs": [],
   "source": [
    "print(\"Maximum value of the above flattened array:\", max(mod_arr92))\n",
    "print(\"Minimum value of the above flattened array:\", min(mod_arr92))"
   ]
  },
  {
   "cell_type": "markdown",
   "metadata": {
    "colab": {},
    "colab_type": "code",
    "id": "u1CAipXRO6pa"
   },
   "source": [
    "###### Q93. Write the NumPy program to calculate the difference between in the maximum and the minimum values of a given array along the second axis ?"
   ]
  },
  {
   "cell_type": "raw",
   "metadata": {},
   "source": [
    "Expected OutputOriginal array-\n",
    "[[ 0 1 2 3 4 5]\n",
    "[ 6 7 8 9 10 11]]\n",
    "Difference between the maximum and the minimum values of the said array-\n",
    "[5 5]"
   ]
  },
  {
   "cell_type": "code",
   "execution_count": null,
   "metadata": {},
   "outputs": [],
   "source": [
    "import numpy as np"
   ]
  },
  {
   "cell_type": "code",
   "execution_count": null,
   "metadata": {},
   "outputs": [],
   "source": [
    "arr93= np.array([[ 0, 1, 2, 3, 4, 5], [6, 7, 8, 9, 10, 11]])\n",
    "arr93"
   ]
  },
  {
   "cell_type": "code",
   "execution_count": null,
   "metadata": {},
   "outputs": [],
   "source": [
    "np.amax(arr93, axis=1) - np.amin(arr93, axis=1)"
   ]
  },
  {
   "cell_type": "markdown",
   "metadata": {},
   "source": [
    "###### Q94. Write the NumPy program to compute the weighted of the given array ?\n"
   ]
  },
  {
   "cell_type": "raw",
   "metadata": {},
   "source": [
    "Sample Output\n",
    "Original array-\n",
    "[0 1 2 3 4]\n",
    "Weighted average of the said array2.6666666666666665"
   ]
  },
  {
   "cell_type": "code",
   "execution_count": null,
   "metadata": {},
   "outputs": [],
   "source": [
    "arr94=np.array([0,1,2,3,4])\n",
    "arr94"
   ]
  },
  {
   "cell_type": "code",
   "execution_count": null,
   "metadata": {},
   "outputs": [],
   "source": [
    "np.average(arr94, weights=[0,0.6,0.1,0.1,0.1])"
   ]
  },
  {
   "cell_type": "code",
   "execution_count": null,
   "metadata": {},
   "outputs": [],
   "source": [
    "np.average(arr94, weights=[0.0,0.10,0.30,0.30,.20])"
   ]
  },
  {
   "cell_type": "markdown",
   "metadata": {},
   "source": [
    "###### Q95. Write the NumPy program to compute the mean, standard deviation, and the variance of a given array along the second axis?"
   ]
  },
  {
   "cell_type": "raw",
   "metadata": {},
   "source": [
    "Sample output\n",
    "Original array-\n",
    "[0 1 2 3 4 5]\n",
    "Mean- 2.5\n",
    "std- 1\n",
    "variance- 2.9166666666666665"
   ]
  },
  {
   "cell_type": "code",
   "execution_count": null,
   "metadata": {},
   "outputs": [],
   "source": [
    "arr95=np.array([0, 1, 2, 3, 4, 5])\n",
    "arr95"
   ]
  },
  {
   "cell_type": "code",
   "execution_count": null,
   "metadata": {},
   "outputs": [],
   "source": [
    "print(\"Mean- \",np.mean(arr95))\n",
    "print(\"standard deviation- \",np.std(arr95))\n",
    "print(\"variance:- \",np.var(arr95))"
   ]
  },
  {
   "cell_type": "markdown",
   "metadata": {},
   "source": [
    "###### Q96. Write the Numpy program to compute the covariance matrix of the two given arrays?"
   ]
  },
  {
   "cell_type": "raw",
   "metadata": {},
   "source": [
    "Sample Output\n",
    "Original array1-\n",
    "[0 1 2]\n",
    "Original array1-\n",
    "[2 1 0]\n",
    "Covariance matrix of the said arrays-\n",
    "[[ 1. -1.]\n",
    "[-1. 1.]]"
   ]
  },
  {
   "cell_type": "code",
   "execution_count": null,
   "metadata": {},
   "outputs": [],
   "source": [
    "arr96_1 = np.array([0,1,2])\n",
    "arr96_2 = np.array([2,1,0])"
   ]
  },
  {
   "cell_type": "code",
   "execution_count": null,
   "metadata": {},
   "outputs": [],
   "source": [
    "arr96 = np.stack((arr96_1, arr96_2))\n",
    "arr96"
   ]
  },
  {
   "cell_type": "code",
   "execution_count": null,
   "metadata": {},
   "outputs": [],
   "source": [
    "print(\"Co-variance is: \\n\", np.cov(arr96) )"
   ]
  },
  {
   "cell_type": "markdown",
   "metadata": {},
   "source": [
    "###### Q97. Write a NumPy program to compute the cross-correlation of two given arrays ?\n"
   ]
  },
  {
   "cell_type": "raw",
   "metadata": {},
   "source": [
    "Sample Output\n",
    "Original array1-\n",
    "[0 1 3]\n",
    "Original array1-\n",
    "[2 4 5]\n",
    "Cross-correlation of the said arrays-\n",
    "[ [ 2.33333333 2.16666667 ]\n",
    " [ 2.16666667 2.33333333 ] ]"
   ]
  },
  {
   "cell_type": "code",
   "execution_count": null,
   "metadata": {},
   "outputs": [],
   "source": [
    "arr97_1=np.array([0,1,3])\n",
    "arr97_2=np.array([2,4,5])"
   ]
  },
  {
   "cell_type": "code",
   "execution_count": null,
   "metadata": {},
   "outputs": [],
   "source": [
    "print(\"cross-correlation of two given arrays: \\n\", np.correlate(arr97_1,arr97_2))"
   ]
  },
  {
   "cell_type": "markdown",
   "metadata": {},
   "source": [
    "###### Q98. Write the NumPy program to compute Pearson product-moment correlation coefficients of two given arrays?\n"
   ]
  },
  {
   "cell_type": "raw",
   "metadata": {},
   "source": [
    "Sample Output\n",
    "Original array1-\n",
    "[0 1 3]\n",
    "Original array1-\n",
    "[2 4 5]\n",
    "Pearson product-moment correlation coefficients of the said arrays-\n",
    "[[1. 0.92857143]\n",
    "[0.92857143 1. ]]\n"
   ]
  },
  {
   "cell_type": "code",
   "execution_count": null,
   "metadata": {},
   "outputs": [],
   "source": [
    "### Doubt: where the Pearson product-moment co-relation co-efficients is used in data science"
   ]
  },
  {
   "cell_type": "code",
   "execution_count": null,
   "metadata": {},
   "outputs": [],
   "source": [
    "arr98_1= np.array([0,1,3])\n",
    "arr98_2=np.array([2,4,5])"
   ]
  },
  {
   "cell_type": "code",
   "execution_count": null,
   "metadata": {},
   "outputs": [],
   "source": [
    "print(\"Pearson product-moment co-relation coefficients of the given two arrays: \\n\", np.corrcoef(arr98_1,arr98_2))"
   ]
  },
  {
   "cell_type": "markdown",
   "metadata": {},
   "source": [
    "###### Q99. Write the python program to count the number of occurrences of each value in a given array of non-negative integers?"
   ]
  },
  {
   "cell_type": "raw",
   "metadata": {},
   "source": [
    "Note: bincount() Function- It count the occurrence of each value in an array of the\n",
    "non- negative integers in the range of the array between the minimum and maximum values\n",
    "including the values that did not occur.\n",
    "Sample OutputOriginal array-\n",
    "[0, 1, 6, 1, 4, 1, 2, 2, 7]\n",
    "Number of occurrences of each value in array-\n",
    "[1 3 2 0 1 0 1 1]"
   ]
  },
  {
   "cell_type": "code",
   "execution_count": null,
   "metadata": {},
   "outputs": [],
   "source": [
    "arr99=np.array([0, 1, 6, 1, 4, 1, 2, 2, 7])\n",
    "arr99"
   ]
  },
  {
   "cell_type": "code",
   "execution_count": null,
   "metadata": {},
   "outputs": [],
   "source": [
    "np.bincount(arr99)"
   ]
  },
  {
   "cell_type": "markdown",
   "metadata": {},
   "source": [
    "###### Q100. Write a Numpy program to compute the histogram of nums against the bins?"
   ]
  },
  {
   "cell_type": "code",
   "execution_count": null,
   "metadata": {},
   "outputs": [],
   "source": []
  },
  {
   "cell_type": "markdown",
   "metadata": {},
   "source": [
    "###### Q101. Write the Python program to add, subtract, multiply and divide two pandas series ?\n"
   ]
  },
  {
   "cell_type": "raw",
   "metadata": {},
   "source": [
    "Sample Series- [2, 4, 6, 8, 10], [1, 3, 5, 7, 9]"
   ]
  },
  {
   "cell_type": "code",
   "execution_count": null,
   "metadata": {},
   "outputs": [],
   "source": [
    "import pandas as pd"
   ]
  },
  {
   "cell_type": "code",
   "execution_count": null,
   "metadata": {},
   "outputs": [],
   "source": [
    "a101_1= pd.Series([2,4,6,8,10])\n",
    "a101_1"
   ]
  },
  {
   "cell_type": "code",
   "execution_count": null,
   "metadata": {},
   "outputs": [],
   "source": [
    "a101_2=pd.Series([1, 3, 5, 7, 9])\n",
    "a101_2"
   ]
  },
  {
   "cell_type": "code",
   "execution_count": null,
   "metadata": {},
   "outputs": [],
   "source": [
    "sum_a101=a101_1+a101_2\n",
    "sum_a101"
   ]
  },
  {
   "cell_type": "code",
   "execution_count": null,
   "metadata": {},
   "outputs": [],
   "source": [
    "multiply_a101 = a101_1*a101_2\n",
    "multiply_a101"
   ]
  },
  {
   "cell_type": "code",
   "execution_count": null,
   "metadata": {},
   "outputs": [],
   "source": [
    "divide_a101=a101_1/a101_2\n",
    "divide_a101"
   ]
  },
  {
   "cell_type": "markdown",
   "metadata": {},
   "source": [
    "###### Q102. Write a Python program to convert a dictionary to the Pandas Series?\n"
   ]
  },
  {
   "cell_type": "raw",
   "metadata": {},
   "source": [
    "Sample Series\n",
    "Original dictionary-\n",
    "{'a': 100, 'b': 200, 'c': 300, 'd': 400, 'e': 800}\n",
    "Converted series -\n",
    "a 100\n",
    "b 200\n",
    "c 300\n",
    "d 400\n",
    "e 800\n",
    "dtype- int64"
   ]
  },
  {
   "cell_type": "code",
   "execution_count": null,
   "metadata": {},
   "outputs": [],
   "source": [
    "a102={'a': 100, 'b': 200, 'c': 300, 'd': 400, 'e': 800}"
   ]
  },
  {
   "cell_type": "code",
   "execution_count": null,
   "metadata": {},
   "outputs": [],
   "source": [
    "pd.Series(a102)"
   ]
  },
  {
   "cell_type": "markdown",
   "metadata": {},
   "source": [
    "###### Q103. Write a python program to change the data type of given a column or a Series?\n"
   ]
  },
  {
   "cell_type": "raw",
   "metadata": {},
   "source": [
    "Sample Series\n",
    "Original Data Series\n",
    "0 100\n",
    "1 200\n",
    "2 python\n",
    "3 300.12\n",
    "4 400\n",
    "dtype- object\n",
    "Change the said data type to numeric\n",
    "0 100.00\n",
    "1 200.00\n",
    "2 NaN\n",
    "3 300.12\n",
    "4 400.00\n",
    "dtype- float64"
   ]
  },
  {
   "cell_type": "code",
   "execution_count": null,
   "metadata": {},
   "outputs": [],
   "source": [
    "a103=pd.Series([100,200,'python',300.12,400])"
   ]
  },
  {
   "cell_type": "code",
   "execution_count": null,
   "metadata": {},
   "outputs": [],
   "source": [
    "a103.dtype"
   ]
  },
  {
   "cell_type": "code",
   "execution_count": null,
   "metadata": {},
   "outputs": [],
   "source": [
    "pd.to_numeric(a103, errors='coerce')"
   ]
  },
  {
   "cell_type": "markdown",
   "metadata": {},
   "source": [
    "###### Q104. Write the python pandas program to convert the first column of a DataFrame as a Series?"
   ]
  },
  {
   "cell_type": "raw",
   "metadata": {},
   "source": [
    "Sample Output\n",
    "Original DataFrame\n",
    "col1 col2 col3\n",
    "0 1 4 7\n",
    "1 2 5 5\n",
    "2 3 6 8\n",
    "3 4 9 12\n",
    "4 7 5 1\n",
    "5 11 0 11\n",
    "1st column as a Series\n",
    "0 1\n",
    "1 2\n",
    "2 3\n",
    "3 4\n",
    "4 7\n",
    "5 11\n",
    "Name- col1, dtype- int64\n",
    "<class 'pandas.core.series.Series'>"
   ]
  },
  {
   "cell_type": "code",
   "execution_count": null,
   "metadata": {},
   "outputs": [],
   "source": [
    "a104 = pd.DataFrame({'col1': {0:1,1:2,2:3,3:4,4:7,5:11},\n",
    "                    'col2': {0:4,1:5,2:6,3:9,4:5,5:0},\n",
    "                    'col3': {0:7,1:5,2:8,3:12,4:1,5:11}})"
   ]
  },
  {
   "cell_type": "code",
   "execution_count": null,
   "metadata": {},
   "outputs": [],
   "source": [
    "a104"
   ]
  },
  {
   "cell_type": "code",
   "execution_count": null,
   "metadata": {
    "scrolled": true
   },
   "outputs": [],
   "source": [
    "print(a104['col1'])\n",
    "print(type(a104['col1']))"
   ]
  },
  {
   "cell_type": "markdown",
   "metadata": {},
   "source": [
    "###### Q105. Write a pandas program to create the mean and standard deviation of the data of a given Series?\n"
   ]
  },
  {
   "cell_type": "raw",
   "metadata": {},
   "source": [
    "Sample Output\n",
    "Original Data Series\n",
    "0 1\n",
    "1 2\n",
    "2 3\n",
    "3 4\n",
    "4 5\n",
    "5 6\n",
    "6 7\n",
    "7 8\n",
    "8 9\n",
    "9 5\n",
    "10 3\n",
    "dtype- int64\n",
    "Mean of the said Data Series 4.81818181818\n",
    "Standard deviation of the said Data Series 2.52262489555\n"
   ]
  },
  {
   "cell_type": "code",
   "execution_count": null,
   "metadata": {},
   "outputs": [],
   "source": [
    "dict105={'col':{0:1,1 :2, 2 :3, 3 :4, 4 :5, 5 :6, 6 :7, 7 :8, 8 :9, 9 :5, 10:3}}\n",
    "dict105"
   ]
  },
  {
   "cell_type": "code",
   "execution_count": null,
   "metadata": {},
   "outputs": [],
   "source": [
    "df105 = pd.DataFrame(dict105)\n",
    "df105"
   ]
  },
  {
   "cell_type": "code",
   "execution_count": null,
   "metadata": {},
   "outputs": [],
   "source": [
    "print(\"Mean of the said Data Series:\",df105['col'].mean())\n",
    "print(\"Standard deviation of the said Data Series:\",df105['col'].std())"
   ]
  },
  {
   "cell_type": "markdown",
   "metadata": {},
   "source": [
    "###### Q106. Write a pandas program to get powers of an array values element-wise?"
   ]
  },
  {
   "cell_type": "raw",
   "metadata": {},
   "source": [
    "Sample data: {'X ':[78,85,96,80,86], ' Y ':[84,94,89,83,86],'Z':[86,97,96,72,83]}\n",
    "Expected Output:\n",
    "X Y Z\n",
    "0 78 84 86\n",
    "1 85 94 97\n",
    "2 96 89 96\n",
    "3 80 83 72\n",
    "4 86 86 83"
   ]
  },
  {
   "cell_type": "code",
   "execution_count": null,
   "metadata": {},
   "outputs": [],
   "source": [
    "pd.DataFrame({'X ':[78,85,96,80,86], ' Y ':[84,94,89,83,86],'Z':[86,97,96,72,83]})"
   ]
  },
  {
   "cell_type": "markdown",
   "metadata": {},
   "source": [
    "###### Q107. Write the pandas program to get the first 3 rows of a given DataFrame?"
   ]
  },
  {
   "cell_type": "raw",
   "metadata": {},
   "source": [
    "Sample Python dictionary data and list labels\n",
    "exam_data = {'name': ['Anastasia', 'Dima', 'Katherine', 'James', 'Emily', 'Michael',\n",
    "'Matthew', 'Laura', 'Kevin', 'Jonas'],\n",
    "'score': [12.5, 9, 16.5, np.nan, 9, 20, 14.5, np.nan, 8, 19],\n",
    "'attempts'- [1, 3, 2, 3, 2, 3, 1, 1, 2, 1],\n",
    "'qualify'- [ 'yes', 'no', 'yes' , 'no', ' no ', ' yes ', 'yes', 'no', 'no', 'yes' ] }\n",
    "labels = ['a', 'b', 'c', 'd', 'e', 'f', 'g', 'h', 'i', 'j' ]\n",
    "Expected OutputFirst three rows of the data frameattempts name qualify score\n",
    "a 1 Anastasia yes 12.5\n",
    "b 3 Dima no 9.0\n",
    "c 2 Katherine yes 16.5"
   ]
  },
  {
   "cell_type": "code",
   "execution_count": null,
   "metadata": {},
   "outputs": [],
   "source": [
    "exam_data = {'attempts': [1, 3, 2, 3, 2, 3, 1, 1, 2, 1],\n",
    "             'name': ['Anastasia', 'Dima', 'Katherine', 'James', 'Emily', 'Michael', 'Matthew', 'Laura', 'Kevin', 'Jonas'],\n",
    "'qualify': ['yes', 'no', 'yes' , 'no', ' no ', ' yes ', 'yes', 'no', 'no', 'yes' ],\n",
    "'score': [12.5, 9, 16.5, np.nan, 9, 20, 14.5, np.nan, 8, 19]}\n",
    "\n",
    " #'labels' = ['a', 'b', 'c', 'd', 'e', 'f', 'g', 'h', 'i', 'j' ]"
   ]
  },
  {
   "cell_type": "code",
   "execution_count": null,
   "metadata": {},
   "outputs": [],
   "source": [
    "df107=pd.DataFrame(exam_data,index=['a', 'b', 'c', 'd', 'e', 'f', 'g', 'h', 'i', 'j' ])\n",
    "df107"
   ]
  },
  {
   "cell_type": "code",
   "execution_count": null,
   "metadata": {},
   "outputs": [],
   "source": [
    "df107[:3]"
   ]
  },
  {
   "cell_type": "markdown",
   "metadata": {},
   "source": [
    "###### Q108: Write the pandas program to select the specified columns and  the rows from a given data frame?"
   ]
  },
  {
   "cell_type": "raw",
   "metadata": {},
   "source": [
    "Sample Python dictionary data and list labels\n",
    "Select 'name' and 'score' columns in rows 1, 3, 5, 6 from the following data frame.\n",
    "exam_data = {'name ': [ 'Anastasia', 'Dima', 'Katherine', 'James', 'Emily', 'Michael',\n",
    "'Matthew', 'Laura', 'Kevin', 'Jonas'],\n",
    "'score'- [12.5, 9, 16.5, np.nan, 9, 20, 14.5, np.nan, 8, 19],\n",
    "'attempts'- [1, 3, 2, 3, 2, 3, 1, 1, 2, 1],\n",
    "'qualify'- ['yes', 'no', 'yes', 'no', 'no', 'yes', 'yes', 'no', 'no', 'yes'] }\n",
    "labels = ['a ', ' b ', ' c ', ' d ', ' e ', ' f ', ' g ', 'h', 'i', 'j']\n",
    "Expected Output\n",
    "Select specific columns and rowsname score\n",
    "b Dima 9.0\n",
    "d James NaN\n",
    "f Michael 20.0\n",
    "g Matthew 14.5"
   ]
  },
  {
   "cell_type": "code",
   "execution_count": null,
   "metadata": {},
   "outputs": [],
   "source": [
    "df108=df107.iloc[[1,3,5,6], 1::2]"
   ]
  },
  {
   "cell_type": "code",
   "execution_count": null,
   "metadata": {},
   "outputs": [],
   "source": [
    "df108"
   ]
  },
  {
   "cell_type": "markdown",
   "metadata": {},
   "source": [
    "###### Q109. Write the pandas program to calculate mean score for each different student in DataFrame?"
   ]
  },
  {
   "cell_type": "raw",
   "metadata": {},
   "source": [
    "Sample Python dictionary data and list labels\n",
    "exam_data = {'name': ['Anastasia', 'Dima', 'Katherine', 'James', 'Emily', 'Michael',\n",
    "'Matthew', 'Laura', 'Kevin', 'Jonas'],\n",
    "'score': [12.5, 9, 16.5, np.nan, 9, 20, 14.5, np.nan, 8, 19],\n",
    "'attempts'- [1, 3, 2, 3, 2, 3, 1, 1, 2, 1],\n",
    "'qualify'- ['yes', 'no', ' yes ', ' no ', ' no ', ' yes ', ' yes ', ' no ', ' no ', ' yes '] }\n",
    "labels = ['a', 'b', 'c', 'd', 'e', 'f', 'g', 'h', 'i', 'j']\n",
    "Expected Output Mean score for each different student in data frame:\n",
    "13.5625"
   ]
  },
  {
   "cell_type": "code",
   "execution_count": null,
   "metadata": {},
   "outputs": [],
   "source": [
    "df109=df107"
   ]
  },
  {
   "cell_type": "code",
   "execution_count": null,
   "metadata": {},
   "outputs": [],
   "source": [
    "df109['score'].mean()"
   ]
  },
  {
   "cell_type": "markdown",
   "metadata": {},
   "source": [
    "###### Q110. Write the Pandas program to rename columns of a given DataFrame ?"
   ]
  },
  {
   "cell_type": "raw",
   "metadata": {},
   "source": [
    "Sample data\n",
    "Original data frame\n",
    "col1 col2 col3\n",
    "0 1 4 7\n",
    "1 2 5 8\n",
    "2 3 6 9\n",
    "New data frame after renaming columns:\n",
    "Column1 Column2 Column3\n",
    "0 1 4 7\n",
    "1 2 5 8\n",
    "2 3 6 9"
   ]
  },
  {
   "cell_type": "code",
   "execution_count": null,
   "metadata": {},
   "outputs": [],
   "source": [
    "a110 = pd.DataFrame({'col1': {0:1,1:2,2:3},\n",
    "                    'col2': {0:4,1:5,2:6,},\n",
    "                    'col3': {0:7,1:8,2:9}})"
   ]
  },
  {
   "cell_type": "code",
   "execution_count": null,
   "metadata": {},
   "outputs": [],
   "source": [
    "a110"
   ]
  },
  {
   "cell_type": "code",
   "execution_count": null,
   "metadata": {},
   "outputs": [],
   "source": [
    "a110_renamed=a110.rename(columns={'col1': 'Column1', 'col2':'Column2', 'col3':'Column3'})"
   ]
  },
  {
   "cell_type": "code",
   "execution_count": null,
   "metadata": {},
   "outputs": [],
   "source": [
    "a110_renamed"
   ]
  },
  {
   "cell_type": "code",
   "execution_count": null,
   "metadata": {},
   "outputs": [],
   "source": [
    "a110"
   ]
  },
  {
   "cell_type": "code",
   "execution_count": null,
   "metadata": {},
   "outputs": [],
   "source": [
    "## Another way to change in the dataset itself\n",
    "a110.columns=['Column1', 'Column2', 'Column3']"
   ]
  },
  {
   "cell_type": "code",
   "execution_count": null,
   "metadata": {},
   "outputs": [],
   "source": [
    "a110"
   ]
  },
  {
   "cell_type": "markdown",
   "metadata": {},
   "source": [
    "###### Q111. Write a pandas program to count city-wise number of people from a given of data set (city, name of the person)?"
   ]
  },
  {
   "cell_type": "raw",
   "metadata": {},
   "source": [
    "Sample data-\n",
    "city Number of people\n",
    "0 California 4\n",
    "1 Georgia 2\n",
    "2 Los Angeles 4"
   ]
  },
  {
   "cell_type": "code",
   "execution_count": null,
   "metadata": {},
   "outputs": [],
   "source": [
    "import pandas as pd"
   ]
  },
  {
   "cell_type": "code",
   "execution_count": null,
   "metadata": {},
   "outputs": [],
   "source": [
    "df111 = pd.DataFrame({\"city\":['California', 'Georgia', 'Los Angeles', 'California', 'California', 'California', \n",
    "                        'Georgia', 'Los Angeles', 'Los Angeles'],\n",
    "                     \"Name of person\":['Annabeth', 'Grover', 'Percy', 'Hannah', 'Thalia', 'Medusa', \n",
    "                        'Andromeda', 'Athena', 'Rahael']})\n",
    "df111"
   ]
  },
  {
   "cell_type": "code",
   "execution_count": null,
   "metadata": {},
   "outputs": [],
   "source": [
    "df111.groupby(['city']).count()"
   ]
  },
  {
   "cell_type": "code",
   "execution_count": null,
   "metadata": {},
   "outputs": [],
   "source": [
    "df111.groupby(['city']).size()"
   ]
  },
  {
   "cell_type": "code",
   "execution_count": null,
   "metadata": {},
   "outputs": [],
   "source": [
    "df111.groupby(['city']).size().reset_index(name=\"Number of people\")"
   ]
  },
  {
   "cell_type": "markdown",
   "metadata": {},
   "source": [
    "###### Q112. Write a pandas program to widen output display to see more columns?"
   ]
  },
  {
   "cell_type": "raw",
   "metadata": {},
   "source": [
    "Sample data\n",
    "Original data frame\n",
    "col1 col2 col3\n",
    "0 1 4 7\n",
    "1 4 5 8\n",
    "2 3 6 9\n",
    "3 4 7 0\n",
    "4 5 8 1"
   ]
  },
  {
   "cell_type": "code",
   "execution_count": null,
   "metadata": {},
   "outputs": [],
   "source": [
    "df112=pd.DataFrame({'col1':[1,4,3,4,5],\n",
    "                   'col2':[4,5,6,7,8],\n",
    "                   'col3':[7,8,9,0,1]})\n",
    "df112"
   ]
  },
  {
   "cell_type": "code",
   "execution_count": null,
   "metadata": {},
   "outputs": [],
   "source": [
    "pd.set_option(\"display.max_rows\",500)\n",
    "pd.set_option(\"display.max_columns\",500)\n",
    "pd.set_option(\"display.width\",1000)\n",
    "print(\"The original dataframe\")\n",
    "print(df112)"
   ]
  },
  {
   "cell_type": "markdown",
   "metadata": {},
   "source": [
    "###### Q113. Write a pandas program to convert the data frame column type from string to DateTime?\n"
   ]
  },
  {
   "cell_type": "raw",
   "metadata": {},
   "source": [
    "Sample data\n",
    "String Date\n",
    "0 3/11/2000\n",
    "1 3/12/2000\n",
    "2 3/13/2000\n",
    "dtype- object\n",
    "Original DataFrame (string to datetime)-\n",
    "0 2000-03-11\n",
    "1 2000-03-12\n",
    "2 2000-03-13\n"
   ]
  },
  {
   "cell_type": "code",
   "execution_count": null,
   "metadata": {},
   "outputs": [],
   "source": [
    "df113 = pd.DataFrame(['3/11/2000', '3/12/2000', '3/13/2000'], columns=[\"String Date\"])\n",
    "df113"
   ]
  },
  {
   "cell_type": "code",
   "execution_count": null,
   "metadata": {},
   "outputs": [],
   "source": [
    "df113[\"String Date\"] =pd.to_datetime(df113[\"String Date\"])"
   ]
  },
  {
   "cell_type": "code",
   "execution_count": null,
   "metadata": {},
   "outputs": [],
   "source": [
    "df113"
   ]
  },
  {
   "cell_type": "markdown",
   "metadata": {},
   "source": [
    "###### Q114. Write a pandas program to append the data to an empty DataFrame?"
   ]
  },
  {
   "cell_type": "code",
   "execution_count": null,
   "metadata": {},
   "outputs": [],
   "source": [
    "df114 = pd.DataFrame(columns=['a','b'])\n",
    "df114"
   ]
  },
  {
   "cell_type": "code",
   "execution_count": null,
   "metadata": {},
   "outputs": [],
   "source": [
    "df114.append(pd.DataFrame({'a': [1,2,3,4], 'b': [1,4,9,16]}))"
   ]
  },
  {
   "cell_type": "markdown",
   "metadata": {},
   "source": [
    "###### Q115. Write a pandas program to count the number of columns of a DataFrame?"
   ]
  },
  {
   "cell_type": "raw",
   "metadata": {},
   "source": [
    "Sample Output\n",
    "Original DataFrame\n",
    "col1 col2 col3\n",
    "0 1 4 7\n",
    "1 2 5 8\n",
    "2 3 6 12\n",
    "3 4 9 1\n",
    "4 7 5 11\n",
    "Number of columns- 3"
   ]
  },
  {
   "cell_type": "code",
   "execution_count": null,
   "metadata": {},
   "outputs": [],
   "source": [
    "df115=pd.DataFrame({'col1': [1,2,3,4,7], 'col2': [4,5,6,9,5], 'col3': [7,8,12,1,11]})\n",
    "df115"
   ]
  },
  {
   "cell_type": "code",
   "execution_count": null,
   "metadata": {},
   "outputs": [],
   "source": [
    "print(\"Number of columns present in a dataframe: \" , len(df115.columns))"
   ]
  },
  {
   "cell_type": "markdown",
   "metadata": {},
   "source": [
    "###### Q116. Write a Pandas program to remove the last n rows of a given DataFrame ?"
   ]
  },
  {
   "cell_type": "raw",
   "metadata": {},
   "source": [
    "Sample Output:\n",
    "Original DataFrame\n",
    "col1 col2 col3\n",
    "0 1 4 7\n",
    "1 2 5 5\n",
    "2 3 6 8\n",
    "3 4 9 12\n",
    "4 7 5 1\n",
    "5 11 0 11\n",
    "After removing last 3 rows of the said DataFramecol1 col2 col3\n",
    "0 1 4 7\n",
    "1 2 5 5\n",
    "2 3 6 8"
   ]
  },
  {
   "cell_type": "code",
   "execution_count": null,
   "metadata": {},
   "outputs": [],
   "source": [
    "df116=pd.DataFrame({'col1': [1,2,3,4,7,11], 'col2': [4,5,6,9,5,0], 'col3': [7,5,8,12,1,11]})\n",
    "df116"
   ]
  },
  {
   "cell_type": "code",
   "execution_count": null,
   "metadata": {},
   "outputs": [],
   "source": [
    "n=int(input(\"Enter the number of rows to be removed from display: \"))\n",
    "df116[:-n]"
   ]
  },
  {
   "cell_type": "code",
   "execution_count": null,
   "metadata": {},
   "outputs": [],
   "source": [
    "df116.to_csv(\"NewFileOut.csv\", header=True, columns={'col1': '1', 'col2': '2', 'col3': '3'} )"
   ]
  },
  {
   "cell_type": "markdown",
   "metadata": {},
   "source": [
    "###### Q117. Write a Pandas program to import excel data (coalpublic2013.xlsx) into a Pandas data frame."
   ]
  },
  {
   "cell_type": "code",
   "execution_count": null,
   "metadata": {},
   "outputs": [],
   "source": [
    "df117=pd.read_excel(r'G:\\\\Learning\\\\Python_sudhanshu\\\\coalpublic2013.xlsx')"
   ]
  },
  {
   "cell_type": "code",
   "execution_count": null,
   "metadata": {},
   "outputs": [],
   "source": [
    "df117.head()"
   ]
  },
  {
   "cell_type": "markdown",
   "metadata": {},
   "source": [
    "###### Q118. Write a Pandas program to import excel data (coalpublic2013.xlsx) into a data frame and find details where \"Mine Name\" starts with \"P."
   ]
  },
  {
   "cell_type": "code",
   "execution_count": null,
   "metadata": {},
   "outputs": [],
   "source": [
    "df118=df117.iloc[np.where(df117[\"Mine_Name\"].str.startswith(\"P\"))]\n",
    "df118"
   ]
  },
  {
   "cell_type": "code",
   "execution_count": null,
   "metadata": {},
   "outputs": [],
   "source": [
    "#### Another way\n",
    "df117[df117[\"Mine_Name\"].map(lambda x: x.startswith(\"P\"))]"
   ]
  },
  {
   "cell_type": "code",
   "execution_count": null,
   "metadata": {},
   "outputs": [],
   "source": [
    "#### Checking the startswith command:\n",
    "\"Persphone\".startswith(\"P\")"
   ]
  },
  {
   "cell_type": "markdown",
   "metadata": {},
   "source": [
    "###### Q119. Write a Pandas program to import excel data (employee.xlsx) into a Pandas dataframe and find the list of employees where hire_date> 01-01-07.\n"
   ]
  },
  {
   "cell_type": "code",
   "execution_count": null,
   "metadata": {},
   "outputs": [],
   "source": [
    "df119=pd.read_excel(\"./employee.xlsx\", sheet_name=\"Sheet1\", )\n",
    "df119"
   ]
  },
  {
   "cell_type": "code",
   "execution_count": null,
   "metadata": {},
   "outputs": [],
   "source": [
    "df119[df119[\"hire_date\"]> \"2007-01-01\"]"
   ]
  },
  {
   "cell_type": "markdown",
   "metadata": {},
   "source": [
    "###### Q120. Write a Pandas program to import excel data (employee.xlsx) into a Pandas dataframe and find a list of the employees of a specified year"
   ]
  },
  {
   "cell_type": "code",
   "execution_count": null,
   "metadata": {},
   "outputs": [],
   "source": [
    "df120=df119.set_index(\"hire_date\")\n",
    "df120.head()"
   ]
  },
  {
   "cell_type": "code",
   "execution_count": null,
   "metadata": {},
   "outputs": [],
   "source": [
    "df120[\"2005\"]"
   ]
  },
  {
   "cell_type": "code",
   "execution_count": null,
   "metadata": {},
   "outputs": [],
   "source": [
    "### Or \n",
    "df119[ (df119[\"hire_date\"] >= \"2005-01-01\") & (df119[\"hire_date\"] < \"2006-01-01\")]"
   ]
  },
  {
   "cell_type": "markdown",
   "metadata": {},
   "source": [
    "###### Q121. Write a pandas program to import three datasheets from a given excel data (coalpublic2013.xlsx ) in to a single dataframe.\n",
    " Note: Structure of three datasheets are same"
   ]
  },
  {
   "cell_type": "code",
   "execution_count": null,
   "metadata": {},
   "outputs": [],
   "source": [
    "#### Could not find three sheets in the the excel"
   ]
  },
  {
   "cell_type": "markdown",
   "metadata": {},
   "source": [
    "###### Q 122. Write a pandas program to import three datasheets from a given excel data (employee.xlsx ) into a single data frame and export theresult into new Excel file.\n",
    " Note: Structure of three datasheets are same."
   ]
  },
  {
   "cell_type": "code",
   "execution_count": null,
   "metadata": {},
   "outputs": [],
   "source": [
    "df122_1 = pd.read_excel(\"./employee.xlsx\", sheet_name=\"Sheet1\")"
   ]
  },
  {
   "cell_type": "code",
   "execution_count": null,
   "metadata": {},
   "outputs": [],
   "source": [
    "df122_2 = pd.read_excel(\"./employee.xlsx\", sheet_name=\"Sheet2\")\n",
    "#df122_2"
   ]
  },
  {
   "cell_type": "code",
   "execution_count": null,
   "metadata": {},
   "outputs": [],
   "source": [
    "df122_3=pd.read_excel(\"./employee.xlsx\", sheet_name=\"Sheet3\")\n",
    "df122_3"
   ]
  },
  {
   "cell_type": "code",
   "execution_count": null,
   "metadata": {},
   "outputs": [],
   "source": [
    "df122=pd.concat([df122_1, df122_2, df122_3], axis=0, ignore_index=True)\n",
    "df122"
   ]
  },
  {
   "cell_type": "markdown",
   "metadata": {},
   "source": [
    "###### Q123. Write a pandas program to create the Pivot table with multiple indexes from the data set of the titanic.csv."
   ]
  },
  {
   "cell_type": "code",
   "execution_count": null,
   "metadata": {},
   "outputs": [],
   "source": [
    "df123= pd.read_csv(\"./titanic.csv\" )\n",
    "df123=df123.dropna(how='all', axis='columns')\n",
    "df123.head(3)"
   ]
  },
  {
   "cell_type": "code",
   "execution_count": null,
   "metadata": {},
   "outputs": [],
   "source": [
    "df123.head(3)"
   ]
  },
  {
   "cell_type": "code",
   "execution_count": null,
   "metadata": {},
   "outputs": [],
   "source": [
    "pd.pivot_table(df123, index=['sex', 'age'])"
   ]
  },
  {
   "cell_type": "markdown",
   "metadata": {},
   "source": [
    "###### Q124. Write a Pandas program to create the Pivot table and find survival rate by gender?"
   ]
  },
  {
   "cell_type": "code",
   "execution_count": null,
   "metadata": {},
   "outputs": [],
   "source": [
    "df123_modified.head(3)"
   ]
  },
  {
   "cell_type": "code",
   "execution_count": null,
   "metadata": {},
   "outputs": [],
   "source": [
    "df123.pivot_table( index='sex', values='survived')"
   ]
  },
  {
   "cell_type": "markdown",
   "metadata": {},
   "source": [
    "###### Q125. Write a pandas program to make partition each of the passengers into 4 categories based on their age."
   ]
  },
  {
   "cell_type": "code",
   "execution_count": null,
   "metadata": {},
   "outputs": [],
   "source": [
    "print(df123[\"age\"])"
   ]
  },
  {
   "cell_type": "code",
   "execution_count": null,
   "metadata": {},
   "outputs": [],
   "source": [
    "for i in df123.index:\n",
    "    if (df123[\"age\"][i] >=0) & (df123[\"age\"][i] < 13):\n",
    "        df123[\"age_cat\"] = \"pre-teen\"\n",
    "    elif (df123[\"age\"][i] >=13) & (df123[\"age\"][i] < 20):\n",
    "        df123[\"age_cat\"] = \"teen\"\n",
    "    elif (df123[\"age\"][i] >=20) & (df123[\"age\"][i] < 55):\n",
    "        df123[\"age_cat\"] = \"youth\"\n",
    "    else:\n",
    "        df123[\"age_cat\"] = \"old_age\""
   ]
  },
  {
   "cell_type": "code",
   "execution_count": null,
   "metadata": {},
   "outputs": [],
   "source": [
    "df123.head()"
   ]
  },
  {
   "cell_type": "markdown",
   "metadata": {},
   "source": [
    "###### Q126. Write a pandas program to create the Pivot table and find survival rate by the gender, age of the different categories of various classes.\n"
   ]
  },
  {
   "cell_type": "code",
   "execution_count": null,
   "metadata": {},
   "outputs": [],
   "source": [
    "### My solution:\n",
    "print(df123.pivot_table(values='survived', index=['sex', 'age'], columns=\"class\"))"
   ]
  },
  {
   "cell_type": "code",
   "execution_count": null,
   "metadata": {},
   "outputs": [],
   "source": [
    "### From internet.\n",
    "age=pd.cut(df123[\"age\"],[0,13,50,np.max(df123[\"age\"])])\n",
    "df123.pivot_table(values='survived', index=['sex', age], columns=\"class\")"
   ]
  },
  {
   "cell_type": "markdown",
   "metadata": {},
   "source": [
    "###### Q128. Write a pandas program to create the Pivot table and separate the gender according to whether they travelled alone or not to get the probability of survival"
   ]
  },
  {
   "cell_type": "code",
   "execution_count": null,
   "metadata": {},
   "outputs": [],
   "source": [
    "### df123 has the titanic data\n",
    "df123.pivot_table('survived', index='sex', columns='alone')"
   ]
  },
  {
   "cell_type": "markdown",
   "metadata": {},
   "source": [
    "###### Q129. Write a pandas program to create the Pivot table and find the probability of survival by class, gender, solo boarding, and the port of embarkation"
   ]
  },
  {
   "cell_type": "code",
   "execution_count": null,
   "metadata": {},
   "outputs": [],
   "source": [
    "df123.pivot_table('survived', index=['sex','alone','embark_town'], columns='class')"
   ]
  },
  {
   "cell_type": "code",
   "execution_count": null,
   "metadata": {},
   "outputs": [],
   "source": [
    "pd.pivot_table(df123,'survived',index=[age,'alone'])"
   ]
  },
  {
   "cell_type": "markdown",
   "metadata": {},
   "source": [
    "###### Q130. Write a pandas program to get current date, oldest date and number of days between Current date and the oldest date of Ufo dataset."
   ]
  },
  {
   "cell_type": "code",
   "execution_count": 2,
   "metadata": {},
   "outputs": [
    {
     "name": "stderr",
     "output_type": "stream",
     "text": [
      "C:\\Users\\user\\Anaconda3\\lib\\site-packages\\IPython\\core\\interactiveshell.py:3049: DtypeWarning: Columns (5,9) have mixed types. Specify dtype option on import or set low_memory=False.\n",
      "  interactivity=interactivity, compiler=compiler, result=result)\n"
     ]
    },
    {
     "data": {
      "text/html": [
       "<div>\n",
       "<style scoped>\n",
       "    .dataframe tbody tr th:only-of-type {\n",
       "        vertical-align: middle;\n",
       "    }\n",
       "\n",
       "    .dataframe tbody tr th {\n",
       "        vertical-align: top;\n",
       "    }\n",
       "\n",
       "    .dataframe thead th {\n",
       "        text-align: right;\n",
       "    }\n",
       "</style>\n",
       "<table border=\"1\" class=\"dataframe\">\n",
       "  <thead>\n",
       "    <tr style=\"text-align: right;\">\n",
       "      <th></th>\n",
       "      <th>Date_time</th>\n",
       "      <th>city</th>\n",
       "      <th>state/province</th>\n",
       "      <th>country</th>\n",
       "      <th>UFO_shape</th>\n",
       "      <th>length_of_encounter_seconds</th>\n",
       "      <th>described_duration_of_encounter</th>\n",
       "      <th>description</th>\n",
       "      <th>date_documented</th>\n",
       "      <th>latitude</th>\n",
       "      <th>longitude</th>\n",
       "    </tr>\n",
       "  </thead>\n",
       "  <tbody>\n",
       "    <tr>\n",
       "      <th>0</th>\n",
       "      <td>10-10-1949 20:30</td>\n",
       "      <td>san marcos</td>\n",
       "      <td>tx</td>\n",
       "      <td>us</td>\n",
       "      <td>cylinder</td>\n",
       "      <td>2700</td>\n",
       "      <td>45 minutes</td>\n",
       "      <td>This event took place in early fall around 194...</td>\n",
       "      <td>4/27/2004</td>\n",
       "      <td>29.8830556</td>\n",
       "      <td>-97.941111</td>\n",
       "    </tr>\n",
       "    <tr>\n",
       "      <th>1</th>\n",
       "      <td>10-10-1949 21:00</td>\n",
       "      <td>lackland afb</td>\n",
       "      <td>tx</td>\n",
       "      <td>NaN</td>\n",
       "      <td>light</td>\n",
       "      <td>7200</td>\n",
       "      <td>1-2 hrs</td>\n",
       "      <td>1949 Lackland AFB&amp;#44 TX.  Lights racing acros...</td>\n",
       "      <td>12/16/2005</td>\n",
       "      <td>29.38421</td>\n",
       "      <td>-98.581082</td>\n",
       "    </tr>\n",
       "    <tr>\n",
       "      <th>2</th>\n",
       "      <td>10-10-1955 17:00</td>\n",
       "      <td>chester (uk/england)</td>\n",
       "      <td>NaN</td>\n",
       "      <td>gb</td>\n",
       "      <td>circle</td>\n",
       "      <td>20</td>\n",
       "      <td>20 seconds</td>\n",
       "      <td>Green/Orange circular disc over Chester&amp;#44 En...</td>\n",
       "      <td>1/21/2008</td>\n",
       "      <td>53.2</td>\n",
       "      <td>-2.916667</td>\n",
       "    </tr>\n",
       "    <tr>\n",
       "      <th>3</th>\n",
       "      <td>10-10-1956 21:00</td>\n",
       "      <td>edna</td>\n",
       "      <td>tx</td>\n",
       "      <td>us</td>\n",
       "      <td>circle</td>\n",
       "      <td>20</td>\n",
       "      <td>1/2 hour</td>\n",
       "      <td>My older brother and twin sister were leaving ...</td>\n",
       "      <td>1/17/2004</td>\n",
       "      <td>28.9783333</td>\n",
       "      <td>-96.645833</td>\n",
       "    </tr>\n",
       "    <tr>\n",
       "      <th>4</th>\n",
       "      <td>10-10-1960 20:00</td>\n",
       "      <td>kaneohe</td>\n",
       "      <td>hi</td>\n",
       "      <td>us</td>\n",
       "      <td>light</td>\n",
       "      <td>900</td>\n",
       "      <td>15 minutes</td>\n",
       "      <td>AS a Marine 1st Lt. flying an FJ4B fighter/att...</td>\n",
       "      <td>1/22/2004</td>\n",
       "      <td>21.4180556</td>\n",
       "      <td>-157.803611</td>\n",
       "    </tr>\n",
       "  </tbody>\n",
       "</table>\n",
       "</div>"
      ],
      "text/plain": [
       "          Date_time                  city state/province country UFO_shape  \\\n",
       "0  10-10-1949 20:30            san marcos             tx      us  cylinder   \n",
       "1  10-10-1949 21:00          lackland afb             tx     NaN     light   \n",
       "2  10-10-1955 17:00  chester (uk/england)            NaN      gb    circle   \n",
       "3  10-10-1956 21:00                  edna             tx      us    circle   \n",
       "4  10-10-1960 20:00               kaneohe             hi      us     light   \n",
       "\n",
       "  length_of_encounter_seconds described_duration_of_encounter  \\\n",
       "0                        2700                      45 minutes   \n",
       "1                        7200                         1-2 hrs   \n",
       "2                          20                      20 seconds   \n",
       "3                          20                        1/2 hour   \n",
       "4                         900                      15 minutes   \n",
       "\n",
       "                                         description date_documented  \\\n",
       "0  This event took place in early fall around 194...       4/27/2004   \n",
       "1  1949 Lackland AFB&#44 TX.  Lights racing acros...      12/16/2005   \n",
       "2  Green/Orange circular disc over Chester&#44 En...       1/21/2008   \n",
       "3  My older brother and twin sister were leaving ...       1/17/2004   \n",
       "4  AS a Marine 1st Lt. flying an FJ4B fighter/att...       1/22/2004   \n",
       "\n",
       "     latitude   longitude  \n",
       "0  29.8830556  -97.941111  \n",
       "1    29.38421  -98.581082  \n",
       "2        53.2   -2.916667  \n",
       "3  28.9783333  -96.645833  \n",
       "4  21.4180556 -157.803611  "
      ]
     },
     "execution_count": 2,
     "metadata": {},
     "output_type": "execute_result"
    }
   ],
   "source": [
    "### The data for ufo is downloaded from https://data.world/aarranzlopez/ufo-sights-2016-us-and-canada\n",
    "import numpy as np\n",
    "import pandas as pd\n",
    "df130=pd.read_csv(\"./py sub and obj/data for subjective questions/ufo_sighting_data.csv\")\n",
    "df130.head()"
   ]
  },
  {
   "cell_type": "code",
   "execution_count": 5,
   "metadata": {},
   "outputs": [
    {
     "data": {
      "text/plain": [
       "dtype('O')"
      ]
     },
     "execution_count": 5,
     "metadata": {},
     "output_type": "execute_result"
    }
   ],
   "source": [
    "df130.Date_time.dtype"
   ]
  },
  {
   "cell_type": "code",
   "execution_count": 6,
   "metadata": {},
   "outputs": [
    {
     "name": "stdout",
     "output_type": "stream",
     "text": [
      "a\n"
     ]
    },
    {
     "data": {
      "text/plain": [
       "388     39032\n",
       "693     36902\n",
       "962     40919\n",
       "1067    37966\n",
       "1221    41619\n",
       "Name: Date_time, dtype: object"
      ]
     },
     "execution_count": 6,
     "metadata": {},
     "output_type": "execute_result"
    }
   ],
   "source": [
    "df130.Date_time.str.contains(pat = '[0-9]{5}', regex = True)\n",
    "print (\"a\")\n",
    "df130.loc[df130.Date_time.str.contains(pat = '[0-9]{5}', regex = True), \"Date_time\"].head()"
   ]
  },
  {
   "cell_type": "code",
   "execution_count": 7,
   "metadata": {},
   "outputs": [],
   "source": [
    "df130[\"Date_time_num\"]=df130.loc[df130.Date_time.str.contains(pat = '[0-9]{5}', regex = True), \"Date_time\"]"
   ]
  },
  {
   "cell_type": "code",
   "execution_count": 8,
   "metadata": {},
   "outputs": [
    {
     "data": {
      "text/html": [
       "<div>\n",
       "<style scoped>\n",
       "    .dataframe tbody tr th:only-of-type {\n",
       "        vertical-align: middle;\n",
       "    }\n",
       "\n",
       "    .dataframe tbody tr th {\n",
       "        vertical-align: top;\n",
       "    }\n",
       "\n",
       "    .dataframe thead th {\n",
       "        text-align: right;\n",
       "    }\n",
       "</style>\n",
       "<table border=\"1\" class=\"dataframe\">\n",
       "  <thead>\n",
       "    <tr style=\"text-align: right;\">\n",
       "      <th></th>\n",
       "      <th>Date_time</th>\n",
       "      <th>Date_time_num</th>\n",
       "    </tr>\n",
       "  </thead>\n",
       "  <tbody>\n",
       "    <tr>\n",
       "      <th>960</th>\n",
       "      <td>10-01-2012 22:30</td>\n",
       "      <td>NaN</td>\n",
       "    </tr>\n",
       "    <tr>\n",
       "      <th>961</th>\n",
       "      <td>10-01-2012 23:00</td>\n",
       "      <td>NaN</td>\n",
       "    </tr>\n",
       "    <tr>\n",
       "      <th>962</th>\n",
       "      <td>40919</td>\n",
       "      <td>40919</td>\n",
       "    </tr>\n",
       "    <tr>\n",
       "      <th>963</th>\n",
       "      <td>10-01-2013 03:00</td>\n",
       "      <td>NaN</td>\n",
       "    </tr>\n",
       "    <tr>\n",
       "      <th>964</th>\n",
       "      <td>10-01-2013 06:35</td>\n",
       "      <td>NaN</td>\n",
       "    </tr>\n",
       "    <tr>\n",
       "      <th>965</th>\n",
       "      <td>10-01-2013 07:40</td>\n",
       "      <td>NaN</td>\n",
       "    </tr>\n",
       "  </tbody>\n",
       "</table>\n",
       "</div>"
      ],
      "text/plain": [
       "            Date_time Date_time_num\n",
       "960  10-01-2012 22:30           NaN\n",
       "961  10-01-2012 23:00           NaN\n",
       "962             40919         40919\n",
       "963  10-01-2013 03:00           NaN\n",
       "964  10-01-2013 06:35           NaN\n",
       "965  10-01-2013 07:40           NaN"
      ]
     },
     "execution_count": 8,
     "metadata": {},
     "output_type": "execute_result"
    }
   ],
   "source": [
    "df130.loc[960:965,[\"Date_time\", \"Date_time_num\"]]"
   ]
  },
  {
   "cell_type": "code",
   "execution_count": 9,
   "metadata": {},
   "outputs": [
    {
     "data": {
      "text/plain": [
       "dtype('float64')"
      ]
     },
     "execution_count": 9,
     "metadata": {},
     "output_type": "execute_result"
    }
   ],
   "source": [
    "df130.Date_time_num=pd.to_numeric(df130.Date_time_num, errors=\"ignore\") ### Now the type of date_time_num is in Object\n",
    "df130.Date_time_num.dtype"
   ]
  },
  {
   "cell_type": "code",
   "execution_count": 10,
   "metadata": {},
   "outputs": [],
   "source": [
    "### ask in doubt clearing session\n",
    "#np.where(df130.Date_time.str.contains(pat = '[0-9]{5}', regex = True), NaN, df130.Date_time)"
   ]
  },
  {
   "cell_type": "code",
   "execution_count": 11,
   "metadata": {},
   "outputs": [],
   "source": [
    "#### converting Date_time to type datetime converting the 5 digit numbers to NaT\n",
    "df130.Date_time=pd.to_datetime(df130.Date_time, errors=\"coerce\") "
   ]
  },
  {
   "cell_type": "code",
   "execution_count": 12,
   "metadata": {},
   "outputs": [],
   "source": [
    "### For 5 digit time, converting the data to date_time considering 1st January of 1900 as start date & 5 digit number as offset\n",
    "df130.Date_time_num= pd.to_timedelta(df130.Date_time_num, unit='D') + pd.Timestamp('1900-1-1')"
   ]
  },
  {
   "cell_type": "code",
   "execution_count": 13,
   "metadata": {},
   "outputs": [
    {
     "data": {
      "text/plain": [
       "dtype('<M8[ns]')"
      ]
     },
     "execution_count": 13,
     "metadata": {},
     "output_type": "execute_result"
    }
   ],
   "source": [
    "df130[\"Date_time\"].dtype"
   ]
  },
  {
   "cell_type": "code",
   "execution_count": 14,
   "metadata": {},
   "outputs": [
    {
     "data": {
      "text/plain": [
       "dtype('<M8[ns]')"
      ]
     },
     "execution_count": 14,
     "metadata": {},
     "output_type": "execute_result"
    }
   ],
   "source": [
    "df130[\"Date_time_num\"].dtype"
   ]
  },
  {
   "cell_type": "code",
   "execution_count": 15,
   "metadata": {},
   "outputs": [],
   "source": [
    "#### Replacing the null value by value in Date_time_num column. \n",
    "#np.where(df130.Date_time.isnull(), df130.Date_time_num, df130.Date_time) - one method\n",
    "\n",
    "df130.loc[df130.Date_time.isnull(),\"Date_time\"]=df130.Date_time_num ## another method"
   ]
  },
  {
   "cell_type": "code",
   "execution_count": 16,
   "metadata": {},
   "outputs": [],
   "source": [
    "### impirting date for date.today()\n",
    "from datetime import date"
   ]
  },
  {
   "cell_type": "code",
   "execution_count": 17,
   "metadata": {},
   "outputs": [
    {
     "name": "stdout",
     "output_type": "stream",
     "text": [
      "Difference between current date and minimum date is:  41509 days\n"
     ]
    }
   ],
   "source": [
    "print(\"Difference between current date and minimum date is: \",(pd.to_datetime(date.today())-df130[\"Date_time\"].min()).days,\"days\")"
   ]
  },
  {
   "cell_type": "markdown",
   "metadata": {},
   "source": [
    "###### Q131. Write a pandas program to get all sighting days of the unidentified flying object (ufo) between 1950-10-10 and 1960-10-10."
   ]
  },
  {
   "cell_type": "code",
   "execution_count": null,
   "metadata": {},
   "outputs": [],
   "source": [
    "#### Limiting the display to only 10 rows, earlier it was 15:\n",
    "pd.options.display.max_rows = 10"
   ]
  },
  {
   "cell_type": "code",
   "execution_count": null,
   "metadata": {
    "scrolled": true
   },
   "outputs": [],
   "source": [
    "### If you want whole columns :\n",
    "df130[(df130[\"Date_time\"] >= \"1950-10-10 00:00:00\") & (df130[\"Date_time\"]<= \"1960-10-10 23:59:59\")]"
   ]
  },
  {
   "cell_type": "code",
   "execution_count": null,
   "metadata": {},
   "outputs": [],
   "source": [
    "print(df130.loc[(df130[\"Date_time\"] >= \"1950-10-10 00:00:00\") & (df130[\"Date_time\"]<= \"1960-10-10 23:59:59\"),\"Date_time\"])"
   ]
  },
  {
   "cell_type": "markdown",
   "metadata": {},
   "source": [
    "###### Q132. Write a Pandas program to extract the year, month, day, hour,minute, second, and weekday from unidentified flying object (UFO) reporting date."
   ]
  },
  {
   "cell_type": "code",
   "execution_count": null,
   "metadata": {},
   "outputs": [],
   "source": [
    "#### Extracting year\n",
    "df130[\"Date_time\"].dt.year.head()"
   ]
  },
  {
   "cell_type": "code",
   "execution_count": null,
   "metadata": {},
   "outputs": [],
   "source": [
    "#### Extracting month\n",
    "df130.Date_time.dt.month.head()"
   ]
  },
  {
   "cell_type": "code",
   "execution_count": null,
   "metadata": {},
   "outputs": [],
   "source": [
    "### Extracting day\n",
    "df130.Date_time.dt.day.head()"
   ]
  },
  {
   "cell_type": "code",
   "execution_count": null,
   "metadata": {},
   "outputs": [],
   "source": [
    "## Extracting hour\n",
    "df130.Date_time.dt.hour.head()"
   ]
  },
  {
   "cell_type": "code",
   "execution_count": null,
   "metadata": {},
   "outputs": [],
   "source": [
    "#### Extracting minutes\n",
    "df130.Date_time.dt.minute.head()"
   ]
  },
  {
   "cell_type": "code",
   "execution_count": null,
   "metadata": {},
   "outputs": [],
   "source": [
    "#### Extracting seconds\n",
    "df130.Date_time.dt.second.head()"
   ]
  },
  {
   "cell_type": "code",
   "execution_count": null,
   "metadata": {},
   "outputs": [],
   "source": [
    "### for weekday\n",
    "df130.Date_time.dt.weekday_name.head()"
   ]
  },
  {
   "cell_type": "markdown",
   "metadata": {},
   "source": [
    "###### Q133. Write a pandas program to count year-country wise frequency of reporting dates of the unidentified flying object(UFO)."
   ]
  },
  {
   "cell_type": "code",
   "execution_count": 3,
   "metadata": {},
   "outputs": [],
   "source": [
    "df133=df130"
   ]
  },
  {
   "cell_type": "code",
   "execution_count": 4,
   "metadata": {},
   "outputs": [
    {
     "ename": "AttributeError",
     "evalue": "Can only use .dt accessor with datetimelike values",
     "output_type": "error",
     "traceback": [
      "\u001b[1;31m---------------------------------------------------------------------------\u001b[0m",
      "\u001b[1;31mAttributeError\u001b[0m                            Traceback (most recent call last)",
      "\u001b[1;32m<ipython-input-4-ceafee64b65b>\u001b[0m in \u001b[0;36m<module>\u001b[1;34m\u001b[0m\n\u001b[1;32m----> 1\u001b[1;33m \u001b[0mdf133\u001b[0m\u001b[1;33m[\u001b[0m\u001b[1;34m\"year\"\u001b[0m\u001b[1;33m]\u001b[0m \u001b[1;33m=\u001b[0m\u001b[0mdf130\u001b[0m\u001b[1;33m[\u001b[0m\u001b[1;34m\"Date_time\"\u001b[0m\u001b[1;33m]\u001b[0m\u001b[1;33m.\u001b[0m\u001b[0mdt\u001b[0m\u001b[1;33m.\u001b[0m\u001b[0myear\u001b[0m\u001b[1;33m\u001b[0m\u001b[1;33m\u001b[0m\u001b[0m\n\u001b[0m",
      "\u001b[1;32m~\\Anaconda3\\lib\\site-packages\\pandas\\core\\generic.py\u001b[0m in \u001b[0;36m__getattr__\u001b[1;34m(self, name)\u001b[0m\n\u001b[0;32m   5061\u001b[0m         if (name in self._internal_names_set or name in self._metadata or\n\u001b[0;32m   5062\u001b[0m                 name in self._accessors):\n\u001b[1;32m-> 5063\u001b[1;33m             \u001b[1;32mreturn\u001b[0m \u001b[0mobject\u001b[0m\u001b[1;33m.\u001b[0m\u001b[0m__getattribute__\u001b[0m\u001b[1;33m(\u001b[0m\u001b[0mself\u001b[0m\u001b[1;33m,\u001b[0m \u001b[0mname\u001b[0m\u001b[1;33m)\u001b[0m\u001b[1;33m\u001b[0m\u001b[1;33m\u001b[0m\u001b[0m\n\u001b[0m\u001b[0;32m   5064\u001b[0m         \u001b[1;32melse\u001b[0m\u001b[1;33m:\u001b[0m\u001b[1;33m\u001b[0m\u001b[1;33m\u001b[0m\u001b[0m\n\u001b[0;32m   5065\u001b[0m             \u001b[1;32mif\u001b[0m \u001b[0mself\u001b[0m\u001b[1;33m.\u001b[0m\u001b[0m_info_axis\u001b[0m\u001b[1;33m.\u001b[0m\u001b[0m_can_hold_identifiers_and_holds_name\u001b[0m\u001b[1;33m(\u001b[0m\u001b[0mname\u001b[0m\u001b[1;33m)\u001b[0m\u001b[1;33m:\u001b[0m\u001b[1;33m\u001b[0m\u001b[1;33m\u001b[0m\u001b[0m\n",
      "\u001b[1;32m~\\Anaconda3\\lib\\site-packages\\pandas\\core\\accessor.py\u001b[0m in \u001b[0;36m__get__\u001b[1;34m(self, obj, cls)\u001b[0m\n\u001b[0;32m    169\u001b[0m             \u001b[1;31m# we're accessing the attribute of the class, i.e., Dataset.geo\u001b[0m\u001b[1;33m\u001b[0m\u001b[1;33m\u001b[0m\u001b[1;33m\u001b[0m\u001b[0m\n\u001b[0;32m    170\u001b[0m             \u001b[1;32mreturn\u001b[0m \u001b[0mself\u001b[0m\u001b[1;33m.\u001b[0m\u001b[0m_accessor\u001b[0m\u001b[1;33m\u001b[0m\u001b[1;33m\u001b[0m\u001b[0m\n\u001b[1;32m--> 171\u001b[1;33m         \u001b[0maccessor_obj\u001b[0m \u001b[1;33m=\u001b[0m \u001b[0mself\u001b[0m\u001b[1;33m.\u001b[0m\u001b[0m_accessor\u001b[0m\u001b[1;33m(\u001b[0m\u001b[0mobj\u001b[0m\u001b[1;33m)\u001b[0m\u001b[1;33m\u001b[0m\u001b[1;33m\u001b[0m\u001b[0m\n\u001b[0m\u001b[0;32m    172\u001b[0m         \u001b[1;31m# Replace the property with the accessor object. Inspired by:\u001b[0m\u001b[1;33m\u001b[0m\u001b[1;33m\u001b[0m\u001b[1;33m\u001b[0m\u001b[0m\n\u001b[0;32m    173\u001b[0m         \u001b[1;31m# http://www.pydanny.com/cached-property.html\u001b[0m\u001b[1;33m\u001b[0m\u001b[1;33m\u001b[0m\u001b[1;33m\u001b[0m\u001b[0m\n",
      "\u001b[1;32m~\\Anaconda3\\lib\\site-packages\\pandas\\core\\indexes\\accessors.py\u001b[0m in \u001b[0;36m__new__\u001b[1;34m(cls, data)\u001b[0m\n\u001b[0;32m    322\u001b[0m             \u001b[1;32mpass\u001b[0m  \u001b[1;31m# we raise an attribute error anyway\u001b[0m\u001b[1;33m\u001b[0m\u001b[1;33m\u001b[0m\u001b[0m\n\u001b[0;32m    323\u001b[0m \u001b[1;33m\u001b[0m\u001b[0m\n\u001b[1;32m--> 324\u001b[1;33m         raise AttributeError(\"Can only use .dt accessor with datetimelike \"\n\u001b[0m\u001b[0;32m    325\u001b[0m                              \"values\")\n",
      "\u001b[1;31mAttributeError\u001b[0m: Can only use .dt accessor with datetimelike values"
     ]
    }
   ],
   "source": [
    "df133[\"year\"] =df130[\"Date_time\"].dt.year"
   ]
  },
  {
   "cell_type": "code",
   "execution_count": null,
   "metadata": {},
   "outputs": [],
   "source": [
    "df133.groupby([\"year\", \"country\"]).count()"
   ]
  },
  {
   "cell_type": "markdown",
   "metadata": {},
   "source": [
    "###### Q134. Write a pandas program to get the difference (in days) between documented date and reporting date of unidentified flying object (UFO)."
   ]
  },
  {
   "cell_type": "code",
   "execution_count": null,
   "metadata": {},
   "outputs": [],
   "source": [
    "df133.head()"
   ]
  },
  {
   "cell_type": "code",
   "execution_count": null,
   "metadata": {},
   "outputs": [],
   "source": [
    "## Dropping column Date_time_num\n",
    "del df133[\"Date_time_num\"]"
   ]
  },
  {
   "cell_type": "code",
   "execution_count": null,
   "metadata": {},
   "outputs": [],
   "source": [
    "df133.Date_time.dtype\n",
    "df133.date_documented =pd.to_datetime(df133.date_documented)\n",
    "df133.date_documented.dtype"
   ]
  },
  {
   "cell_type": "code",
   "execution_count": null,
   "metadata": {},
   "outputs": [],
   "source": [
    "df133.Date_diff=(df133.date_documented - df133.Date_time).dt.days\n",
    "df133.Date_diff.head()"
   ]
  },
  {
   "cell_type": "markdown",
   "metadata": {},
   "source": [
    "###### Q135. Write a pandas program to generate sequences of fixed- frequency dates and time spans."
   ]
  },
  {
   "cell_type": "code",
   "execution_count": null,
   "metadata": {},
   "outputs": [],
   "source": [
    "dtr_hourly = pd.date_range('2020-01-01', periods=12, freq='H')"
   ]
  },
  {
   "cell_type": "code",
   "execution_count": null,
   "metadata": {},
   "outputs": [],
   "source": [
    "dtr_hourly"
   ]
  },
  {
   "cell_type": "code",
   "execution_count": null,
   "metadata": {},
   "outputs": [],
   "source": [
    "dtr_minute = pd.date_range('2020-01-01', periods=12, freq='min')\n",
    "dtr_minute"
   ]
  },
  {
   "cell_type": "code",
   "execution_count": null,
   "metadata": {},
   "outputs": [],
   "source": [
    "dtr_2hour_freq = pd.date_range('2020-01-01', periods=13, freq='2H')\n",
    "dtr_2hour_freq"
   ]
  },
  {
   "cell_type": "markdown",
   "metadata": {},
   "source": [
    "###### Q136. Write a pandas program to manipulate and convert date times with timezone information."
   ]
  },
  {
   "cell_type": "code",
   "execution_count": null,
   "metadata": {},
   "outputs": [],
   "source": [
    "date_input = pd.to_datetime('2020-01-01 00:00:00')\n",
    "type(date_input)"
   ]
  },
  {
   "cell_type": "code",
   "execution_count": null,
   "metadata": {},
   "outputs": [],
   "source": [
    "date_input = date_input.tz_localize('UTC')"
   ]
  },
  {
   "cell_type": "code",
   "execution_count": null,
   "metadata": {
    "scrolled": false
   },
   "outputs": [],
   "source": [
    "## For checking time_zones:\n",
    "import pytz\n",
    "pytz.all_timezones[::20]"
   ]
  },
  {
   "cell_type": "code",
   "execution_count": null,
   "metadata": {},
   "outputs": [],
   "source": [
    "date_input.tz_convert('Asia/Kolkata')"
   ]
  },
  {
   "cell_type": "markdown",
   "metadata": {},
   "source": [
    "###### Q137. Write a pandas program to create the graphical analysis of UFO (unidentified flying object) Sightings year."
   ]
  },
  {
   "cell_type": "code",
   "execution_count": null,
   "metadata": {},
   "outputs": [],
   "source": [
    "df133.head()"
   ]
  },
  {
   "cell_type": "code",
   "execution_count": null,
   "metadata": {},
   "outputs": [],
   "source": [
    "import seaborn as sns\n",
    "import matplotlib.pyplot as plt\n",
    "%matplotlib inline "
   ]
  },
  {
   "cell_type": "code",
   "execution_count": null,
   "metadata": {},
   "outputs": [],
   "source": [
    "year_details =df133.year.value_counts()\n",
    "year_details"
   ]
  },
  {
   "cell_type": "code",
   "execution_count": null,
   "metadata": {},
   "outputs": [],
   "source": [
    "year_labels = year_details.index"
   ]
  },
  {
   "cell_type": "code",
   "execution_count": null,
   "metadata": {},
   "outputs": [],
   "source": [
    "year_count= year_details.get_values()"
   ]
  },
  {
   "cell_type": "code",
   "execution_count": null,
   "metadata": {},
   "outputs": [],
   "source": [
    "plt.xticks(rotation = 60)\n",
    "plt.title('UFO Sightings by Year') \n",
    "plt.xlabel(\"Year\") \n",
    "plt.ylabel(\"Number of reports\")\n",
    "sns.barplot(x=year_labels[:21], y=year_count[:21], palette='Greens')"
   ]
  },
  {
   "cell_type": "markdown",
   "metadata": {},
   "source": [
    "###### Q138. Write a pandas program to create a comparison of the top 10 years in which the (UFO) was sighted VS each Month."
   ]
  },
  {
   "cell_type": "code",
   "execution_count": null,
   "metadata": {},
   "outputs": [],
   "source": [
    "import pandas as pd\n",
    "#Source: https://bit.ly/1l9yjm9 \n",
    "most_sightings_years = df133['year'].value_counts().head(10) \n",
    "def is_top_years(year): \n",
    "    if year in most_sightings_years.index: \n",
    "        return year \n",
    "\n",
    "month_vs_year = df133.pivot_table(columns=df133['Date_time'].dt.month,\n",
    "                                  index=df133['year'].apply(is_top_years),aggfunc='count',values='city') \n",
    "month_vs_year"
   ]
  },
  {
   "cell_type": "code",
   "execution_count": null,
   "metadata": {},
   "outputs": [],
   "source": [
    "month_vs_year.index = month_vs_year.index.astype(int) \n",
    "month_vs_year.columns = month_vs_year.columns.astype(int)\n",
    "print(\"\\nComparison of the top 10 years in which the UFO was sighted vs each month:\\n\") \n",
    "print(month_vs_year)"
   ]
  },
  {
   "cell_type": "markdown",
   "metadata": {},
   "source": [
    "###### Q139. Write a pandas program to create a heatmap (rectangular data as a colour-encoded matrix) for comparison of top 10 years in which (UFO ) was sighted VS each Month."
   ]
  },
  {
   "cell_type": "code",
   "execution_count": null,
   "metadata": {},
   "outputs": [],
   "source": [
    "### Plotting heatmap using same data.\n",
    "import seaborn as sns\n",
    "import matplotlib.pyplot as plt\n",
    "%matplotlib inline\n",
    "print('Comparison of top 10 years in which (UFO) was sighted VS each Month.')\n",
    "plot = sns.heatmap(month_vs_year, vmin=100, vmax = 999, cmap='gist_heat_r' ) \n",
    "plot.set_xlabel('MONTH')\n",
    "plot.set_ylabel('YEAR')"
   ]
  },
  {
   "cell_type": "markdown",
   "metadata": {},
   "source": [
    "###### Q140. Write a pandas program to create a Timewheel of Hour VS Year comparison of the top 10 years in which the (UFO) was sighted"
   ]
  },
  {
   "cell_type": "code",
   "execution_count": null,
   "metadata": {},
   "outputs": [],
   "source": [
    "most_UFO_sighting_yr = df133.year.value_counts().head(10)\n",
    "most_UFO_sighting_yr"
   ]
  },
  {
   "cell_type": "code",
   "execution_count": null,
   "metadata": {},
   "outputs": [],
   "source": [
    "### Creating a check function\n",
    "def is_top10_years(year):\n",
    "    if year in most_UFO_sighting_yr.index:\n",
    "        return year\n",
    "hours_vs_year = df133.pivot_table(columns=df133.Date_time.dt.hour, index=df133.year.apply(is_top10_years), \n",
    "                                 aggfunc='count', values='city')\n",
    "hours_vs_year.index = hour_vs_year.index.astype('int')\n",
    "hours_vs_year.columns = hour_vs_year.columns.astype('int')"
   ]
  },
  {
   "cell_type": "code",
   "execution_count": null,
   "metadata": {},
   "outputs": [],
   "source": [
    "import seaborn as sns\n",
    "import matplotlib.pyplot as plt\n",
    "%matplotlib inline\n",
    "print('Timewheel of Hour VS Year comparison of the top 10 years in which the (UFO) was sighted\\n.')\n",
    "plot = sns.heatmap(hours_vs_year, cmap='gist_heat_r' ) \n",
    "plot.set_xlabel('HOURS')\n",
    "plot.set_ylabel('YEAR')"
   ]
  },
  {
   "cell_type": "code",
   "execution_count": 1,
   "metadata": {},
   "outputs": [
    {
     "ename": "NameError",
     "evalue": "name 'df133' is not defined",
     "output_type": "error",
     "traceback": [
      "\u001b[1;31m---------------------------------------------------------------------------\u001b[0m",
      "\u001b[1;31mNameError\u001b[0m                                 Traceback (most recent call last)",
      "\u001b[1;32m<ipython-input-1-f44312d36cb4>\u001b[0m in \u001b[0;36m<module>\u001b[1;34m\u001b[0m\n\u001b[0;32m      4\u001b[0m \u001b[1;32mimport\u001b[0m \u001b[0mmatplotlib\u001b[0m \u001b[1;32mas\u001b[0m \u001b[0mmpl\u001b[0m\u001b[1;33m\u001b[0m\u001b[1;33m\u001b[0m\u001b[0m\n\u001b[0;32m      5\u001b[0m \u001b[1;32mimport\u001b[0m \u001b[0mmatplotlib\u001b[0m\u001b[1;33m.\u001b[0m\u001b[0mcm\u001b[0m \u001b[1;32mas\u001b[0m \u001b[0mcm\u001b[0m\u001b[1;33m\u001b[0m\u001b[1;33m\u001b[0m\u001b[0m\n\u001b[1;32m----> 6\u001b[1;33m \u001b[0mmost_sightings_years\u001b[0m \u001b[1;33m=\u001b[0m \u001b[0mdf133\u001b[0m\u001b[1;33m[\u001b[0m\u001b[1;34m'Date_time'\u001b[0m\u001b[1;33m]\u001b[0m\u001b[1;33m.\u001b[0m\u001b[0mdt\u001b[0m\u001b[1;33m.\u001b[0m\u001b[0myear\u001b[0m\u001b[1;33m.\u001b[0m\u001b[0mvalue_counts\u001b[0m\u001b[1;33m(\u001b[0m\u001b[1;33m)\u001b[0m\u001b[1;33m.\u001b[0m\u001b[0mhead\u001b[0m\u001b[1;33m(\u001b[0m\u001b[1;36m10\u001b[0m\u001b[1;33m)\u001b[0m\u001b[1;33m\u001b[0m\u001b[1;33m\u001b[0m\u001b[0m\n\u001b[0m\u001b[0;32m      7\u001b[0m \u001b[1;32mdef\u001b[0m \u001b[0mis_top_years\u001b[0m\u001b[1;33m(\u001b[0m\u001b[0myear\u001b[0m\u001b[1;33m)\u001b[0m\u001b[1;33m:\u001b[0m\u001b[1;33m\u001b[0m\u001b[1;33m\u001b[0m\u001b[0m\n\u001b[0;32m      8\u001b[0m     \u001b[1;32mif\u001b[0m \u001b[0myear\u001b[0m \u001b[1;32min\u001b[0m \u001b[0mmost_sightings_years\u001b[0m\u001b[1;33m.\u001b[0m\u001b[0mindex\u001b[0m\u001b[1;33m:\u001b[0m\u001b[1;33m\u001b[0m\u001b[1;33m\u001b[0m\u001b[0m\n",
      "\u001b[1;31mNameError\u001b[0m: name 'df133' is not defined"
     ]
    }
   ],
   "source": [
    "## Method seen in websites w3resource\n",
    "import pandas as pd \n",
    "import matplotlib.pyplot as plt \n",
    "import matplotlib as mpl \n",
    "import matplotlib.cm as cm\n",
    "most_sightings_years = df133['Date_time'].dt.year.value_counts().head(10) \n",
    "def is_top_years(year):\n",
    "    if year in most_sightings_years.index:\n",
    "        return year\n",
    "month_vs_year = df133.pivot_table(columns=df133['Date_time'].dt.month,index=df133['Date_time'].dt.year.apply(is_top_years),\n",
    "                               aggfunc='count',values='city')\n",
    "month_vs_year.index = month_vs_year.index.astype(int) \n",
    "month_vs_year.columns = month_vs_year.columns.astype(int)\n",
    "print(\"\\nComparison of the top 10 years in which the UFO was sighted vs each month:\")\n",
    "\n",
    "def pie_heatmap(table, cmap='gist_heat_r', vmin=None, vmax=None,inner_r=0.25, pie_args={}): \n",
    "    n, m = table.shape \n",
    "    vmin= table.min().min() if vmin is None else vmin \n",
    "    vmax= table.max().max() if vmax is None else vmax\n",
    "    centre_circle = plt.Circle((0,0),inner_r,edgecolor='black',facecolor='white',fill=True,linewidth=0.25)\n",
    "    plt.gcf().gca().add_artist(centre_circle)\n",
    "    norm = mpl.colors.Normalize(vmin=vmin, vmax=vmax)\n",
    "    cmapper = cm.ScalarMappable(norm=norm, cmap=cmap)\n",
    "    for i, (row_name, row) in enumerate(table.iterrows()):\n",
    "        labels = None if i > 0 else table.columns\n",
    "        wedges = plt.pie([1] * m,radius=inner_r+float(n-i)/n, colors=[cmapper.to_rgba(x) for x in row.values],\n",
    "           labels=labels, startangle=90, counterclock=False, wedgeprops={'linewidth':-1}, **pie_args)\n",
    "        plt.setp(wedges[0], edgecolor='grey',linewidth=1.5)\n",
    "        wedges = plt.pie([1], radius=inner_r+float(n-i-1)/n, colors=['w'], labels=[row_name], startangle=-90, \n",
    "                         wedgeprops={'linewidth':0})\n",
    "        plt.setp(wedges[0], edgecolor='grey',linewidth=1.5)\n",
    "plt.figure(figsize=(8,8))\n",
    "plt.title(\"Timewheel of Hour Vs Year\",y=1.08,fontsize=30)\n",
    "pie_heatmap(month_vs_year, inner_r=0.2)"
   ]
  },
  {
   "cell_type": "markdown",
   "metadata": {},
   "source": [
    "###### Q141. Write a python program to draw the line using given axis values with the suitable label in the x-axis, y-axis, and a title."
   ]
  },
  {
   "cell_type": "code",
   "execution_count": null,
   "metadata": {},
   "outputs": [],
   "source": [
    "## Creating x values as per the question:\n",
    "x = [1,2,3]\n",
    "### Creating y values:\n",
    "y = [2,4,1]\n",
    "plt.plot(x,y)\n",
    "plt.xlabel('x-axis')\n",
    "plt.ylabel('y-axis')\n",
    "plt.title('Sample graph!')"
   ]
  },
  {
   "cell_type": "markdown",
   "metadata": {},
   "source": [
    "###### Q142. Write a python program to draw the line charts of the financial data of the Alphabet Inc., between October."
   ]
  },
  {
   "cell_type": "code",
   "execution_count": null,
   "metadata": {},
   "outputs": [],
   "source": [
    "df142= pd.read_table('fdata.txt', sep = ',', index_col = 0)\n",
    "df142"
   ]
  },
  {
   "cell_type": "code",
   "execution_count": null,
   "metadata": {},
   "outputs": [],
   "source": [
    "### Here plt.show() is not required as we have already mentioned %matplotlib inline\n",
    "df142.plot()"
   ]
  },
  {
   "cell_type": "markdown",
   "metadata": {},
   "source": [
    "###### Q143. Write a Python program to plot two or more lines on same plot with the suitable legends of each line."
   ]
  },
  {
   "cell_type": "code",
   "execution_count": null,
   "metadata": {},
   "outputs": [],
   "source": [
    "## Creating x values"
   ]
  },
  {
   "cell_type": "code",
   "execution_count": null,
   "metadata": {},
   "outputs": [],
   "source": [
    "# line 1 points \n",
    "x1 = [10,20,30] \n",
    "y1 = [20,40,10]\n",
    "# plotting the line 1 points \n",
    "plt.plot(x1, y1, label = \"line 1\")\n",
    "# line 2 points \n",
    "x2 = [10,20,30] \n",
    "y2 = [40,10,30]\n",
    "# plotting the line 2 points \n",
    "plt.plot(x2, y2, label = \"line 2\") \n",
    "plt.xlabel('x - axis')\n",
    "# Set the y axis label of the current axis. \n",
    "plt.ylabel('y - axis')\n",
    "# Set a title of the current axes. \n",
    "plt.title('Two or more lines on same plot with suitable legends')\n",
    "# show a legend on the plot \n",
    "plt.legend()"
   ]
  },
  {
   "cell_type": "markdown",
   "metadata": {},
   "source": [
    "###### Q144. Write a python programming to display a bar chart of the popularity of programming languages."
   ]
  },
  {
   "cell_type": "code",
   "execution_count": null,
   "metadata": {},
   "outputs": [],
   "source": [
    "df144 =  pd.DataFrame({'programming_languages': ['Java', 'Python', 'PHP', 'JavaScript', 'C#', 'C++'], \n",
    "                       'Popularity': [22.2,17.6,8.8,8,7.7,6.7]})\n",
    "df144"
   ]
  },
  {
   "cell_type": "code",
   "execution_count": null,
   "metadata": {},
   "outputs": [],
   "source": [
    "df144.iloc[:,0]"
   ]
  },
  {
   "cell_type": "code",
   "execution_count": null,
   "metadata": {},
   "outputs": [],
   "source": [
    "plt.title(\"PopularitY of Programming Language\\n\" + \"Worldwide, Oct 2017 compared to a year ago\")\n",
    "plt.grid(which='major', linestyle='-', linewidth='0.5', color='red')\n",
    "# Customize the minor grid \n",
    "plt.grid(which='minor', linestyle=':', linewidth='0.5', color='black')\n",
    "sns.barplot(x='programming_languages', y='Popularity', color='#2828DE', data=df144)\n",
    "plt.xlabel(\"languages\")"
   ]
  },
  {
   "cell_type": "code",
   "execution_count": null,
   "metadata": {},
   "outputs": [],
   "source": [
    "x = ['Java', 'Python', 'PHP', 'JavaScript', 'C#', 'C++'] \n",
    "popularity = [22.2, 17.6, 8.8, 8, 7.7, 6.7] \n",
    "x_pos = [i for i, _ in enumerate(x)]\n",
    "x_pos"
   ]
  },
  {
   "cell_type": "code",
   "execution_count": null,
   "metadata": {},
   "outputs": [],
   "source": [
    "## Code from the solution\n",
    "x = ['Java', 'Python', 'PHP', 'JavaScript', 'C#', 'C++'] \n",
    "popularity = [22.2, 17.6, 8.8, 8, 7.7, 6.7] \n",
    "x_pos = [i for i, _ in enumerate(x)] \n",
    "plt.bar(x_pos, popularity, color='blue') \n",
    "plt.xlabel(\"Languages\") \n",
    "plt.ylabel(\"Popularity\") \n",
    "plt.title(\"Popularity of Programming Language\\n\" + \"Worldwide, Oct 2017 compared to a year ago\") \n",
    "plt.xticks(x_pos, x)\n",
    "# Turn on the grid \n",
    "plt.minorticks_on() \n",
    "plt.grid(which='major', linestyle='-', linewidth='0.5', color='red')\n",
    "# Customize the minor grid \n",
    "plt.grid(which='minor', linestyle=':', linewidth='0.5', color='black')"
   ]
  },
  {
   "cell_type": "markdown",
   "metadata": {},
   "source": [
    "###### Q145. Write a python programming to display a horizontal bar chart of the popularity of programming languages."
   ]
  },
  {
   "cell_type": "code",
   "execution_count": null,
   "metadata": {},
   "outputs": [],
   "source": [
    "## Code from the solution\n",
    "x = ['Java', 'Python', 'PHP', 'JavaScript', 'C#', 'C++'] \n",
    "popularity = [22.2, 17.6, 8.8, 8, 7.7, 6.7] \n",
    "x_pos = [i for i, _ in enumerate(x)] \n",
    "plt.barh(x_pos, popularity, color='green') \n",
    "plt.ylabel(\"Languages\") \n",
    "plt.xlabel(\"Popularity\") \n",
    "plt.title(\"Popularity of Programming Language\\n\" + \"Worldwide, Oct 2017 compared to a year ago\") \n",
    "plt.yticks(x_pos, x)\n",
    "# Turn on the grid \n",
    "plt.minorticks_on() \n",
    "plt.grid(which='major', linestyle='-', linewidth='0.5', color='red')\n",
    "# Customize the minor grid \n",
    "plt.grid(which='minor', linestyle=':', linewidth='0.5', color='black')"
   ]
  },
  {
   "cell_type": "markdown",
   "metadata": {},
   "source": [
    "###### Q146. Write a python programming to display a bar chart of the Popularity of programming languages. Increase bottom margin."
   ]
  },
  {
   "cell_type": "code",
   "execution_count": null,
   "metadata": {},
   "outputs": [],
   "source": [
    "x = ['Java', 'Python', 'PHP', 'JavaScript', 'C#', 'C++'] \n",
    "popularity = [22.2, 17.6, 8.8, 8, 7.7, 6.7] \n",
    "x_pos = [i for i, _ in enumerate(x)] \n",
    "plt.bar(x_pos, popularity, color=\"blue\") \n",
    "plt.xlabel(\"Languages\") \n",
    "plt.ylabel(\"Popularity\") \n",
    "plt.title(\"PopularitY of Programming Language\\n\" + \"Worldwide, Oct 2017 compared to a year ago\")\n",
    "# Rotation of the bars names \n",
    "plt.xticks(x_pos, x, rotation=90)\n",
    "# Custom the subplot layout \n",
    "plt.subplots_adjust(bottom=0.4, top=.8)\n",
    "# Turn on the grid \n",
    "plt.minorticks_on() \n",
    "plt.grid(which='major', linestyle='-', linewidth='0.5', color='red')\n",
    "# Customize the minor grid \n",
    "plt.grid(which='minor', linestyle=':', linewidth='0.5', color='black')"
   ]
  },
  {
   "cell_type": "code",
   "execution_count": null,
   "metadata": {},
   "outputs": [],
   "source": [
    "print(list(enumerate(x)))"
   ]
  },
  {
   "cell_type": "markdown",
   "metadata": {},
   "source": [
    "###### Q147. Write a python program to create the bar plot from a DataFrame"
   ]
  },
  {
   "cell_type": "code",
   "execution_count": null,
   "metadata": {
    "scrolled": true
   },
   "outputs": [],
   "source": [
    "import numpy as np \n",
    "import pandas as pd\n",
    "input_array = np.array([[4,8,5,7,6], [2,3,4,2,6], [4,7,4,7,8], [2,6,4,8,6], [2,4,3,3,2]])\n",
    "df147 = pd.DataFrame(input_array, columns=['a','b','c','d','e'])\n",
    "df147"
   ]
  },
  {
   "cell_type": "code",
   "execution_count": null,
   "metadata": {},
   "outputs": [],
   "source": [
    "df147.plot(kind='bar')\n",
    "plt.minorticks_on() \n",
    "plt.grid(which='minor', linestyle = ':', linewidth = '0.5', color = 'black')\n",
    "plt.grid(which='major', linestyle = '-', linewidth = '0.5', color = 'green')"
   ]
  },
  {
   "cell_type": "code",
   "execution_count": null,
   "metadata": {
    "scrolled": true
   },
   "outputs": [],
   "source": [
    "### Using seaborn\n",
    "df147_new= df147.reset_index()\n",
    "df147_new=df147_new.melt('index', var_name='cols',  value_name='vals')\n",
    "sns.barplot(data=df147_new, x='index', y='vals', hue ='cols'  )\n",
    "plt.minorticks_on() \n",
    "plt.grid(which='minor', linestyle = ':', linewidth = '0.5', color = 'black')\n",
    "plt.grid(which='major', linestyle = '-', linewidth = '0.5', color = 'green')"
   ]
  },
  {
   "cell_type": "markdown",
   "metadata": {},
   "source": [
    "###### Q148. Write a python program to draw the scatter plot comparing two subject marks of Mathematics and Science. Use marks of 10 students."
   ]
  },
  {
   "cell_type": "raw",
   "metadata": {},
   "source": [
    "Sample data: Test Data- \n",
    "math_marks = [88, 92 , 80, 89, 100, 80, 60, 100, 80, 34] \n",
    "science_marks = [35, 79, 79 , 48, 100, 88, 32, 45, 20, 30] \n",
    "marks_range = [10, 20, 30, 40, 50, 60, 70, 80, 90, 100]"
   ]
  },
  {
   "cell_type": "code",
   "execution_count": null,
   "metadata": {},
   "outputs": [],
   "source": [
    "df148 = pd.DataFrame({'Math marks': [88, 92 , 80, 89, 100, 80, 60, 100, 80, 34],\n",
    "                     'Science marks':[35, 79, 79 , 48, 100, 88, 32, 45, 20, 30],\n",
    "                     'marks_range' : [10, 20, 30, 40, 50, 60, 70, 80, 90, 100]})"
   ]
  },
  {
   "cell_type": "code",
   "execution_count": null,
   "metadata": {},
   "outputs": [],
   "source": [
    "df148_new=df148.melt(id_vars='marks_range', var_name='Subjects',value_name='marks')"
   ]
  },
  {
   "cell_type": "code",
   "execution_count": null,
   "metadata": {},
   "outputs": [],
   "source": [
    "ax= sns.scatterplot(data=df148_new, x='marks_range', y='marks', hue='Subjects', palette=['red', 'green'])\n",
    "ax.legend(loc='center left')\n",
    "plt.title('Scatter Plot')"
   ]
  },
  {
   "cell_type": "code",
   "execution_count": null,
   "metadata": {},
   "outputs": [],
   "source": [
    "### Code from solutions\n",
    "math_marks = [88, 92, 80, 89, 100, 80, 60, 100, 80, 34] \n",
    "science_marks = [35, 79, 79, 48, 100, 88, 32, 45, 20, 30] \n",
    "marks_range = [10, 20, 30, 40, 50, 60, 70, 80, 90, 100] \n",
    "plt.scatter(marks_range, math_marks, label='Math marks', color='r') \n",
    "plt.scatter(marks_range, science_marks, label='Science marks', color='g') \n",
    "plt.title('Scatter Plot') \n",
    "plt.xlabel('Marks Range') \n",
    "plt.ylabel('Marks Scored') \n",
    "plt.legend() \n",
    "plt.show()"
   ]
  },
  {
   "cell_type": "markdown",
   "metadata": {},
   "source": [
    "###### Q149. Write a python program to draw the scatter plot for three different groups comparing weights and heights."
   ]
  },
  {
   "cell_type": "code",
   "execution_count": null,
   "metadata": {},
   "outputs": [],
   "source": [
    "import matplotlib.pyplot as plt \n",
    "import numpy as np \n",
    "weight1=[67,57.2,59.6,59.64,55.8,61.2,60.45,61,56.23,56] \n",
    "height1=[101.7,197.6,98.3,125.1,113.7,157.7,136,148.9,125.3,114.9] \n",
    "weight2=[61.9,64,62.1,64.2,62.3,65.4,62.4,61.4,62.5,63.6] \n",
    "height2=[152.8,155.3,135.1,125.2,151.3,135,182.2,195.9,165.1,125.1]\n",
    "weight3=[68.2,67.2,68.4,68.7,71,71.3,70.8,70,71.1,71.7] \n",
    "height3=[165.8,170.9,192.8,135.4,161.4,136.1,167.1,235.1,181.1,177.3] \n",
    "plt.scatter(x= weight1, y=height1, color='red')\n",
    "plt.scatter(x= weight2, y=height2, color='green')\n",
    "plt.scatter(x= weight3, y=height3, color='blue')\n",
    "plt.xlabel('weight')\n",
    "plt.ylabel('height')\n",
    "plt.title('Group wise Weight vs Height scatter plot',fontsize=20) "
   ]
  },
  {
   "cell_type": "markdown",
   "metadata": {},
   "source": [
    "###### Q150. Write a python program to draw a scatter plot to find sea-level rise in past 100 years."
   ]
  },
  {
   "attachments": {
    "image.png": {
     "image/png": "[encoded data removed]"
    }
   },
   "cell_type": "markdown",
   "metadata": {},
   "source": [
    "![image.png](attachment:image.png)"
   ]
  },
  {
   "cell_type": "markdown",
   "metadata": {},
   "source": [
    "No data provided."
   ]
  },
  {
   "cell_type": "code",
   "execution_count": null,
   "metadata": {},
   "outputs": [],
   "source": []
  }
 ],
 "metadata": {
  "colab": {
   "collapsed_sections": [],
   "name": "Python subjective.ipynb",
   "provenance": []
  },
  "kernelspec": {
   "display_name": "Python 3",
   "language": "python",
   "name": "python3"
  },
  "language_info": {
   "codemirror_mode": {
    "name": "ipython",
    "version": 3
   },
   "file_extension": ".py",
   "mimetype": "text/x-python",
   "name": "python",
   "nbconvert_exporter": "python",
   "pygments_lexer": "ipython3",
   "version": "3.7.3"
  }
 },
 "nbformat": 4,
 "nbformat_minor": 1
}
